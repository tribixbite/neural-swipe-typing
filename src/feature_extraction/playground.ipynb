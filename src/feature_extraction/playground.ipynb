{
 "cells": [
  {
   "cell_type": "code",
   "execution_count": null,
   "id": "22a0c1d5",
   "metadata": {},
   "outputs": [],
   "source": [
    "%load_ext autoreload\n",
    "%autoreload 2\n",
    "\n",
    "import sys; sys.path.append('..')"
   ]
  },
  {
   "cell_type": "code",
   "execution_count": 3,
   "id": "052b055b",
   "metadata": {},
   "outputs": [],
   "source": [
    "import torch\n",
    "\n",
    "from feature_extraction.swipe_feature_extractors import (\n",
    "    MultiFeatureExtractor, \n",
    "    SwipeFeatureExtractor, \n",
    "    KeyWeightsFeatureExtractor, \n",
    "    NearestKeyFeatureExtractor, \n",
    "    TrajectoryFeatureExtractor, \n",
    "    KeyDistancesFeatureExtractor)\n",
    "from ns_tokenizers import KeyboardTokenizerv1, ALL_CYRILLIC_LETTERS_ALPHABET_ORD\n",
    "from feature_extraction.nearest_key_lookup import NearestKeyLookup\n",
    "from grid_processing_utils import get_grid"
   ]
  },
  {
   "cell_type": "code",
   "execution_count": null,
   "id": "c43e29d6",
   "metadata": {},
   "outputs": [],
   "source": [
    "#### CONFIGURATION ####\n",
    "\n",
    "GRIDS_PATH = \"../../data/data_preprocessed/gridname_to_grid.json\"\n",
    "GRID_NAME = \"default\"\n",
    "\n",
    "\n",
    "#### Create all resources for feature extractors ####\n",
    "\n",
    "grid = get_grid(grid_name=GRID_NAME, grids_path=GRIDS_PATH)\n",
    "nearest_key_candidates = ALL_CYRILLIC_LETTERS_ALPHABET_ORD\n",
    "nearest_key_lookup = NearestKeyLookup(grid=grid, nearest_key_candidates=nearest_key_candidates)\n",
    "keyboard_tokenizer = KeyboardTokenizerv1()"
   ]
  },
  {
   "cell_type": "code",
   "execution_count": 18,
   "id": "1d2adb8a",
   "metadata": {},
   "outputs": [],
   "source": [
    "### Example data for feature extractors ###\n",
    "\n",
    "x = torch.tensor([1, 100, 200], dtype=torch.int32)\n",
    "y = torch.tensor([10, 20, 30], dtype=torch.int32)\n",
    "t = torch.tensor([0, 46, 64, 86], dtype=torch.int32)"
   ]
  },
  {
   "cell_type": "code",
   "execution_count": 19,
   "id": "46a3c049",
   "metadata": {},
   "outputs": [],
   "source": [
    "nearest_key_extractor = NearestKeyFeatureExtractor(\n",
    "    nearest_key_lookup=nearest_key_lookup, \n",
    "    keyboard_tokenizer=keyboard_tokenizer)"
   ]
  },
  {
   "cell_type": "code",
   "execution_count": null,
   "id": "961ce655",
   "metadata": {},
   "outputs": [
    {
     "data": {
      "text/plain": [
       "True"
      ]
     },
     "execution_count": 20,
     "metadata": {},
     "output_type": "execute_result"
    }
   ],
   "source": [
    "nearest_key_result = nearest_key_extractor(x, y, t)[0]\n",
    "expected_nearest_key_result = torch.tensor(\n",
    "    [\n",
    "        keyboard_tokenizer.get_token('й'),\n",
    "        keyboard_tokenizer.get_token('ц'),\n",
    "        keyboard_tokenizer.get_token('у'),\n",
    "    ],\n",
    "    dtype=torch.int32\n",
    ")\n",
    "\n",
    "torch.equal(\n",
    "    nearest_key_result, expected_nearest_key_result\n",
    ")"
   ]
  },
  {
   "cell_type": "code",
   "execution_count": null,
   "id": "9596683b",
   "metadata": {},
   "outputs": [],
   "source": []
  }
 ],
 "metadata": {
  "kernelspec": {
   "display_name": "Python 3",
   "language": "python",
   "name": "python3"
  },
  "language_info": {
   "codemirror_mode": {
    "name": "ipython",
    "version": 3
   },
   "file_extension": ".py",
   "mimetype": "text/x-python",
   "name": "python",
   "nbconvert_exporter": "python",
   "pygments_lexer": "ipython3",
   "version": "3.11.5"
  }
 },
 "nbformat": 4,
 "nbformat_minor": 5
}
