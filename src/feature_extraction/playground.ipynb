{
 "cells": [
  {
   "cell_type": "code",
   "execution_count": 1,
   "id": "22a0c1d5",
   "metadata": {},
   "outputs": [],
   "source": [
    "%load_ext autoreload\n",
    "%autoreload 2\n",
    "\n",
    "import sys; sys.path.append('..')"
   ]
  },
  {
   "cell_type": "code",
   "execution_count": null,
   "id": "052b055b",
   "metadata": {},
   "outputs": [],
   "source": [
    "import torch\n",
    "\n",
    "from feature_extraction.swipe_feature_extractors import (\n",
    "    MultiFeatureExtractor, \n",
    "    KeyWeightsFeatureExtractor, \n",
    "    NearestKeyFeatureExtractor, \n",
    "    TrajectoryFeatureExtractor, \n",
    "    KeyDistancesFeatureExtractor)\n",
    "from feature_extraction.key_weights_functions import (\n",
    "    weights_function_v1,\n",
    "    weights_function_v1_softmax,\n",
    "    weights_function_sigmoid_normalized_v1,)\n",
    "from ns_tokenizers import KeyboardTokenizerv1, ALL_CYRILLIC_LETTERS_ALPHABET_ORD\n",
    "from feature_extraction.nearest_key_lookup import NearestKeyLookup\n",
    "from feature_extraction.distances_lookup import DistancesLookup\n",
    "from grid_processing_utils import get_grid\n",
    "from feature_extraction_utils import get_avg_half_key_diag"
   ]
  },
  {
   "cell_type": "code",
   "execution_count": 3,
   "id": "c43e29d6",
   "metadata": {},
   "outputs": [],
   "source": [
    "#### CONFIGURATION ####\n",
    "\n",
    "GRIDS_PATH = \"../../data/data_preprocessed/gridname_to_grid.json\"\n",
    "GRID_NAME = \"default\"\n",
    "\n",
    "\n",
    "#### Create all resources for feature extractors ####\n",
    "\n",
    "grid = get_grid(grid_name=GRID_NAME, grids_path=GRIDS_PATH)\n",
    "nearest_key_candidates = kb_key_list = ALL_CYRILLIC_LETTERS_ALPHABET_ORD\n",
    "weights_function=weights_function_v1\n",
    "distances_lookup = DistancesLookup(grid=grid, kb_key_list=kb_key_list)\n",
    "nearest_key_lookup = NearestKeyLookup(grid=grid, nearest_key_candidates=nearest_key_candidates)\n",
    "keyboard_tokenizer = KeyboardTokenizerv1()\n",
    "half_key_diag = get_avg_half_key_diag(grid=grid, allowed_keys=kb_key_list)"
   ]
  },
  {
   "cell_type": "code",
   "execution_count": 4,
   "id": "1d2adb8a",
   "metadata": {},
   "outputs": [],
   "source": [
    "### Example data for feature extractors ###\n",
    "\n",
    "x = torch.tensor([1, 100, 200, 305], dtype=torch.float32)\n",
    "y = torch.tensor([10, 20, 30, 20], dtype=torch.float32)\n",
    "t = torch.tensor([0, 46, 64, 100], dtype=torch.float32)"
   ]
  },
  {
   "cell_type": "code",
   "execution_count": 5,
   "id": "46a3c049",
   "metadata": {},
   "outputs": [],
   "source": [
    "nearest_key_extractor = NearestKeyFeatureExtractor(\n",
    "    nearest_key_lookup=nearest_key_lookup, \n",
    "    keyboard_tokenizer=keyboard_tokenizer)\n",
    "\n",
    "distances_extractor = KeyDistancesFeatureExtractor(\n",
    "    distances_lookup=distances_lookup)\n",
    "\n",
    "trajectory_feats_extractor = TrajectoryFeatureExtractor(\n",
    "    include_dt=True,\n",
    "    include_velocities=True,\n",
    "    include_accelerations=True,\n",
    "    coordinate_normalizer=lambda x, y: (x, y),\n",
    "    dt_normalizer=lambda x: x,\n",
    "    velocities_normalizer=lambda x, y: (x, y),\n",
    "    accelerations_normalizer=lambda x, y: (x, y),\n",
    ")\n",
    "\n",
    "key_weights_extractor = KeyWeightsFeatureExtractor(\n",
    "    distances_lookup=distances_lookup,\n",
    "    half_key_diag=half_key_diag,\n",
    "    weights_function=weights_function)\n",
    "\n",
    "traj_feats_and_nearest_key_extractor = MultiFeatureExtractor(\n",
    "    extractors=[trajectory_feats_extractor, nearest_key_extractor]\n",
    ")\n",
    "\n",
    "traj_feats_and_nearest_key_extractor = MultiFeatureExtractor(\n",
    "    extractors=[trajectory_feats_extractor, nearest_key_extractor]\n",
    ")"
   ]
  },
  {
   "cell_type": "code",
   "execution_count": 17,
   "id": "961ce655",
   "metadata": {},
   "outputs": [
    {
     "name": "stdout",
     "output_type": "stream",
     "text": [
      "Warning: Casting tensors of types [torch.float32, torch.float32] to torch.int32.\n"
     ]
    },
    {
     "data": {
      "text/plain": [
       "True"
      ]
     },
     "execution_count": 17,
     "metadata": {},
     "output_type": "execute_result"
    }
   ],
   "source": [
    "nearest_key_result = nearest_key_extractor(x, y, t)[0]\n",
    "expected_nearest_key_result = torch.tensor(\n",
    "    [\n",
    "        keyboard_tokenizer.get_token('й'),\n",
    "        keyboard_tokenizer.get_token('ц'),\n",
    "        keyboard_tokenizer.get_token('у'),\n",
    "        keyboard_tokenizer.get_token('к'),\n",
    "    ],\n",
    "    dtype=torch.int32\n",
    ")\n",
    "\n",
    "torch.equal(\n",
    "    nearest_key_result, expected_nearest_key_result\n",
    ")"
   ]
  },
  {
   "cell_type": "code",
   "execution_count": 19,
   "id": "9596683b",
   "metadata": {},
   "outputs": [
    {
     "name": "stdout",
     "output_type": "stream",
     "text": [
      "Warning: Casting tensors of types [torch.float32, torch.float32] to torch.int32.\n"
     ]
    },
    {
     "data": {
      "text/plain": [
       "True"
      ]
     },
     "execution_count": 19,
     "metadata": {},
     "output_type": "execute_result"
    }
   ],
   "source": [
    "distances_result = distances_extractor(x, y, t)[0]\n",
    "distances_result.shape == (x.shape[0], len(kb_key_list))"
   ]
  },
  {
   "cell_type": "code",
   "execution_count": 20,
   "id": "2142978a",
   "metadata": {},
   "outputs": [
    {
     "data": {
      "text/plain": [
       "tensor([[ 4.1635e+02,  9.0712e+02,  3.4018e+02,  6.4226e+02,  8.6675e+02,\n",
       "          4.4856e+02, -1.0000e+00,  9.6142e+02,  9.3560e+02,  6.6530e+02,\n",
       "          9.5016e+01,  3.5267e+02,  7.7196e+02,  5.9171e+02,  5.4520e+02,\n",
       "          6.7931e+02,  5.0018e+02,  5.8840e+02,  5.2536e+02,  7.4265e+02,\n",
       "          2.5836e+02,  2.4083e+02,  1.0333e+03,  1.6745e+02,  4.6762e+02,\n",
       "          7.3956e+02,  8.3802e+02, -1.0000e+00,  2.7751e+02,  8.2412e+02,\n",
       "          1.0567e+03,  9.9281e+02,  4.2347e+02],\n",
       "        [ 3.3258e+02,  8.1413e+02,  2.6906e+02,  5.4280e+02,  7.6896e+02,\n",
       "          3.4950e+02, -1.0000e+00,  8.6311e+02,  8.3611e+02,  5.8138e+02,\n",
       "          8.8233e+01,  2.5440e+02,  6.7496e+02,  5.1392e+02,  4.4585e+02,\n",
       "          5.8354e+02,  4.0993e+02,  4.9465e+02,  4.5652e+02,  6.5459e+02,\n",
       "          1.6279e+02,  2.3168e+02,  9.3378e+02,  8.5983e+01,  4.1192e+02,\n",
       "          6.4006e+02,  7.3852e+02, -1.0000e+00,  2.3084e+02,  7.3316e+02,\n",
       "          9.5804e+02,  8.9833e+02,  3.8569e+02],\n",
       "        [ 2.5960e+02,  7.2201e+02,  2.2084e+02,  4.4237e+02,  6.7073e+02,\n",
       "          2.4982e+02, -1.0000e+00,  7.6416e+02,  7.3562e+02,  5.0249e+02,\n",
       "          1.6323e+02,  1.5678e+02,  5.7789e+02,  4.4432e+02,  3.4561e+02,\n",
       "          4.8836e+02,  3.2438e+02,  4.0281e+02,  4.0039e+02,  5.6955e+02,\n",
       "          7.7201e+01,  2.6355e+02,  8.3331e+02,  8.1566e+01,  3.7467e+02,\n",
       "          5.3957e+02,  6.3802e+02, -1.0000e+00,  2.2241e+02,  6.4392e+02,\n",
       "          8.5861e+02,  8.0417e+02,  3.7156e+02],\n",
       "        [ 2.2934e+02,  6.4002e+02,  2.3357e+02,  3.4069e+02,  5.7617e+02,\n",
       "          1.5477e+02, -1.0000e+00,  6.6743e+02,  6.3211e+02,  4.4679e+02,\n",
       "          2.6593e+02,  8.1884e+01,  4.8666e+02,  4.0532e+02,  2.4578e+02,\n",
       "          4.0245e+02,  2.6428e+02,  3.2604e+02,  3.8302e+02,  5.0198e+02,\n",
       "          9.3086e+01,  3.4148e+02,  7.2956e+02,  1.7363e+02,  3.8277e+02,\n",
       "          4.3697e+02,  5.3487e+02, -1.0000e+00,  2.7575e+02,  5.6788e+02,\n",
       "          7.6036e+02,  7.1783e+02,  4.0462e+02]])"
      ]
     },
     "execution_count": 20,
     "metadata": {},
     "output_type": "execute_result"
    }
   ],
   "source": [
    "distances_result"
   ]
  },
  {
   "cell_type": "code",
   "execution_count": 21,
   "id": "f3593c93",
   "metadata": {},
   "outputs": [
    {
     "data": {
      "text/plain": [
       "tensor([[ 1.0000e+00,  1.0000e+01,  0.0000e+00,  0.0000e+00,  0.0000e+00,\n",
       "          0.0000e+00,  0.0000e+00],\n",
       "        [ 1.0000e+02,  2.0000e+01,  4.6000e+01,  3.1094e+00,  3.1250e-01,\n",
       "          5.9317e-02,  0.0000e+00],\n",
       "        [ 2.0000e+02,  3.0000e+01,  1.8000e+01,  3.7963e+00,  0.0000e+00,\n",
       "         -5.7581e-02, -5.7870e-03],\n",
       "        [ 3.0500e+02,  2.0000e+01,  3.6000e+01,  0.0000e+00,  0.0000e+00,\n",
       "          0.0000e+00,  0.0000e+00]])"
      ]
     },
     "execution_count": 21,
     "metadata": {},
     "output_type": "execute_result"
    }
   ],
   "source": [
    "trajectory_feats_extractor_result = trajectory_feats_extractor(x, y, t)[0]\n",
    "trajectory_feats_extractor_result"
   ]
  },
  {
   "cell_type": "code",
   "execution_count": 22,
   "id": "6255835d",
   "metadata": {},
   "outputs": [
    {
     "name": "stdout",
     "output_type": "stream",
     "text": [
      "Warning: Casting tensors of types [torch.float32, torch.float32] to torch.int32.\n"
     ]
    },
    {
     "data": {
      "text/plain": [
       "True"
      ]
     },
     "execution_count": 22,
     "metadata": {},
     "output_type": "execute_result"
    }
   ],
   "source": [
    "key_weights_result = key_weights_extractor(x, y, t)[0]\n",
    "key_weights_result.shape == (x.shape[0], len(kb_key_list))"
   ]
  },
  {
   "cell_type": "code",
   "execution_count": 23,
   "id": "15e3e48d",
   "metadata": {},
   "outputs": [
    {
     "data": {
      "text/plain": [
       "tensor([[1.4540e-02, 9.1794e-07, 6.2205e-02, 1.7089e-04, 2.0361e-06, 7.7529e-03,\n",
       "         0.0000e+00, 3.1438e-07, 5.2324e-07, 1.0846e-04, 8.9330e-01, 4.9288e-02,\n",
       "         1.3218e-05, 4.6318e-04, 1.1590e-03, 8.2254e-05, 2.8134e-03, 4.9444e-04,\n",
       "         1.7135e-03, 2.3571e-05, 2.5003e-01, 3.2025e-01, 7.6160e-08, 6.6719e-01,\n",
       "         5.3358e-03, 2.5052e-05, 3.5891e-06, 0.0000e+00, 1.8597e-01, 4.7219e-06,\n",
       "         4.7963e-08, 1.6920e-07, 1.2658e-02],\n",
       "        [7.1542e-02, 5.7516e-06, 2.1255e-01, 1.2152e-03, 1.4024e-05, 5.2302e-02,\n",
       "         0.0000e+00, 2.1875e-06, 3.7274e-06, 5.6792e-04, 9.0541e-01, 2.6495e-01,\n",
       "         8.9629e-05, 2.1465e-03, 8.1748e-03, 5.4420e-04, 1.6471e-02, 3.1368e-03,\n",
       "         6.6334e-03, 1.3397e-04, 6.8730e-01, 3.6076e-01, 5.4238e-07, 9.0914e-01,\n",
       "         1.5845e-02, 1.7844e-04, 2.5572e-05, 0.0000e+00, 3.6463e-01, 2.8422e-05,\n",
       "         3.3605e-07, 1.0918e-06, 2.6308e-02],\n",
       "        [2.4546e-01, 3.5419e-05, 4.1141e-01, 8.7518e-03, 9.7429e-05, 2.8295e-01,\n",
       "         0.0000e+00, 1.5416e-05, 2.7078e-05, 2.6880e-03, 6.8541e-01, 7.1220e-01,\n",
       "         6.0841e-04, 8.4244e-03, 5.6240e-02, 3.5494e-03, 8.3076e-02, 1.8908e-02,\n",
       "         1.9816e-02, 7.1709e-04, 9.2248e-01, 2.3132e-01, 3.9389e-06, 9.1609e-01,\n",
       "         3.2488e-02, 1.2949e-03, 1.8578e-04, 0.0000e+00, 4.0396e-01, 1.6538e-04,\n",
       "         2.3906e-06, 6.9996e-06, 3.4477e-02],\n",
       "        [3.7149e-01, 1.7860e-04, 3.5220e-01, 6.1612e-02, 6.2930e-04, 7.2027e-01,\n",
       "         0.0000e+00, 1.0399e-04, 2.0874e-04, 8.0255e-03, 2.2306e-01, 9.1561e-01,\n",
       "         3.6704e-03, 1.8012e-02, 2.9937e-01, 1.9040e-02, 2.2875e-01, 8.0611e-02,\n",
       "         2.7692e-02, 2.7153e-03, 8.9688e-01, 6.0717e-02, 3.0516e-05, 6.3958e-01,\n",
       "         2.7822e-02, 9.7252e-03, 1.4208e-03, 0.0000e+00, 1.9128e-01, 7.4117e-04,\n",
       "         1.6617e-05, 3.8464e-05, 1.8255e-02]])"
      ]
     },
     "execution_count": 23,
     "metadata": {},
     "output_type": "execute_result"
    }
   ],
   "source": [
    "key_weights_result"
   ]
  },
  {
   "cell_type": "code",
   "execution_count": 24,
   "id": "19125bc1",
   "metadata": {},
   "outputs": [
    {
     "name": "stdout",
     "output_type": "stream",
     "text": [
      "Warning: Casting tensors of types [torch.float32, torch.float32] to torch.int32.\n"
     ]
    },
    {
     "data": {
      "text/plain": [
       "[tensor([[ 1.0000e+00,  1.0000e+01,  0.0000e+00,  0.0000e+00,  0.0000e+00,\n",
       "           0.0000e+00,  0.0000e+00],\n",
       "         [ 1.0000e+02,  2.0000e+01,  4.6000e+01,  3.1094e+00,  3.1250e-01,\n",
       "           5.9317e-02,  0.0000e+00],\n",
       "         [ 2.0000e+02,  3.0000e+01,  1.8000e+01,  3.7963e+00,  0.0000e+00,\n",
       "          -5.7581e-02, -5.7870e-03],\n",
       "         [ 3.0500e+02,  2.0000e+01,  3.6000e+01,  0.0000e+00,  0.0000e+00,\n",
       "           0.0000e+00,  0.0000e+00]]),\n",
       " tensor([10, 23, 20, 11], dtype=torch.int32)]"
      ]
     },
     "execution_count": 24,
     "metadata": {},
     "output_type": "execute_result"
    }
   ],
   "source": [
    "traj_feats_and_nearest_key_extractor(x, y, t)"
   ]
  },
  {
   "cell_type": "code",
   "execution_count": null,
   "id": "9972a962",
   "metadata": {},
   "outputs": [],
   "source": []
  }
 ],
 "metadata": {
  "kernelspec": {
   "display_name": "Python 3",
   "language": "python",
   "name": "python3"
  },
  "language_info": {
   "codemirror_mode": {
    "name": "ipython",
    "version": 3
   },
   "file_extension": ".py",
   "mimetype": "text/x-python",
   "name": "python",
   "nbconvert_exporter": "python",
   "pygments_lexer": "ipython3",
   "version": "3.11.5"
  }
 },
 "nbformat": 4,
 "nbformat_minor": 5
}
