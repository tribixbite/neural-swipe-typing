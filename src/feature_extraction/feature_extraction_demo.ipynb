{
 "cells": [
  {
   "cell_type": "code",
   "execution_count": 1,
   "id": "22a0c1d5",
   "metadata": {},
   "outputs": [],
   "source": [
    "%load_ext autoreload\n",
    "%autoreload 2\n",
    "\n",
    "import sys; sys.path.append('..')"
   ]
  },
  {
   "cell_type": "code",
   "execution_count": 2,
   "id": "052b055b",
   "metadata": {},
   "outputs": [],
   "source": [
    "import torch\n",
    "\n",
    "from feature_extraction.swipe_feature_extractors import (\n",
    "    MultiFeatureExtractor,  \n",
    "    TrajectoryFeatureExtractor,\n",
    "    CoordinateFunctionFeatureExtractor\n",
    "    )\n",
    "from feature_extraction.key_weights_functions import (\n",
    "    weights_function_v1,\n",
    "    weights_function_v1_softmax,\n",
    "    weights_function_sigmoid_normalized_v1,)\n",
    "from feature_extraction.distance_getter import DistanceGetter\n",
    "from feature_extraction.nearest_key_getter import NearestKeyGetter\n",
    "from feature_extraction.key_weights_getter import KeyWeightsGetter\n",
    "from feature_extraction.grid_lookup import GridLookup\n",
    "\n",
    "\n",
    "from ns_tokenizers import KeyboardTokenizerv1, ALL_CYRILLIC_LETTERS_ALPHABET_ORD\n",
    "from grid_processing_utils import get_grid"
   ]
  },
  {
   "cell_type": "code",
   "execution_count": 3,
   "id": "c43e29d6",
   "metadata": {},
   "outputs": [],
   "source": [
    "#### CONFIGURATION ####\n",
    "\n",
    "GRIDS_PATH = \"../../data/data_preprocessed/gridname_to_grid.json\"\n",
    "GRID_NAME = \"default\"\n",
    "\n",
    "\n",
    "#### Create all resources for feature extractors ####\n",
    "\n",
    "grid = get_grid(grid_name=GRID_NAME, grids_path=GRIDS_PATH)\n",
    "key_labels_of_interest = set(ALL_CYRILLIC_LETTERS_ALPHABET_ORD)\n",
    "weights_function=weights_function_v1\n",
    "tokenizer = KeyboardTokenizerv1()\n",
    "\n",
    "distance_getter = DistanceGetter(grid, tokenizer, key_labels_of_interest)\n",
    "nearest_key_getter = NearestKeyGetter(grid, tokenizer, key_labels_of_interest)\n",
    "key_weights_getter = KeyWeightsGetter(\n",
    "    grid, tokenizer, \n",
    "    weights_function=weights_function, \n",
    "    key_labels_of_interest=key_labels_of_interest)\n"
   ]
  },
  {
   "cell_type": "code",
   "execution_count": 4,
   "id": "3cfe7779",
   "metadata": {},
   "outputs": [],
   "source": [
    "def grid_lookup_maker(width, height):\n",
    "    def grid_lookup_maker(value_fn):\n",
    "        return GridLookup(grid_width=width, grid_height=height, value_fn=value_fn)\n",
    "    return grid_lookup_maker\n",
    "\n",
    "get_lookup_fn = grid_lookup_maker(grid[\"width\"], grid[\"height\"])"
   ]
  },
  {
   "cell_type": "code",
   "execution_count": 5,
   "id": "1d2adb8a",
   "metadata": {},
   "outputs": [],
   "source": [
    "### Example data for feature extractors ###\n",
    "\n",
    "x = torch.tensor([1, 100, 200, 305], dtype=torch.float32)\n",
    "y = torch.tensor([10, 20, 30, 20], dtype=torch.float32)\n",
    "t = torch.tensor([0, 46, 64, 100], dtype=torch.float32)"
   ]
  },
  {
   "cell_type": "code",
   "execution_count": 6,
   "id": "5a4b7649",
   "metadata": {},
   "outputs": [],
   "source": [
    "nearest_key_extractor = CoordinateFunctionFeatureExtractor(\n",
    "    nearest_key_getter)\n",
    "\n",
    "nearest_key_extractor_with_lookup = CoordinateFunctionFeatureExtractor(\n",
    "    get_lookup_fn(nearest_key_getter), cast_dtype=torch.int32)"
   ]
  },
  {
   "cell_type": "code",
   "execution_count": 7,
   "id": "05962a84",
   "metadata": {},
   "outputs": [],
   "source": [
    "distances_extractor = CoordinateFunctionFeatureExtractor(\n",
    "    distance_getter)\n",
    "\n",
    "distances_extractor_with_lookup = CoordinateFunctionFeatureExtractor(\n",
    "    get_lookup_fn(distance_getter), cast_dtype=torch.int32)"
   ]
  },
  {
   "cell_type": "code",
   "execution_count": 8,
   "id": "16d33bd9",
   "metadata": {},
   "outputs": [
    {
     "name": "stdout",
     "output_type": "stream",
     "text": [
      "tensor([False, False, False, False, False, False,  True, False, False, False,\n",
      "        False, False, False, False, False, False, False, False, False, False,\n",
      "        False, False, False, False, False, False, False,  True, False, False,\n",
      "        False, False, False])\n",
      "tensor([[ 423.3158,  912.8090,  347.8965,  645.0940,  870.4832,  451.9627,\n",
      "          965.3695,  938.0225,  672.0119,  104.4713,  356.5729,  776.4974,\n",
      "          599.4683,  548.2739,  684.2501,  506.2828,  593.8487,  533.4876,\n",
      "          749.2144,  262.6404,  250.9308, 1035.0966,  173.8397,  476.8021,\n",
      "          742.2239,  840.0530,  286.8314,  829.7765, 1059.9420,  998.1534,\n",
      "          433.0774]])\n",
      "tensor([[ 4.6410, 10.0075,  3.8141,  7.0724,  9.5434,  4.9550, 10.5837, 10.2839,\n",
      "          7.3675,  1.1454,  3.9092,  8.5130,  6.5722,  6.0109,  7.5017,  5.5506,\n",
      "          6.5106,  5.8488,  8.2139,  2.8794,  2.7511, 11.3482,  1.9059,  5.2274,\n",
      "          8.1373,  9.2098,  3.1446,  9.0972, 11.6206, 10.9431,  4.7480]])\n",
      "91.21268442851873\n",
      "tensor([[1.2695e-02, 8.2041e-07, 5.3889e-02, 1.6158e-04, 1.8914e-06, 7.2529e-03,\n",
      "         2.9078e-07, 4.9882e-07, 9.4999e-05, 8.7417e-01, 4.5798e-02, 1.2086e-05,\n",
      "         3.9748e-04, 1.0909e-03, 7.4618e-05, 2.4948e-03, 4.4408e-04, 1.4599e-03,\n",
      "         2.0706e-05, 2.3452e-01, 2.7850e-01, 7.3448e-08, 6.3863e-01, 4.4550e-03,\n",
      "         2.3769e-05, 3.4481e-06, 1.5971e-01, 4.2233e-06, 4.4982e-08, 1.5226e-07,\n",
      "         1.0494e-02]])\n",
      "tensor([False, False, False, False, False, False,  True, False, False, False,\n",
      "        False, False, False, False, False, False, False, False, False, False,\n",
      "        False, False, False, False, False, False, False,  True, False, False,\n",
      "        False, False, False])\n",
      "tensor([[ 423.3158,  912.8090,  347.8965,  ..., 1059.9420,  998.1534,\n",
      "          433.0774],\n",
      "        [ 422.7354,  912.3712,  347.1902,  ..., 1059.7103,  997.7531,\n",
      "          432.1539],\n",
      "        [ 422.1567,  911.9343,  346.4852,  ..., 1059.4796,  997.3536,\n",
      "          431.2308],\n",
      "        ...,\n",
      "        [ 845.1120,  369.4838,  931.9941,  ...,  420.7469,  311.0567,\n",
      "          950.4025],\n",
      "        [ 845.6071,  370.1989,  932.4431,  ...,  421.7404,  311.9058,\n",
      "          950.6808],\n",
      "        [ 846.1030,  370.9154,  932.8928,  ...,  422.7339,  312.7559,\n",
      "          950.9600]])\n",
      "tensor([[ 4.6410, 10.0075,  3.8141,  ..., 11.6206, 10.9431,  4.7480],\n",
      "        [ 4.6346, 10.0027,  3.8064,  ..., 11.6180, 10.9388,  4.7379],\n",
      "        [ 4.6283,  9.9979,  3.7987,  ..., 11.6155, 10.9344,  4.7278],\n",
      "        ...,\n",
      "        [ 9.2653,  4.0508, 10.2178,  ...,  4.6128,  3.4102, 10.4196],\n",
      "        [ 9.2707,  4.0586, 10.2227,  ...,  4.6237,  3.4195, 10.4227],\n",
      "        [ 9.2762,  4.0665, 10.2277,  ...,  4.6346,  3.4289, 10.4257]])\n",
      "91.21268442851873\n",
      "tensor([[1.2695e-02, 8.2041e-07, 5.3889e-02,  ..., 4.4982e-08, 1.5226e-07,\n",
      "         1.0494e-02],\n",
      "        [1.2840e-02, 8.2753e-07, 5.4605e-02,  ..., 4.5188e-08, 1.5347e-07,\n",
      "         1.0685e-02],\n",
      "        [1.2985e-02, 8.3469e-07, 5.5327e-02,  ..., 4.5395e-08, 1.5469e-07,\n",
      "         1.0879e-02],\n",
      "        ...,\n",
      "        [3.1205e-06, 3.5866e-02, 5.6183e-07,  ..., 1.3347e-02, 1.0542e-01,\n",
      "         3.9070e-07],\n",
      "        [3.0901e-06, 3.5382e-02, 5.5688e-07,  ..., 1.3091e-02, 1.0385e-01,\n",
      "         3.8856e-07],\n",
      "        [3.0600e-06, 3.4902e-02, 5.5196e-07,  ..., 1.2840e-02, 1.0230e-01,\n",
      "         3.8642e-07]])\n"
     ]
    }
   ],
   "source": [
    "key_weights_extractor = CoordinateFunctionFeatureExtractor(\n",
    "    key_weights_getter)\n",
    "\n",
    "key_weights_extractor_with_lookup = CoordinateFunctionFeatureExtractor(\n",
    "    get_lookup_fn(key_weights_getter), cast_dtype=torch.int32)"
   ]
  },
  {
   "cell_type": "code",
   "execution_count": 9,
   "id": "46a3c049",
   "metadata": {},
   "outputs": [],
   "source": [
    "trajectory_feats_extractor = TrajectoryFeatureExtractor(\n",
    "    include_dt=True,\n",
    "    include_velocities=True,\n",
    "    include_accelerations=True,\n",
    "    coordinate_normalizer=lambda x, y: (x, y),\n",
    "    dt_normalizer=lambda x: x,\n",
    "    velocities_normalizer=lambda x, y: (x, y),\n",
    "    accelerations_normalizer=lambda x, y: (x, y),\n",
    ")"
   ]
  },
  {
   "cell_type": "code",
   "execution_count": 10,
   "id": "842a78c8",
   "metadata": {},
   "outputs": [],
   "source": [
    "traj_feats_and_nearest_key_extractor = MultiFeatureExtractor(\n",
    "    extractors=[trajectory_feats_extractor, nearest_key_extractor]\n",
    ")"
   ]
  },
  {
   "cell_type": "code",
   "execution_count": 11,
   "id": "961ce655",
   "metadata": {},
   "outputs": [
    {
     "data": {
      "text/plain": [
       "(True, True)"
      ]
     },
     "execution_count": 11,
     "metadata": {},
     "output_type": "execute_result"
    }
   ],
   "source": [
    "nearest_key_result = nearest_key_extractor(x, y, t)[0]\n",
    "\n",
    "nearest_key_with_lookup_result = nearest_key_extractor_with_lookup(x, y, t)[0]\n",
    "\n",
    "expected_nearest_key_result = torch.tensor(\n",
    "    [\n",
    "        [tokenizer.get_token('й')],\n",
    "        [tokenizer.get_token('ц')],\n",
    "        [tokenizer.get_token('у')],\n",
    "        [tokenizer.get_token('к')],\n",
    "    ],\n",
    "    dtype=torch.int32\n",
    ")\n",
    "\n",
    "(\n",
    "    torch.equal(\n",
    "        nearest_key_result, expected_nearest_key_result\n",
    "    ),\n",
    "    torch.equal(\n",
    "        nearest_key_with_lookup_result, expected_nearest_key_result\n",
    "    )\n",
    ")"
   ]
  },
  {
   "cell_type": "code",
   "execution_count": 12,
   "id": "9596683b",
   "metadata": {},
   "outputs": [
    {
     "data": {
      "text/plain": [
       "(True, True)"
      ]
     },
     "execution_count": 12,
     "metadata": {},
     "output_type": "execute_result"
    }
   ],
   "source": [
    "distances_result = distances_extractor(x, y, t)[0]\n",
    "distances_with_lookup_result = distances_extractor_with_lookup(x, y, t)[0]\n",
    "\n",
    "(\n",
    "    distances_result.shape == (x.shape[0], len(key_labels_of_interest)),\n",
    "    distances_with_lookup_result.shape == (x.shape[0], len(key_labels_of_interest))\n",
    ")"
   ]
  },
  {
   "cell_type": "code",
   "execution_count": 13,
   "id": "2142978a",
   "metadata": {},
   "outputs": [
    {
     "data": {
      "text/plain": [
       "tensor([[ 416.7592,  907.5683,  340.1779,  642.7521,  866.7479,  449.0504,\n",
       "               inf,  961.9003,  936.0984,  665.2977,   95.2694,  353.1519,\n",
       "          772.4353,  592.0897,  545.6961,  679.7810,  500.6179,  588.8601,\n",
       "          525.3608,  743.0721,  258.3583,  240.9320, 1033.2589,  167.8876,\n",
       "          467.8913,  740.0569,  838.0215,       inf,  277.7737,  824.1213,\n",
       "         1056.6910,  993.2685,  423.4678],\n",
       "        [ 332.9508,  814.5675,  269.0576,  543.2921,  768.9610,  349.9861,\n",
       "               inf,  863.5961,  836.6040,  581.3777,   87.9446,  254.8809,\n",
       "          675.4319,  514.2589,  446.3454,  584.0020,  410.3441,  495.0922,\n",
       "          456.5183,  654.9979,  162.7882,  231.5734,  933.7800,   86.2569,\n",
       "          412.1168,  640.5593,  738.5181,       inf,  230.9378,  733.1637,\n",
       "          958.0381,  898.7827,  385.6890],\n",
       "        [ 259.8774,  722.4405,  220.8438,  442.8614,  670.7317,  250.3003,\n",
       "               inf,  764.6426,  736.1157,  502.4938,  162.7705,  157.2395,\n",
       "          578.3496,  444.5922,  346.0986,  488.8131,  324.7495,  403.2322,\n",
       "          400.3861,  569.9318,   77.2010,  263.2608,  833.3097,   81.2419,\n",
       "          374.7536,  540.0706,  638.0196,       inf,  222.2887,  643.9169,\n",
       "          858.6134,  804.6181,  371.5589],\n",
       "        [ 229.4259,  640.4219,  233.5744,  341.1836,  576.1736,  155.2103,\n",
       "               inf,  667.8984,  632.6107,  446.7941,  265.4510,   82.1234,\n",
       "          487.1019,  405.4901,  246.2605,  402.8626,  264.5416,  326.3989,\n",
       "          383.0196,  502.3069,   93.0860,  341.1103,  729.5615,  173.1769,\n",
       "          382.7143,  437.4657,  534.8682,       inf,  275.4673,  567.8768,\n",
       "          760.3631,  718.2550,  404.6245]])"
      ]
     },
     "execution_count": 13,
     "metadata": {},
     "output_type": "execute_result"
    }
   ],
   "source": [
    "distances_result"
   ]
  },
  {
   "cell_type": "code",
   "execution_count": 14,
   "id": "d37052da",
   "metadata": {},
   "outputs": [
    {
     "data": {
      "text/plain": [
       "tensor([[ 416.7592,  907.5683,  340.1779,  642.7521,  866.7479,  449.0504,\n",
       "               inf,  961.9003,  936.0984,  665.2977,   95.2694,  353.1519,\n",
       "          772.4353,  592.0897,  545.6961,  679.7810,  500.6179,  588.8601,\n",
       "          525.3608,  743.0721,  258.3583,  240.9320, 1033.2589,  167.8876,\n",
       "          467.8913,  740.0569,  838.0215,       inf,  277.7737,  824.1213,\n",
       "         1056.6910,  993.2685,  423.4678],\n",
       "        [ 332.9508,  814.5675,  269.0576,  543.2921,  768.9610,  349.9861,\n",
       "               inf,  863.5961,  836.6040,  581.3777,   87.9446,  254.8809,\n",
       "          675.4319,  514.2589,  446.3454,  584.0020,  410.3441,  495.0922,\n",
       "          456.5183,  654.9979,  162.7882,  231.5734,  933.7800,   86.2569,\n",
       "          412.1168,  640.5593,  738.5181,       inf,  230.9378,  733.1637,\n",
       "          958.0381,  898.7827,  385.6890],\n",
       "        [ 259.8774,  722.4405,  220.8438,  442.8614,  670.7317,  250.3003,\n",
       "               inf,  764.6426,  736.1157,  502.4938,  162.7705,  157.2395,\n",
       "          578.3496,  444.5922,  346.0986,  488.8131,  324.7495,  403.2322,\n",
       "          400.3861,  569.9318,   77.2010,  263.2608,  833.3097,   81.2419,\n",
       "          374.7536,  540.0706,  638.0196,       inf,  222.2887,  643.9169,\n",
       "          858.6134,  804.6181,  371.5589],\n",
       "        [ 229.4259,  640.4219,  233.5744,  341.1836,  576.1736,  155.2103,\n",
       "               inf,  667.8984,  632.6107,  446.7941,  265.4510,   82.1234,\n",
       "          487.1019,  405.4901,  246.2605,  402.8626,  264.5416,  326.3989,\n",
       "          383.0196,  502.3069,   93.0860,  341.1103,  729.5615,  173.1769,\n",
       "          382.7143,  437.4657,  534.8682,       inf,  275.4673,  567.8768,\n",
       "          760.3631,  718.2550,  404.6245]])"
      ]
     },
     "execution_count": 14,
     "metadata": {},
     "output_type": "execute_result"
    }
   ],
   "source": [
    "distances_with_lookup_result"
   ]
  },
  {
   "cell_type": "code",
   "execution_count": 15,
   "id": "f3593c93",
   "metadata": {},
   "outputs": [
    {
     "data": {
      "text/plain": [
       "tensor([[ 1.0000e+00,  1.0000e+01,  0.0000e+00,  0.0000e+00,  0.0000e+00,\n",
       "          0.0000e+00,  0.0000e+00],\n",
       "        [ 1.0000e+02,  2.0000e+01,  4.6000e+01,  3.1094e+00,  3.1250e-01,\n",
       "          5.9317e-02,  0.0000e+00],\n",
       "        [ 2.0000e+02,  3.0000e+01,  1.8000e+01,  3.7963e+00,  0.0000e+00,\n",
       "         -5.7581e-02, -5.7870e-03],\n",
       "        [ 3.0500e+02,  2.0000e+01,  3.6000e+01,  0.0000e+00,  0.0000e+00,\n",
       "          0.0000e+00,  0.0000e+00]])"
      ]
     },
     "execution_count": 15,
     "metadata": {},
     "output_type": "execute_result"
    }
   ],
   "source": [
    "trajectory_feats_extractor_result = trajectory_feats_extractor(x, y, t)[0]\n",
    "trajectory_feats_extractor_result"
   ]
  },
  {
   "cell_type": "code",
   "execution_count": 16,
   "id": "6255835d",
   "metadata": {},
   "outputs": [
    {
     "name": "stdout",
     "output_type": "stream",
     "text": [
      "tensor([False, False, False, False, False, False,  True, False, False, False,\n",
      "        False, False, False, False, False, False, False, False, False, False,\n",
      "        False, False, False, False, False, False, False,  True, False, False,\n",
      "        False, False, False])\n",
      "tensor([[ 416.7592,  907.5683,  340.1779,  642.7521,  866.7479,  449.0504,\n",
      "          961.9003,  936.0984,  665.2977,   95.2694,  353.1519,  772.4353,\n",
      "          592.0897,  545.6961,  679.7810,  500.6179,  588.8601,  525.3608,\n",
      "          743.0721,  258.3583,  240.9320, 1033.2589,  167.8876,  467.8913,\n",
      "          740.0569,  838.0215,  277.7737,  824.1213, 1056.6910,  993.2685,\n",
      "          423.4678],\n",
      "        [ 332.9508,  814.5675,  269.0576,  543.2921,  768.9610,  349.9861,\n",
      "          863.5961,  836.6040,  581.3777,   87.9446,  254.8809,  675.4319,\n",
      "          514.2589,  446.3454,  584.0020,  410.3441,  495.0922,  456.5183,\n",
      "          654.9979,  162.7882,  231.5734,  933.7800,   86.2569,  412.1168,\n",
      "          640.5593,  738.5181,  230.9378,  733.1637,  958.0381,  898.7827,\n",
      "          385.6890],\n",
      "        [ 259.8774,  722.4405,  220.8438,  442.8614,  670.7317,  250.3003,\n",
      "          764.6426,  736.1157,  502.4938,  162.7705,  157.2395,  578.3496,\n",
      "          444.5922,  346.0986,  488.8131,  324.7495,  403.2322,  400.3861,\n",
      "          569.9318,   77.2010,  263.2608,  833.3097,   81.2419,  374.7536,\n",
      "          540.0706,  638.0196,  222.2887,  643.9169,  858.6134,  804.6181,\n",
      "          371.5589],\n",
      "        [ 229.4259,  640.4219,  233.5744,  341.1836,  576.1736,  155.2103,\n",
      "          667.8984,  632.6107,  446.7941,  265.4510,   82.1234,  487.1019,\n",
      "          405.4901,  246.2605,  402.8626,  264.5416,  326.3989,  383.0196,\n",
      "          502.3069,   93.0860,  341.1103,  729.5615,  173.1769,  382.7143,\n",
      "          437.4657,  534.8682,  275.4673,  567.8768,  760.3631,  718.2550,\n",
      "          404.6245]])\n",
      "tensor([[ 4.5691,  9.9500,  3.7295,  7.0467,  9.5025,  4.9231, 10.5457, 10.2628,\n",
      "          7.2939,  1.0445,  3.8717,  8.4685,  6.4913,  5.9827,  7.4527,  5.4885,\n",
      "          6.4559,  5.7597,  8.1466,  2.8325,  2.6414, 11.3280,  1.8406,  5.1297,\n",
      "          8.1135,  9.1876,  3.0453,  9.0352, 11.5849, 10.8896,  4.6426],\n",
      "        [ 3.6503,  8.9304,  2.9498,  5.9563,  8.4304,  3.8370,  9.4679,  9.1720,\n",
      "          6.3739,  0.9642,  2.7944,  7.4050,  5.6380,  4.8935,  6.4026,  4.4988,\n",
      "          5.4279,  5.0050,  7.1810,  1.7847,  2.5388, 10.2374,  0.9457,  4.5182,\n",
      "          7.0227,  8.0967,  2.5319,  8.0380, 10.5033,  9.8537,  4.2285],\n",
      "        [ 2.8491,  7.9204,  2.4212,  4.8553,  7.3535,  2.7441,  8.3831,  8.0703,\n",
      "          5.5090,  1.7845,  1.7239,  6.3407,  4.8742,  3.7944,  5.3590,  3.5604,\n",
      "          4.4208,  4.3896,  6.2484,  0.8464,  2.8862,  9.1359,  0.8907,  4.1086,\n",
      "          5.9210,  6.9949,  2.4370,  7.0595,  9.4133,  8.8213,  4.0735],\n",
      "        [ 2.5153,  7.0212,  2.5608,  3.7405,  6.3168,  1.7016,  7.3224,  6.9356,\n",
      "          4.8984,  2.9102,  0.9004,  5.3403,  4.4455,  2.6998,  4.4167,  2.9003,\n",
      "          3.5784,  4.1992,  5.5070,  1.0205,  3.7397,  7.9985,  1.8986,  4.1958,\n",
      "          4.7961,  5.8640,  3.0201,  6.2259,  8.3362,  7.8745,  4.4361]])\n",
      "91.21268442851873\n",
      "tensor([[1.4424e-02, 9.0980e-07, 6.2205e-02, 1.6922e-04, 2.0361e-06, 7.6786e-03,\n",
      "         3.1139e-07, 5.1812e-07, 1.0846e-04, 8.9283e-01, 4.8840e-02, 1.3094e-05,\n",
      "         4.5976e-04, 1.1477e-03, 8.1497e-05, 2.7891e-03, 4.9000e-04, 1.7135e-03,\n",
      "         2.3374e-05, 2.5003e-01, 3.1982e-01, 7.6160e-08, 6.6527e-01, 5.3070e-03,\n",
      "         2.4807e-05, 3.5891e-06, 1.8518e-01, 4.7219e-06, 4.7963e-08, 1.6767e-07,\n",
      "         1.2658e-02],\n",
      "        [7.1062e-02, 5.7016e-06, 2.1255e-01, 1.2034e-03, 1.4024e-05, 5.1825e-02,\n",
      "         2.1667e-06, 3.6909e-06, 5.6792e-04, 9.0589e-01, 2.6311e-01, 8.8800e-05,\n",
      "         2.1323e-03, 8.0963e-03, 5.3927e-04, 1.6338e-02, 3.1094e-03, 6.6334e-03,\n",
      "         1.3290e-04, 6.8730e-01, 3.6126e-01, 5.4238e-07, 9.0869e-01, 1.5785e-02,\n",
      "         1.7670e-04, 2.5572e-05, 3.6416e-01, 2.8422e-05, 3.3605e-07, 1.0820e-06,\n",
      "         2.6308e-02],\n",
      "        [2.4445e-01, 3.5120e-05, 4.1141e-01, 8.6675e-03, 9.7429e-05, 2.8101e-01,\n",
      "         1.5271e-05, 2.6814e-05, 2.6880e-03, 6.8737e-01, 7.1034e-01, 6.0287e-04,\n",
      "         8.3789e-03, 5.5727e-02, 3.5182e-03, 8.2516e-02, 1.8754e-02, 1.9816e-02,\n",
      "         7.1174e-04, 9.2248e-01, 2.3233e-01, 3.9389e-06, 9.1658e-01, 3.2439e-02,\n",
      "         1.2823e-03, 1.8578e-04, 4.0452e-01, 1.6538e-04, 2.3906e-06, 6.9385e-06,\n",
      "         3.4477e-02],\n",
      "        [3.7110e-01, 1.7718e-04, 3.5220e-01, 6.1057e-02, 6.2930e-04, 7.1851e-01,\n",
      "         1.0303e-04, 2.0671e-04, 8.0255e-03, 2.2471e-01, 9.1524e-01, 3.6386e-03,\n",
      "         1.7951e-02, 2.9740e-01, 1.8889e-02, 2.2785e-01, 8.0085e-02, 2.7692e-02,\n",
      "         2.6979e-03, 8.9688e-01, 6.1140e-02, 3.0516e-05, 6.4164e-01, 2.7854e-02,\n",
      "         9.6320e-03, 1.4208e-03, 1.9215e-01, 7.4117e-04, 1.6617e-05, 3.8144e-05,\n",
      "         1.8255e-02]])\n"
     ]
    },
    {
     "data": {
      "text/plain": [
       "(True, True)"
      ]
     },
     "execution_count": 16,
     "metadata": {},
     "output_type": "execute_result"
    }
   ],
   "source": [
    "key_weights_result = key_weights_extractor(x, y, t)[0]\n",
    "key_weights_with_lookup_result = key_weights_extractor_with_lookup(x, y, t)[0]\n",
    "\n",
    "(\n",
    "    key_weights_result.shape == (x.shape[0], len(key_labels_of_interest)),\n",
    "    key_weights_with_lookup_result.shape == (x.shape[0], len(key_labels_of_interest))\n",
    ")"
   ]
  },
  {
   "cell_type": "code",
   "execution_count": 17,
   "id": "15e3e48d",
   "metadata": {},
   "outputs": [
    {
     "data": {
      "text/plain": [
       "tensor([[1.4424e-02, 9.0980e-07, 6.2205e-02, 1.6922e-04, 2.0361e-06, 7.6786e-03,\n",
       "         0.0000e+00, 3.1139e-07, 5.1812e-07, 1.0846e-04, 8.9283e-01, 4.8840e-02,\n",
       "         1.3094e-05, 4.5976e-04, 1.1477e-03, 8.1497e-05, 2.7891e-03, 4.9000e-04,\n",
       "         1.7135e-03, 2.3374e-05, 2.5003e-01, 3.1982e-01, 7.6160e-08, 6.6527e-01,\n",
       "         5.3070e-03, 2.4807e-05, 3.5891e-06, 0.0000e+00, 1.8518e-01, 4.7219e-06,\n",
       "         4.7963e-08, 1.6767e-07, 1.2658e-02],\n",
       "        [7.1062e-02, 5.7016e-06, 2.1255e-01, 1.2034e-03, 1.4024e-05, 5.1825e-02,\n",
       "         0.0000e+00, 2.1667e-06, 3.6909e-06, 5.6792e-04, 9.0589e-01, 2.6311e-01,\n",
       "         8.8800e-05, 2.1323e-03, 8.0963e-03, 5.3927e-04, 1.6338e-02, 3.1094e-03,\n",
       "         6.6334e-03, 1.3290e-04, 6.8730e-01, 3.6126e-01, 5.4238e-07, 9.0869e-01,\n",
       "         1.5785e-02, 1.7670e-04, 2.5572e-05, 0.0000e+00, 3.6416e-01, 2.8422e-05,\n",
       "         3.3605e-07, 1.0820e-06, 2.6308e-02],\n",
       "        [2.4445e-01, 3.5120e-05, 4.1141e-01, 8.6675e-03, 9.7429e-05, 2.8101e-01,\n",
       "         0.0000e+00, 1.5271e-05, 2.6814e-05, 2.6880e-03, 6.8737e-01, 7.1034e-01,\n",
       "         6.0287e-04, 8.3789e-03, 5.5727e-02, 3.5182e-03, 8.2516e-02, 1.8754e-02,\n",
       "         1.9816e-02, 7.1174e-04, 9.2248e-01, 2.3233e-01, 3.9389e-06, 9.1658e-01,\n",
       "         3.2439e-02, 1.2823e-03, 1.8578e-04, 0.0000e+00, 4.0452e-01, 1.6538e-04,\n",
       "         2.3906e-06, 6.9385e-06, 3.4477e-02],\n",
       "        [3.7110e-01, 1.7718e-04, 3.5220e-01, 6.1057e-02, 6.2930e-04, 7.1851e-01,\n",
       "         0.0000e+00, 1.0303e-04, 2.0671e-04, 8.0255e-03, 2.2471e-01, 9.1524e-01,\n",
       "         3.6386e-03, 1.7951e-02, 2.9740e-01, 1.8889e-02, 2.2785e-01, 8.0085e-02,\n",
       "         2.7692e-02, 2.6979e-03, 8.9688e-01, 6.1140e-02, 3.0516e-05, 6.4164e-01,\n",
       "         2.7854e-02, 9.6320e-03, 1.4208e-03, 0.0000e+00, 1.9215e-01, 7.4117e-04,\n",
       "         1.6617e-05, 3.8144e-05, 1.8255e-02]])"
      ]
     },
     "execution_count": 17,
     "metadata": {},
     "output_type": "execute_result"
    }
   ],
   "source": [
    "key_weights_result"
   ]
  },
  {
   "cell_type": "code",
   "execution_count": 18,
   "id": "ef1da3f4",
   "metadata": {},
   "outputs": [
    {
     "data": {
      "text/plain": [
       "tensor([[1.4424e-02, 9.0980e-07, 6.2205e-02, 1.6922e-04, 2.0361e-06, 7.6786e-03,\n",
       "         0.0000e+00, 3.1139e-07, 5.1812e-07, 1.0846e-04, 8.9283e-01, 4.8840e-02,\n",
       "         1.3094e-05, 4.5976e-04, 1.1477e-03, 8.1497e-05, 2.7891e-03, 4.9000e-04,\n",
       "         1.7135e-03, 2.3374e-05, 2.5003e-01, 3.1982e-01, 7.6160e-08, 6.6527e-01,\n",
       "         5.3070e-03, 2.4807e-05, 3.5891e-06, 0.0000e+00, 1.8518e-01, 4.7219e-06,\n",
       "         4.7963e-08, 1.6767e-07, 1.2658e-02],\n",
       "        [7.1062e-02, 5.7016e-06, 2.1255e-01, 1.2034e-03, 1.4024e-05, 5.1825e-02,\n",
       "         0.0000e+00, 2.1667e-06, 3.6909e-06, 5.6792e-04, 9.0589e-01, 2.6311e-01,\n",
       "         8.8800e-05, 2.1323e-03, 8.0963e-03, 5.3927e-04, 1.6338e-02, 3.1094e-03,\n",
       "         6.6334e-03, 1.3290e-04, 6.8730e-01, 3.6126e-01, 5.4238e-07, 9.0869e-01,\n",
       "         1.5785e-02, 1.7670e-04, 2.5572e-05, 0.0000e+00, 3.6416e-01, 2.8422e-05,\n",
       "         3.3605e-07, 1.0820e-06, 2.6308e-02],\n",
       "        [2.4445e-01, 3.5120e-05, 4.1141e-01, 8.6675e-03, 9.7429e-05, 2.8101e-01,\n",
       "         0.0000e+00, 1.5271e-05, 2.6814e-05, 2.6880e-03, 6.8737e-01, 7.1034e-01,\n",
       "         6.0287e-04, 8.3789e-03, 5.5727e-02, 3.5182e-03, 8.2516e-02, 1.8754e-02,\n",
       "         1.9816e-02, 7.1174e-04, 9.2248e-01, 2.3233e-01, 3.9389e-06, 9.1658e-01,\n",
       "         3.2439e-02, 1.2823e-03, 1.8578e-04, 0.0000e+00, 4.0452e-01, 1.6538e-04,\n",
       "         2.3906e-06, 6.9385e-06, 3.4477e-02],\n",
       "        [3.7110e-01, 1.7718e-04, 3.5220e-01, 6.1057e-02, 6.2930e-04, 7.1851e-01,\n",
       "         0.0000e+00, 1.0303e-04, 2.0671e-04, 8.0255e-03, 2.2471e-01, 9.1524e-01,\n",
       "         3.6386e-03, 1.7951e-02, 2.9740e-01, 1.8889e-02, 2.2785e-01, 8.0085e-02,\n",
       "         2.7692e-02, 2.6979e-03, 8.9688e-01, 6.1140e-02, 3.0516e-05, 6.4164e-01,\n",
       "         2.7854e-02, 9.6320e-03, 1.4208e-03, 0.0000e+00, 1.9215e-01, 7.4117e-04,\n",
       "         1.6617e-05, 3.8144e-05, 1.8255e-02]])"
      ]
     },
     "execution_count": 18,
     "metadata": {},
     "output_type": "execute_result"
    }
   ],
   "source": [
    "key_weights_with_lookup_result"
   ]
  },
  {
   "cell_type": "code",
   "execution_count": 19,
   "id": "19125bc1",
   "metadata": {},
   "outputs": [
    {
     "data": {
      "text/plain": [
       "[tensor([[ 1.0000e+00,  1.0000e+01,  0.0000e+00,  0.0000e+00,  0.0000e+00,\n",
       "           0.0000e+00,  0.0000e+00],\n",
       "         [ 1.0000e+02,  2.0000e+01,  4.6000e+01,  3.1094e+00,  3.1250e-01,\n",
       "           5.9317e-02,  0.0000e+00],\n",
       "         [ 2.0000e+02,  3.0000e+01,  1.8000e+01,  3.7963e+00,  0.0000e+00,\n",
       "          -5.7581e-02, -5.7870e-03],\n",
       "         [ 3.0500e+02,  2.0000e+01,  3.6000e+01,  0.0000e+00,  0.0000e+00,\n",
       "           0.0000e+00,  0.0000e+00]]),\n",
       " tensor([[10],\n",
       "         [23],\n",
       "         [20],\n",
       "         [11]])]"
      ]
     },
     "execution_count": 19,
     "metadata": {},
     "output_type": "execute_result"
    }
   ],
   "source": [
    "traj_feats_and_nearest_key_extractor(x, y, t)"
   ]
  },
  {
   "cell_type": "code",
   "execution_count": null,
   "id": "9972a962",
   "metadata": {},
   "outputs": [],
   "source": []
  }
 ],
 "metadata": {
  "kernelspec": {
   "display_name": "Python 3",
   "language": "python",
   "name": "python3"
  },
  "language_info": {
   "codemirror_mode": {
    "name": "ipython",
    "version": 3
   },
   "file_extension": ".py",
   "mimetype": "text/x-python",
   "name": "python",
   "nbconvert_exporter": "python",
   "pygments_lexer": "ipython3",
   "version": "3.11.5"
  }
 },
 "nbformat": 4,
 "nbformat_minor": 5
}
