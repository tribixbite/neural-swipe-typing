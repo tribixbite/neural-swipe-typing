{
 "cells": [
  {
   "cell_type": "code",
   "execution_count": null,
   "id": "000e0f0a",
   "metadata": {},
   "outputs": [],
   "source": [
    "# Hack to move to the parent directory\n",
    "# and do it only once.\n",
    "\n",
    "try:\n",
    "    if In_PARENT_DIR:\n",
    "        print(\"Already in parent directory.\")\n",
    "except NameError:\n",
    "    %cd ..\n",
    "    In_PARENT_DIR = True\n",
    "    print(\"Moved to parent directory.\")"
   ]
  },
  {
   "cell_type": "code",
   "execution_count": null,
   "id": "22a0c1d5",
   "metadata": {},
   "outputs": [],
   "source": [
    "%load_ext autoreload\n",
    "%autoreload 2"
   ]
  },
  {
   "cell_type": "code",
   "execution_count": null,
   "id": "052b055b",
   "metadata": {},
   "outputs": [],
   "source": [
    "import json\n",
    "\n",
    "import torch\n",
    "\n",
    "from feature_extraction.swipe_feature_extractors import (\n",
    "    MultiFeatureExtractor,  \n",
    "    TrajectoryFeatureExtractor,\n",
    "    CoordinateFunctionFeatureExtractor\n",
    "    )\n",
    "from feature_extraction.key_weights_functions import (\n",
    "    weights_function_v1,\n",
    "    weights_function_v1_softmax,\n",
    "    weights_function_sigmoid_normalized_v1,)\n",
    "from feature_extraction.distance_getter import DistanceGetter\n",
    "from feature_extraction.nearest_key_getter import NearestKeyGetter\n",
    "from feature_extraction.key_weights_getter import KeyWeightsGetter\n",
    "from feature_extraction.grid_lookup import GridLookup\n",
    "from feature_extraction.normalizers import identity_function, MinMaxNormalizer, MeanStdNormalizer\n",
    "from ns_tokenizers import KeyboardTokenizerv1, ALL_CYRILLIC_LETTERS_ALPHABET_ORD\n",
    "from grid_processing_utils import get_grid"
   ]
  },
  {
   "cell_type": "code",
   "execution_count": null,
   "id": "c43e29d6",
   "metadata": {},
   "outputs": [],
   "source": [
    "#### CONFIGURATION ####\n",
    "\n",
    "GRIDS_PATH = \"../data/data_preprocessed/gridname_to_grid.json\"\n",
    "GRID_NAME = \"default\"\n",
    "TRAJECTORY_FEATURES_STATISTICS_PATH = \"../data/data_preprocessed/trajectory_features_statistics.json\"\n",
    "\n",
    "#### Create all resources for feature extractors ####\n",
    "\n",
    "grid = get_grid(grid_name=GRID_NAME, grids_path=GRIDS_PATH)\n",
    "key_labels_of_interest = set(ALL_CYRILLIC_LETTERS_ALPHABET_ORD)\n",
    "weights_function=weights_function_v1\n",
    "tokenizer = KeyboardTokenizerv1()\n",
    "\n",
    "distance_getter = DistanceGetter(grid, tokenizer, key_labels_of_interest)\n",
    "nearest_key_getter = NearestKeyGetter(grid, tokenizer, key_labels_of_interest)\n",
    "key_weights_getter = KeyWeightsGetter(\n",
    "    grid, tokenizer, \n",
    "    weights_function=weights_function, \n",
    "    key_labels_of_interest=key_labels_of_interest)\n",
    "\n",
    "with open(TRAJECTORY_FEATURES_STATISTICS_PATH, \"r\", encoding=\"utf-8\") as f:\n",
    "    trajectory_features_statistics = json.load(f)"
   ]
  },
  {
   "cell_type": "code",
   "execution_count": null,
   "id": "3cfe7779",
   "metadata": {},
   "outputs": [],
   "source": [
    "def grid_lookup_maker(width, height):\n",
    "    def grid_lookup_maker(value_fn):\n",
    "        return GridLookup(grid_width=width, grid_height=height, value_fn=value_fn)\n",
    "    return grid_lookup_maker\n",
    "\n",
    "get_lookup_fn = grid_lookup_maker(grid[\"width\"], grid[\"height\"])"
   ]
  },
  {
   "cell_type": "code",
   "execution_count": null,
   "id": "1d2adb8a",
   "metadata": {},
   "outputs": [],
   "source": [
    "### Example data for feature extractors ###\n",
    "\n",
    "x = torch.tensor([1, 100, 200, 305], dtype=torch.float32)\n",
    "y = torch.tensor([10, 20, 30, 20], dtype=torch.float32)\n",
    "t = torch.tensor([0, 46, 64, 100], dtype=torch.float32)"
   ]
  },
  {
   "cell_type": "code",
   "execution_count": null,
   "id": "5a4b7649",
   "metadata": {},
   "outputs": [],
   "source": [
    "nearest_key_extractor = CoordinateFunctionFeatureExtractor(\n",
    "    nearest_key_getter)\n",
    "\n",
    "nearest_key_extractor_with_lookup = CoordinateFunctionFeatureExtractor(\n",
    "    get_lookup_fn(nearest_key_getter), cast_dtype=torch.int32)"
   ]
  },
  {
   "cell_type": "code",
   "execution_count": null,
   "id": "05962a84",
   "metadata": {},
   "outputs": [],
   "source": [
    "distances_extractor = CoordinateFunctionFeatureExtractor(\n",
    "    distance_getter)\n",
    "\n",
    "distances_extractor_with_lookup = CoordinateFunctionFeatureExtractor(\n",
    "    get_lookup_fn(distance_getter), cast_dtype=torch.int32)"
   ]
  },
  {
   "cell_type": "code",
   "execution_count": null,
   "id": "16d33bd9",
   "metadata": {},
   "outputs": [],
   "source": [
    "key_weights_extractor = CoordinateFunctionFeatureExtractor(\n",
    "    key_weights_getter)\n",
    "\n",
    "key_weights_extractor_with_lookup = CoordinateFunctionFeatureExtractor(\n",
    "    get_lookup_fn(key_weights_getter), cast_dtype=torch.int32)"
   ]
  },
  {
   "cell_type": "code",
   "execution_count": null,
   "id": "46a3c049",
   "metadata": {},
   "outputs": [],
   "source": [
    "trajectory_feats_extractor = TrajectoryFeatureExtractor(\n",
    "    include_dt=True,\n",
    "    include_velocities=True,\n",
    "    include_accelerations=True,\n",
    "    x_normalizer=identity_function,\n",
    "    y_normalizer=identity_function,\n",
    "    dt_normalizer=MeanStdNormalizer(**trajectory_features_statistics[\"dt\"]),\n",
    "    velocity_x_normalizer=MeanStdNormalizer(**trajectory_features_statistics[\"velocity_x\"]),\n",
    "    velocity_y_normalizer=MeanStdNormalizer(**trajectory_features_statistics[\"velocity_y\"]),\n",
    "    acceleration_x_normalizer=MeanStdNormalizer(**trajectory_features_statistics[\"acceleration_x\"]),\n",
    "    acceleration_y_normalizer=MeanStdNormalizer(**trajectory_features_statistics[\"acceleration_y\"]),\n",
    ")"
   ]
  },
  {
   "cell_type": "code",
   "execution_count": null,
   "id": "842a78c8",
   "metadata": {},
   "outputs": [],
   "source": [
    "traj_feats_and_nearest_key_extractor = MultiFeatureExtractor(\n",
    "    extractors=[trajectory_feats_extractor, nearest_key_extractor]\n",
    ")"
   ]
  },
  {
   "cell_type": "code",
   "execution_count": null,
   "id": "961ce655",
   "metadata": {},
   "outputs": [],
   "source": [
    "nearest_key_result = nearest_key_extractor(x, y, t)[0]\n",
    "\n",
    "nearest_key_with_lookup_result = nearest_key_extractor_with_lookup(x, y, t)[0]\n",
    "\n",
    "expected_nearest_key_result = torch.tensor(\n",
    "    [\n",
    "        tokenizer.get_token('й'),\n",
    "        tokenizer.get_token('ц'),\n",
    "        tokenizer.get_token('у'),\n",
    "        tokenizer.get_token('к'),\n",
    "    ],\n",
    "    dtype=torch.int32\n",
    ")\n",
    "\n",
    "(\n",
    "    torch.equal(\n",
    "        nearest_key_result, expected_nearest_key_result\n",
    "    ),\n",
    "    torch.equal(\n",
    "        nearest_key_with_lookup_result, expected_nearest_key_result\n",
    "    )\n",
    ")"
   ]
  },
  {
   "cell_type": "code",
   "execution_count": null,
   "id": "9596683b",
   "metadata": {},
   "outputs": [],
   "source": [
    "distances_result = distances_extractor(x, y, t)[0]\n",
    "distances_with_lookup_result = distances_extractor_with_lookup(x, y, t)[0]\n",
    "\n",
    "(\n",
    "    distances_result.shape == (x.shape[0], len(key_labels_of_interest)),\n",
    "    distances_with_lookup_result.shape == (x.shape[0], len(key_labels_of_interest))\n",
    ")"
   ]
  },
  {
   "cell_type": "code",
   "execution_count": null,
   "id": "2142978a",
   "metadata": {},
   "outputs": [],
   "source": [
    "distances_result"
   ]
  },
  {
   "cell_type": "code",
   "execution_count": null,
   "id": "d37052da",
   "metadata": {},
   "outputs": [],
   "source": [
    "distances_with_lookup_result"
   ]
  },
  {
   "cell_type": "code",
   "execution_count": null,
   "id": "f3593c93",
   "metadata": {},
   "outputs": [],
   "source": [
    "trajectory_feats_extractor_result = trajectory_feats_extractor(x, y, t)[0]\n",
    "trajectory_feats_extractor_result"
   ]
  },
  {
   "cell_type": "code",
   "execution_count": null,
   "id": "6255835d",
   "metadata": {},
   "outputs": [],
   "source": [
    "key_weights_result = key_weights_extractor(x, y, t)[0]\n",
    "key_weights_with_lookup_result = key_weights_extractor_with_lookup(x, y, t)[0]\n",
    "\n",
    "(\n",
    "    key_weights_result.shape == (x.shape[0], len(key_labels_of_interest)),\n",
    "    key_weights_with_lookup_result.shape == (x.shape[0], len(key_labels_of_interest))\n",
    ")"
   ]
  },
  {
   "cell_type": "code",
   "execution_count": null,
   "id": "15e3e48d",
   "metadata": {},
   "outputs": [],
   "source": [
    "key_weights_result"
   ]
  },
  {
   "cell_type": "code",
   "execution_count": null,
   "id": "ef1da3f4",
   "metadata": {},
   "outputs": [],
   "source": [
    "key_weights_with_lookup_result"
   ]
  },
  {
   "cell_type": "code",
   "execution_count": null,
   "id": "19125bc1",
   "metadata": {},
   "outputs": [],
   "source": [
    "traj_feats_and_nearest_key_extractor(x, y, t)"
   ]
  },
  {
   "cell_type": "code",
   "execution_count": null,
   "id": "fbe8c4b1",
   "metadata": {},
   "outputs": [],
   "source": []
  },
  {
   "cell_type": "markdown",
   "id": "49e5160e",
   "metadata": {},
   "source": [
    "# Check batch is formed correctly with feature extractors"
   ]
  },
  {
   "cell_type": "code",
   "execution_count": null,
   "id": "ffe03b01",
   "metadata": {},
   "outputs": [],
   "source": [
    "from torch.utils.data import DataLoader\n",
    "from dataset import SwipeDataset, CollateFn\n",
    "\n",
    "from ns_tokenizers import CharLevelTokenizerv2"
   ]
  },
  {
   "cell_type": "code",
   "execution_count": null,
   "id": "00d95367",
   "metadata": {},
   "outputs": [],
   "source": [
    "word_tokenizer = CharLevelTokenizerv2('../data/data_preprocessed/voc.txt')"
   ]
  },
  {
   "cell_type": "code",
   "execution_count": null,
   "id": "5203e2ff",
   "metadata": {},
   "outputs": [],
   "source": [
    "val_dataset = SwipeDataset(\n",
    "    data_path='../data/data_preprocessed/valid.jsonl',\n",
    "    word_tokenizer=word_tokenizer,\n",
    "    grid_name_to_swipe_feature_extractor={\n",
    "        'default': traj_feats_and_nearest_key_extractor, 'extra': traj_feats_and_nearest_key_extractor},\n",
    "    total=10000\n",
    ")"
   ]
  },
  {
   "cell_type": "code",
   "execution_count": null,
   "id": "7e3db944",
   "metadata": {},
   "outputs": [],
   "source": [
    "(encoder_in, decoder_in), decoder_out = val_dataset[0]"
   ]
  },
  {
   "cell_type": "code",
   "execution_count": null,
   "id": "b82a280d",
   "metadata": {},
   "outputs": [],
   "source": [
    "for el in encoder_in:\n",
    "    print(el)"
   ]
  },
  {
   "cell_type": "code",
   "execution_count": null,
   "id": "d863103d",
   "metadata": {},
   "outputs": [],
   "source": [
    "decoder_in"
   ]
  },
  {
   "cell_type": "code",
   "execution_count": null,
   "id": "a1e80f7d",
   "metadata": {},
   "outputs": [],
   "source": [
    "decoder_out"
   ]
  },
  {
   "cell_type": "code",
   "execution_count": null,
   "id": "c78812cc",
   "metadata": {},
   "outputs": [],
   "source": [
    "WORD_PAD_IDX = word_tokenizer.char_to_idx['<pad>']\n",
    "\n",
    "collate_fn = CollateFn(\n",
    "    word_pad_idx = WORD_PAD_IDX, batch_first = False)"
   ]
  },
  {
   "cell_type": "code",
   "execution_count": null,
   "id": "75740637",
   "metadata": {},
   "outputs": [],
   "source": [
    "NUM_WORKERS = 0\n",
    "PERSISTENT_WORKERS = False\n",
    "VAL_BATCH_SIZE = 4\n",
    "\n",
    "val_loader = DataLoader(\n",
    "    val_dataset, batch_size=VAL_BATCH_SIZE, shuffle=False,\n",
    "    num_workers=NUM_WORKERS, persistent_workers=PERSISTENT_WORKERS,\n",
    "    collate_fn=collate_fn)"
   ]
  },
  {
   "cell_type": "code",
   "execution_count": null,
   "id": "bbee9997",
   "metadata": {},
   "outputs": [],
   "source": [
    "for ((encoder_in, decoder_in, swipe_mask, word_mask), decoder_out) in val_loader:\n",
    "    tensors = [decoder_in, swipe_mask, word_mask, decoder_out]\n",
    "    tensor_names = [\"decoder_in\", \"swipe_mask\", \"word_mask\", \"decoder_out\"]\n",
    "\n",
    "    for i, swipe_feature in enumerate(encoder_in):\n",
    "        tensors.append(swipe_feature)\n",
    "        tensor_names.append(f\"swipe_feature_{i}\")\n",
    "\n",
    "    for name, tensor in zip(tensor_names, tensors):\n",
    "        print(f\"{name}:\")\n",
    "        print(tensor)\n",
    "        print(\"Shape:\", tensor.shape)\n",
    "        print(\"Type:\", tensor.dtype)\n",
    "        print()\n",
    "    \n",
    "    break\n"
   ]
  },
  {
   "cell_type": "code",
   "execution_count": null,
   "id": "44e099ec",
   "metadata": {},
   "outputs": [],
   "source": [
    "encoder_in[0][:, :, 2].T"
   ]
  },
  {
   "cell_type": "code",
   "execution_count": null,
   "id": "7daac534",
   "metadata": {},
   "outputs": [],
   "source": [
    "encoder_in[0][:, :, 6].T"
   ]
  },
  {
   "cell_type": "code",
   "execution_count": null,
   "id": "4c7f166f",
   "metadata": {},
   "outputs": [],
   "source": []
  }
 ],
 "metadata": {
  "kernelspec": {
   "display_name": "Python 3",
   "language": "python",
   "name": "python3"
  },
  "language_info": {
   "codemirror_mode": {
    "name": "ipython",
    "version": 3
   },
   "file_extension": ".py",
   "mimetype": "text/x-python",
   "name": "python",
   "nbconvert_exporter": "python",
   "pygments_lexer": "ipython3",
   "version": "3.11.5"
  }
 },
 "nbformat": 4,
 "nbformat_minor": 5
}
