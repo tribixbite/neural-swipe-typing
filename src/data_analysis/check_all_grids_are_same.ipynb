{
 "cells": [
  {
   "cell_type": "markdown",
   "metadata": {},
   "source": [
    "# This notebook ensures that there are only two keyboard layouts in the dataset: `default` and `extra`. All instances of layouts with the same name are absolutely identical (not only in proportions, but also in scale)"
   ]
  },
  {
   "cell_type": "markdown",
   "metadata": {},
   "source": [
    "#### Data description\n",
    "\n",
    "Данные предоставляются в формате JSON на каждой строке следующего содержания:\n",
    "\n",
    "*   word – таргет (слово, которое хотел ввести пользователь)\n",
    "*   curve\n",
    "    *   x – массив координат X\n",
    "    *   y – массив координат Y\n",
    "    *   t – массив временных меток (время в миллисекундах)\n",
    "    *   grid – формат раскладким\n",
    "        *   grid\\_name – название раскладки (default или extra)\n",
    "        *   width – ширина раскладки\n",
    "        *   height – высота раскладки\n",
    "        *   keys – массив клавиш\n",
    "            *   label – символ клавиши\n",
    "            *   hitbox – область нажатия\n",
    "                *   x – координата X верхнего левого угла\n",
    "                *   y – координата Y верхнего левого угла\n",
    "                *   w – ширина области\n",
    "                *   h – высота области"
   ]
  },
  {
   "cell_type": "markdown",
   "metadata": {},
   "source": [
    "У клавиш `enter`, `space`, `globe`, `toNumberState`, `backspace` нет ключа 'label', но есть одноименный ключ 'action'"
   ]
  },
  {
   "cell_type": "code",
   "execution_count": null,
   "metadata": {},
   "outputs": [],
   "source": [
    "from typing import List, Set, Optional, Dict\n",
    "from collections import defaultdict\n",
    "import json\n",
    "import os\n",
    "\n",
    "from tqdm import tqdm"
   ]
  },
  {
   "cell_type": "code",
   "execution_count": null,
   "metadata": {},
   "outputs": [],
   "source": [
    "TRAIN_DATASET_PATH = \"../../data/data_original/train.jsonl\"\n",
    "VALID_DATASET_PATH = \"../../data/data_original/valid.jsonl\"\n",
    "TEST_DATASET_PATH = \"../../data/data_original/test.jsonl\""
   ]
  },
  {
   "cell_type": "code",
   "execution_count": null,
   "metadata": {},
   "outputs": [],
   "source": [
    "with open(TRAIN_DATASET_PATH, 'rb') as f:\n",
    "    n_train_lines = sum(1 for _ in f)\n",
    "print(n_train_lines)\n",
    "# result: 6000000\n",
    "# takes 1 minute 15 seconds"
   ]
  },
  {
   "cell_type": "code",
   "execution_count": null,
   "metadata": {},
   "outputs": [],
   "source": [
    "N_TRAIN_LINES = 6_000_000\n",
    "N_VAL_LINES = N_TEST_LINES = 10_000"
   ]
  },
  {
   "cell_type": "markdown",
   "metadata": {},
   "source": [
    "# Посмотрим на данные, проверим одинаковость раскладок"
   ]
  },
  {
   "cell_type": "markdown",
   "metadata": {},
   "source": [
    "Было проверено, что:\n",
    "* В train ровно 6000000 примеров\n",
    "* Все примеры имеют line_data['curve']['grid']['grid_name'] либо 'default', либо 'extra', другого точно нет\n",
    "* Все раскладки с одним именем в точности одинаковы"
   ]
  },
  {
   "cell_type": "markdown",
   "metadata": {},
   "source": [
    "Посмотрим на 10 первых свайпов\n"
   ]
  },
  {
   "cell_type": "code",
   "execution_count": null,
   "metadata": {},
   "outputs": [
    {
     "name": "stdout",
     "output_type": "stream",
     "text": [
      "x: [306, 306, 307, 316, 337, 374, 440, 487, 548, 583, 619, 656, 688, 703, 725, 743, 755, 764, 771, 773, 770, 758, 707, 656, 626, 529, 470, 418, 394, 327, 327]\n",
      "y: [398, 398, 398, 395, 391, 386, 389, 397, 410, 415, 410, 398, 383, 374, 353, 332, 316, 302, 286, 281, 272, 260, 235, 214, 202, 158, 127, 97, 82, 43, 43]\n",
      "t: [0, 7, 24, 62, 64, 81, 108, 125, 142, 158, 175, 194, 208, 224, 241, 258, 275, 293, 308, 325, 341, 359, 375, 394, 411, 426, 443, 459, 475, 494, 499]\n",
      "---\n",
      "x: [454, 450, 447, 439, 435, 431, 428, 427, 426, 425, 424, 436, 457, 485, 510, 533, 555, 567, 574, 574, 549, 522, 504, 488, 473, 463, 459, 457, 449, 427, 395, 367, 338, 312, 290, 274, 266, 263, 262, 292, 346, 415, 504, 584, 675, 748, 810, 864, 899, 917, 921, 919, 887, 820, 737, 656, 573, 487, 401, 337, 285, 243, 213, 198, 189, 183, 183]\n",
      "y: [249, 235, 221, 182, 158, 110, 65, 29, 9, 3, 0, 26, 71, 123, 174, 218, 252, 268, 272, 271, 230, 178, 129, 88, 60, 44, 40, 39, 41, 60, 95, 131, 167, 197, 218, 230, 234, 236, 236, 247, 258, 263, 267, 270, 278, 282, 286, 291, 294, 296, 296, 295, 283, 260, 229, 198, 172, 147, 125, 111, 98, 85, 76, 70, 67, 64, 64]\n",
      "t: [0, 19, 32, 45, 58, 68, 84, 102, 118, 138, 151, 172, 187, 201, 219, 236, 253, 271, 315, 321, 335, 353, 369, 385, 401, 418, 434, 452, 469, 486, 504, 521, 537, 551, 571, 588, 602, 617, 635, 652, 670, 685, 702, 719, 734, 754, 771, 785, 801, 822, 834, 851, 871, 885, 901, 918, 934, 951, 969, 986, 1001, 1019, 1034, 1051, 1070, 1084, 1109]\n",
      "---\n",
      "x: [522, 513, 483, 447, 399, 357, 311, 282, 260, 251, 257, 278, 344, 423, 504, 578, 636, 680, 704, 717, 719, 722, 728, 728, 729, 734, 737, 737, 728, 707, 686, 669, 663, 648, 644, 635, 630, 629, 629, 626, 626, 612, 587, 498, 458, 429, 420, 417, 419, 420, 420]\n",
      "y: [262, 256, 230, 211, 199, 196, 199, 205, 218, 229, 253, 271, 302, 326, 347, 368, 382, 392, 398, 403, 403, 403, 400, 394, 380, 358, 346, 338, 316, 296, 284, 275, 272, 268, 268, 280, 307, 344, 370, 388, 394, 401, 391, 286, 188, 85, 17, -10, -22, -26, -26]\n",
      "t: [0, 4, 29, 44, 61, 77, 94, 110, 129, 144, 162, 177, 194, 210, 230, 244, 260, 277, 294, 315, 327, 344, 360, 378, 394, 416, 429, 444, 461, 478, 494, 515, 527, 544, 560, 577, 594, 611, 629, 645, 660, 676, 693, 716, 727, 743, 761, 777, 794, 811, 825]\n",
      "---\n",
      "x: [348, 348, 353, 361, 367, 371, 375, 377, 379, 379, 378, 375, 369, 361, 354, 348, 345, 343, 342, 342, 343, 343, 343]\n",
      "y: [113, 121, 165, 219, 256, 278, 291, 300, 304, 305, 300, 289, 269, 239, 207, 179, 158, 139, 125, 113, 104, 98, 98]\n",
      "t: [0, 64, 81, 98, 116, 131, 150, 166, 184, 202, 215, 234, 248, 266, 282, 298, 316, 331, 348, 365, 382, 402, 414]\n",
      "---\n",
      "x: [390, 390, 389, 351, 350, 350]\n",
      "y: [59, 68, 84, 289, 293, 293]\n",
      "t: [0, 23, 44, 153, 162, 173]\n",
      "---\n"
     ]
    }
   ],
   "source": [
    "N = 5\n",
    "lines = []\n",
    "with open(TRAIN_DATASET_PATH, encoding=\"utf-8\") as f:\n",
    "    train_examples = [json.loads(f.readline()) for _ in range(N)]\n",
    "\n",
    "curves = [train_example[\"curve\"] for train_example in train_examples]\n",
    "\n",
    "for curve in curves:\n",
    "    assert len(curve[\"x\"]) == len(curve[\"y\"]) == len(curve[\"t\"])\n",
    "\n",
    "for curve in curves:\n",
    "    assert len(curve[\"x\"]) == len(curve[\"y\"]) == len(curve[\"t\"])\n",
    "    assert set(curve.keys()) == set(['x', 'y', 't', 'grid'])\n",
    "    print(f\"x: {curve['x']}\")\n",
    "    print(f\"y: {curve['y']}\")\n",
    "    print(f\"t: {curve['t']}\")\n",
    "    print(\"---\")"
   ]
  },
  {
   "cell_type": "markdown",
   "metadata": {},
   "source": [
    "Посмотрим на имеющиеся типы кривых и их соотношение"
   ]
  },
  {
   "cell_type": "code",
   "execution_count": null,
   "metadata": {},
   "outputs": [],
   "source": [
    "grid_name_to_count = defaultdict(int)\n",
    "grid_name_to_grid = dict\n",
    "\n",
    "with open(TRAIN_DATASET_PATH, encoding=\"utf-8\") as f:\n",
    "    for line in tqdm(f, total = N_TRAIN_LINES):\n",
    "        line_data = json.loads(line)\n",
    "        grid_name_to_count[line_data['curve']['grid']['grid_name']] += 1\n",
    "\n",
    "print(grid_name_to_count)\n",
    "\n",
    "# result: defaultdict(<class 'int'>, {'default': 5626340, 'extra': 373660})"
   ]
  },
  {
   "cell_type": "markdown",
   "metadata": {},
   "source": [
    "Было проверено, что есть ровно две раскладки. Распределение крайне неравномерное. Одинаковые раскладки абсолютно одинаковы"
   ]
  },
  {
   "cell_type": "code",
   "execution_count": null,
   "metadata": {},
   "outputs": [],
   "source": [
    "def compare_all_grids_same(datapaths: List[str],\n",
    "                           gridnames: Set[str],\n",
    "                           n_lines_list: List[Optional[int]] = None,\n",
    "                           verbose_different: bool = True):\n",
    "    \n",
    "    grid_templates = {gridname: None for gridname in gridnames}\n",
    "    grids_that_differ = {gridname: [] for gridname in gridnames}\n",
    "\n",
    "    for datapath, n_lines in zip(datapaths, n_lines_list):\n",
    "        with open(datapath, encoding=\"utf-8\") as f:\n",
    "            for i, line in tqdm(enumerate(f), total = n_lines):\n",
    "                line_data = json.loads(line)\n",
    "\n",
    "                grid = line_data['curve']['grid']\n",
    "                g_name = grid['grid_name']\n",
    "\n",
    "                if grid_templates[g_name] is None:\n",
    "                    grid_templates[g_name] = grid\n",
    "\n",
    "                # Equality of dicts in python checks that all \n",
    "                # keys and corresponding values match up. \n",
    "                # The check is reqursive. So basic `!=` operator is valid.\n",
    "                if grid != grid_templates[g_name]:\n",
    "                    grids_that_differ[g_name].append((datapath, i, grid))\n",
    "                    if verbose_different:\n",
    "                        print(f\"Grid {g_name} differs in {datapath} at line {i}\")\n",
    "    \n",
    "    return grids_that_differ"
   ]
  },
  {
   "cell_type": "code",
   "execution_count": null,
   "metadata": {},
   "outputs": [],
   "source": [
    "datapaths = [TRAIN_DATASET_PATH, VALID_DATASET_PATH, TEST_DATASET_PATH]\n",
    "\n",
    "N_TRAIN_LINES = 6000000\n",
    "gridnames = {'default', 'extra'}\n",
    "\n",
    "grids_that_differ = compare_all_grids_same(datapaths,\n",
    "                                           gridnames,\n",
    "                                           n_lines_list = [N_TRAIN_LINES, None, None],\n",
    "                                           verbose_different = True)\n",
    "\n",
    "print(grids_that_differ)\n",
    "\n",
    "# result: {'default': [], 'extra': []}"
   ]
  },
  {
   "cell_type": "code",
   "execution_count": null,
   "metadata": {},
   "outputs": [],
   "source": [
    "# similar check to compare_all_grids_same but faster\n",
    "\n",
    "def compare_all_grids_same_using_strs(datapaths: List[str],\n",
    "                                      end_strs: List[str],\n",
    "                                      n_lines_list: List[int],\n",
    "                                      verbose_different: bool = True):\n",
    "    lines_with_different_grids = []\n",
    "    for datapath, n_lines in zip(datapaths, n_lines_list):\n",
    "        with open(datapath, encoding=\"utf-8\") as f:\n",
    "            for i, line in tqdm(enumerate(f), total = n_lines):\n",
    "                if not (line.endswith(end_strs[0]) or line.endswith(end_strs[1])):\n",
    "                    if verbose_different:\n",
    "                        print(f\"Grid differs in {datapath} at line {i}\")\n",
    "                        lines_with_different_grids.append((datapath, i, line))\n",
    "    return lines_with_different_grids\n",
    "\n",
    "\n",
    "\n",
    "datapaths = [TRAIN_DATASET_PATH, VALID_DATASET_PATH, TEST_DATASET_PATH]\n",
    "\n",
    "N_TRAIN_LINES = 6000000\n",
    "\n",
    "compare_all_grids_same_using_strs(\n",
    "    datapaths,\n",
    "    end_strs=[\n",
    "        '\"grid\":{\"width\":1080,\"height\":667,\"keys\":[{\"label\":\"й\",\"hitbox\":{\"x\":0,\"y\":15,\"w\":99,\"h\":154}},{\"label\":\"ц\",\"hitbox\":{\"x\":98,\"y\":15,\"w\":99,\"h\":154}},{\"label\":\"у\",\"hitbox\":{\"x\":196,\"y\":15,\"w\":100,\"h\":154}},{\"label\":\"к\",\"hitbox\":{\"x\":295,\"y\":15,\"w\":99,\"h\":154}},{\"label\":\"е\",\"hitbox\":{\"x\":393,\"y\":15,\"w\":99,\"h\":154}},{\"label\":\"н\",\"hitbox\":{\"x\":491,\"y\":15,\"w\":99,\"h\":154}},{\"label\":\"г\",\"hitbox\":{\"x\":589,\"y\":15,\"w\":99,\"h\":154}},{\"label\":\"ш\",\"hitbox\":{\"x\":687,\"y\":15,\"w\":99,\"h\":154}},{\"label\":\"щ\",\"hitbox\":{\"x\":785,\"y\":15,\"w\":100,\"h\":154}},{\"label\":\"з\",\"hitbox\":{\"x\":884,\"y\":15,\"w\":99,\"h\":154}},{\"label\":\"х\",\"hitbox\":{\"x\":982,\"y\":15,\"w\":98,\"h\":154}},{\"label\":\"ф\",\"hitbox\":{\"x\":0,\"y\":169,\"w\":99,\"h\":154}},{\"label\":\"ы\",\"hitbox\":{\"x\":98,\"y\":169,\"w\":99,\"h\":154}},{\"label\":\"в\",\"hitbox\":{\"x\":196,\"y\":169,\"w\":100,\"h\":154}},{\"label\":\"а\",\"hitbox\":{\"x\":295,\"y\":169,\"w\":99,\"h\":154}},{\"label\":\"п\",\"hitbox\":{\"x\":393,\"y\":169,\"w\":99,\"h\":154}},{\"label\":\"р\",\"hitbox\":{\"x\":491,\"y\":169,\"w\":99,\"h\":154}},{\"label\":\"о\",\"hitbox\":{\"x\":589,\"y\":169,\"w\":99,\"h\":154}},{\"label\":\"л\",\"hitbox\":{\"x\":687,\"y\":169,\"w\":99,\"h\":154}},{\"label\":\"д\",\"hitbox\":{\"x\":785,\"y\":169,\"w\":100,\"h\":154}},{\"label\":\"ж\",\"hitbox\":{\"x\":884,\"y\":169,\"w\":99,\"h\":154}},{\"label\":\"э\",\"hitbox\":{\"x\":982,\"y\":169,\"w\":98,\"h\":154}},{\"action\":\"shift\",\"hitbox\":{\"x\":0,\"y\":323,\"w\":120,\"h\":154}},{\"label\":\"я\",\"hitbox\":{\"x\":119,\"y\":323,\"w\":94,\"h\":154}},{\"label\":\"ч\",\"hitbox\":{\"x\":212,\"y\":323,\"w\":95,\"h\":154}},{\"label\":\"с\",\"hitbox\":{\"x\":306,\"y\":323,\"w\":94,\"h\":154}},{\"label\":\"м\",\"hitbox\":{\"x\":399,\"y\":323,\"w\":95,\"h\":154}},{\"label\":\"и\",\"hitbox\":{\"x\":493,\"y\":323,\"w\":94,\"h\":154}},{\"label\":\"т\",\"hitbox\":{\"x\":586,\"y\":323,\"w\":95,\"h\":154}},{\"label\":\"ь\",\"hitbox\":{\"x\":680,\"y\":323,\"w\":94,\"h\":154}},{\"label\":\"б\",\"hitbox\":{\"x\":773,\"y\":323,\"w\":95,\"h\":154}},{\"label\":\"ю\",\"hitbox\":{\"x\":867,\"y\":323,\"w\":95,\"h\":154}},{\"action\":\"backspace\",\"hitbox\":{\"x\":961,\"y\":323,\"w\":119,\"h\":154}},{\"action\":\"toNumberState\",\"hitbox\":{\"x\":0,\"y\":477,\"w\":141,\"h\":154}},{\"action\":\"globe\",\"hitbox\":{\"x\":140,\"y\":477,\"w\":120,\"h\":154}},{\"label\":\",\",\"hitbox\":{\"x\":259,\"y\":477,\"w\":98,\"h\":154}},{\"action\":\"space\",\"hitbox\":{\"x\":356,\"y\":477,\"w\":455,\"h\":154}},{\"label\":\".\",\"hitbox\":{\"x\":810,\"y\":477,\"w\":98,\"h\":154}},{\"action\":\"enter\",\"hitbox\":{\"x\":907,\"y\":477,\"w\":173,\"h\":154}}],\"grid_name\":\"default\"}}}\\n',\n",
    "        '\"grid\":{\"width\":1080,\"height\":667,\"keys\":[{\"label\":\"й\",\"hitbox\":{\"x\":0,\"y\":15,\"w\":91,\"h\":154}},{\"label\":\"ц\",\"hitbox\":{\"x\":90,\"y\":15,\"w\":91,\"h\":154}},{\"label\":\"у\",\"hitbox\":{\"x\":180,\"y\":15,\"w\":91,\"h\":154}},{\"label\":\"к\",\"hitbox\":{\"x\":270,\"y\":15,\"w\":91,\"h\":154}},{\"label\":\"е\",\"hitbox\":{\"x\":360,\"y\":15,\"w\":91,\"h\":154}},{\"label\":\"н\",\"hitbox\":{\"x\":450,\"y\":15,\"w\":91,\"h\":154}},{\"label\":\"г\",\"hitbox\":{\"x\":540,\"y\":15,\"w\":91,\"h\":154}},{\"label\":\"ш\",\"hitbox\":{\"x\":630,\"y\":15,\"w\":91,\"h\":154}},{\"label\":\"щ\",\"hitbox\":{\"x\":720,\"y\":15,\"w\":91,\"h\":154}},{\"label\":\"з\",\"hitbox\":{\"x\":810,\"y\":15,\"w\":91,\"h\":154}},{\"label\":\"х\",\"hitbox\":{\"x\":900,\"y\":15,\"w\":91,\"h\":154}},{\"label\":\"ё\",\"hitbox\":{\"x\":990,\"y\":15,\"w\":90,\"h\":154}},{\"label\":\"ф\",\"hitbox\":{\"x\":0,\"y\":169,\"w\":91,\"h\":154}},{\"label\":\"ы\",\"hitbox\":{\"x\":90,\"y\":169,\"w\":91,\"h\":154}},{\"label\":\"в\",\"hitbox\":{\"x\":180,\"y\":169,\"w\":91,\"h\":154}},{\"label\":\"а\",\"hitbox\":{\"x\":270,\"y\":169,\"w\":91,\"h\":154}},{\"label\":\"п\",\"hitbox\":{\"x\":360,\"y\":169,\"w\":91,\"h\":154}},{\"label\":\"р\",\"hitbox\":{\"x\":450,\"y\":169,\"w\":91,\"h\":154}},{\"label\":\"о\",\"hitbox\":{\"x\":540,\"y\":169,\"w\":91,\"h\":154}},{\"label\":\"л\",\"hitbox\":{\"x\":630,\"y\":169,\"w\":91,\"h\":154}},{\"label\":\"д\",\"hitbox\":{\"x\":720,\"y\":169,\"w\":91,\"h\":154}},{\"label\":\"ж\",\"hitbox\":{\"x\":810,\"y\":169,\"w\":91,\"h\":154}},{\"label\":\"э\",\"hitbox\":{\"x\":900,\"y\":169,\"w\":91,\"h\":154}},{\"label\":\"ъ\",\"hitbox\":{\"x\":990,\"y\":169,\"w\":90,\"h\":154}},{\"action\":\"shift\",\"hitbox\":{\"x\":0,\"y\":323,\"w\":91,\"h\":154}},{\"label\":\"я\",\"hitbox\":{\"x\":90,\"y\":323,\"w\":91,\"h\":154}},{\"label\":\"ч\",\"hitbox\":{\"x\":180,\"y\":323,\"w\":91,\"h\":154}},{\"label\":\"с\",\"hitbox\":{\"x\":270,\"y\":323,\"w\":91,\"h\":154}},{\"label\":\"м\",\"hitbox\":{\"x\":360,\"y\":323,\"w\":91,\"h\":154}},{\"label\":\"и\",\"hitbox\":{\"x\":450,\"y\":323,\"w\":91,\"h\":154}},{\"label\":\"т\",\"hitbox\":{\"x\":540,\"y\":323,\"w\":91,\"h\":154}},{\"label\":\"ь\",\"hitbox\":{\"x\":630,\"y\":323,\"w\":91,\"h\":154}},{\"label\":\"б\",\"hitbox\":{\"x\":720,\"y\":323,\"w\":91,\"h\":154}},{\"label\":\"ю\",\"hitbox\":{\"x\":810,\"y\":323,\"w\":91,\"h\":154}},{\"label\":\"?\",\"hitbox\":{\"x\":900,\"y\":323,\"w\":91,\"h\":154}},{\"action\":\"backspace\",\"hitbox\":{\"x\":990,\"y\":323,\"w\":90,\"h\":154}},{\"action\":\"toNumberState\",\"hitbox\":{\"x\":0,\"y\":477,\"w\":141,\"h\":154}},{\"action\":\"globe\",\"hitbox\":{\"x\":140,\"y\":477,\"w\":120,\"h\":154}},{\"label\":\",\",\"hitbox\":{\"x\":259,\"y\":477,\"w\":98,\"h\":154}},{\"action\":\"space\",\"hitbox\":{\"x\":356,\"y\":477,\"w\":455,\"h\":154}},{\"label\":\".\",\"hitbox\":{\"x\":810,\"y\":477,\"w\":98,\"h\":154}},{\"action\":\"enter\",\"hitbox\":{\"x\":907,\"y\":477,\"w\":173,\"h\":154}}],\"grid_name\":\"extra\"}}}\\n'\n",
    "    ],\n",
    "    n_lines_list = [N_TRAIN_LINES, None, None],\n",
    ")\n",
    "\n",
    "# result: []"
   ]
  },
  {
   "cell_type": "markdown",
   "metadata": {},
   "source": [
    "Помотрим на раскладки"
   ]
  },
  {
   "cell_type": "code",
   "execution_count": null,
   "metadata": {},
   "outputs": [],
   "source": [
    "def get_grids(grid_names: List[str], datapath: str) -> Dict[str, dict]:\n",
    "    grid_name_to_grid = {gname: None for gname in grid_names}\n",
    "    with open(datapath, encoding=\"utf-8\") as f:\n",
    "        for line in f:\n",
    "            line_data = json.loads(line)\n",
    "            grid = line_data['curve']['grid']\n",
    "            grid_name_to_grid[grid['grid_name']] = grid\n",
    "            if None not in grid_name_to_grid.values():\n",
    "                return grid_name_to_grid\n",
    "    return grid_name_to_grid"
   ]
  },
  {
   "cell_type": "code",
   "execution_count": null,
   "metadata": {},
   "outputs": [
    {
     "name": "stdout",
     "output_type": "stream",
     "text": [
      "default\n",
      "{'width': 1080, 'height': 667, 'keys': [{'label': 'й', 'hitbox': {'x': 0, 'y': 15, 'w': 99, 'h': 154}}, {'label': 'ц', 'hitbox': {'x': 98, 'y': 15, 'w': 99, 'h': 154}}, {'label': 'у', 'hitbox': {'x': 196, 'y': 15, 'w': 100, 'h': 154}}, {'label': 'к', 'hitbox': {'x': 295, 'y': 15, 'w': 99, 'h': 154}}, {'label': 'е', 'hitbox': {'x': 393, 'y': 15, 'w': 99, 'h': 154}}, {'label': 'н', 'hitbox': {'x': 491, 'y': 15, 'w': 99, 'h': 154}}, {'label': 'г', 'hitbox': {'x': 589, 'y': 15, 'w': 99, 'h': 154}}, {'label': 'ш', 'hitbox': {'x': 687, 'y': 15, 'w': 99, 'h': 154}}, {'label': 'щ', 'hitbox': {'x': 785, 'y': 15, 'w': 100, 'h': 154}}, {'label': 'з', 'hitbox': {'x': 884, 'y': 15, 'w': 99, 'h': 154}}, {'label': 'х', 'hitbox': {'x': 982, 'y': 15, 'w': 98, 'h': 154}}, {'label': 'ф', 'hitbox': {'x': 0, 'y': 169, 'w': 99, 'h': 154}}, {'label': 'ы', 'hitbox': {'x': 98, 'y': 169, 'w': 99, 'h': 154}}, {'label': 'в', 'hitbox': {'x': 196, 'y': 169, 'w': 100, 'h': 154}}, {'label': 'а', 'hitbox': {'x': 295, 'y': 169, 'w': 99, 'h': 154}}, {'label': 'п', 'hitbox': {'x': 393, 'y': 169, 'w': 99, 'h': 154}}, {'label': 'р', 'hitbox': {'x': 491, 'y': 169, 'w': 99, 'h': 154}}, {'label': 'о', 'hitbox': {'x': 589, 'y': 169, 'w': 99, 'h': 154}}, {'label': 'л', 'hitbox': {'x': 687, 'y': 169, 'w': 99, 'h': 154}}, {'label': 'д', 'hitbox': {'x': 785, 'y': 169, 'w': 100, 'h': 154}}, {'label': 'ж', 'hitbox': {'x': 884, 'y': 169, 'w': 99, 'h': 154}}, {'label': 'э', 'hitbox': {'x': 982, 'y': 169, 'w': 98, 'h': 154}}, {'action': 'shift', 'hitbox': {'x': 0, 'y': 323, 'w': 120, 'h': 154}}, {'label': 'я', 'hitbox': {'x': 119, 'y': 323, 'w': 94, 'h': 154}}, {'label': 'ч', 'hitbox': {'x': 212, 'y': 323, 'w': 95, 'h': 154}}, {'label': 'с', 'hitbox': {'x': 306, 'y': 323, 'w': 94, 'h': 154}}, {'label': 'м', 'hitbox': {'x': 399, 'y': 323, 'w': 95, 'h': 154}}, {'label': 'и', 'hitbox': {'x': 493, 'y': 323, 'w': 94, 'h': 154}}, {'label': 'т', 'hitbox': {'x': 586, 'y': 323, 'w': 95, 'h': 154}}, {'label': 'ь', 'hitbox': {'x': 680, 'y': 323, 'w': 94, 'h': 154}}, {'label': 'б', 'hitbox': {'x': 773, 'y': 323, 'w': 95, 'h': 154}}, {'label': 'ю', 'hitbox': {'x': 867, 'y': 323, 'w': 95, 'h': 154}}, {'action': 'backspace', 'hitbox': {'x': 961, 'y': 323, 'w': 119, 'h': 154}}, {'action': 'toNumberState', 'hitbox': {'x': 0, 'y': 477, 'w': 141, 'h': 154}}, {'action': 'globe', 'hitbox': {'x': 140, 'y': 477, 'w': 120, 'h': 154}}, {'label': ',', 'hitbox': {'x': 259, 'y': 477, 'w': 98, 'h': 154}}, {'action': 'space', 'hitbox': {'x': 356, 'y': 477, 'w': 455, 'h': 154}}, {'label': '.', 'hitbox': {'x': 810, 'y': 477, 'w': 98, 'h': 154}}, {'action': 'enter', 'hitbox': {'x': 907, 'y': 477, 'w': 173, 'h': 154}}], 'grid_name': 'default'}\n",
      "\n",
      "extra\n",
      "{'width': 1080, 'height': 667, 'keys': [{'label': 'й', 'hitbox': {'x': 0, 'y': 15, 'w': 91, 'h': 154}}, {'label': 'ц', 'hitbox': {'x': 90, 'y': 15, 'w': 91, 'h': 154}}, {'label': 'у', 'hitbox': {'x': 180, 'y': 15, 'w': 91, 'h': 154}}, {'label': 'к', 'hitbox': {'x': 270, 'y': 15, 'w': 91, 'h': 154}}, {'label': 'е', 'hitbox': {'x': 360, 'y': 15, 'w': 91, 'h': 154}}, {'label': 'н', 'hitbox': {'x': 450, 'y': 15, 'w': 91, 'h': 154}}, {'label': 'г', 'hitbox': {'x': 540, 'y': 15, 'w': 91, 'h': 154}}, {'label': 'ш', 'hitbox': {'x': 630, 'y': 15, 'w': 91, 'h': 154}}, {'label': 'щ', 'hitbox': {'x': 720, 'y': 15, 'w': 91, 'h': 154}}, {'label': 'з', 'hitbox': {'x': 810, 'y': 15, 'w': 91, 'h': 154}}, {'label': 'х', 'hitbox': {'x': 900, 'y': 15, 'w': 91, 'h': 154}}, {'label': 'ё', 'hitbox': {'x': 990, 'y': 15, 'w': 90, 'h': 154}}, {'label': 'ф', 'hitbox': {'x': 0, 'y': 169, 'w': 91, 'h': 154}}, {'label': 'ы', 'hitbox': {'x': 90, 'y': 169, 'w': 91, 'h': 154}}, {'label': 'в', 'hitbox': {'x': 180, 'y': 169, 'w': 91, 'h': 154}}, {'label': 'а', 'hitbox': {'x': 270, 'y': 169, 'w': 91, 'h': 154}}, {'label': 'п', 'hitbox': {'x': 360, 'y': 169, 'w': 91, 'h': 154}}, {'label': 'р', 'hitbox': {'x': 450, 'y': 169, 'w': 91, 'h': 154}}, {'label': 'о', 'hitbox': {'x': 540, 'y': 169, 'w': 91, 'h': 154}}, {'label': 'л', 'hitbox': {'x': 630, 'y': 169, 'w': 91, 'h': 154}}, {'label': 'д', 'hitbox': {'x': 720, 'y': 169, 'w': 91, 'h': 154}}, {'label': 'ж', 'hitbox': {'x': 810, 'y': 169, 'w': 91, 'h': 154}}, {'label': 'э', 'hitbox': {'x': 900, 'y': 169, 'w': 91, 'h': 154}}, {'label': 'ъ', 'hitbox': {'x': 990, 'y': 169, 'w': 90, 'h': 154}}, {'action': 'shift', 'hitbox': {'x': 0, 'y': 323, 'w': 91, 'h': 154}}, {'label': 'я', 'hitbox': {'x': 90, 'y': 323, 'w': 91, 'h': 154}}, {'label': 'ч', 'hitbox': {'x': 180, 'y': 323, 'w': 91, 'h': 154}}, {'label': 'с', 'hitbox': {'x': 270, 'y': 323, 'w': 91, 'h': 154}}, {'label': 'м', 'hitbox': {'x': 360, 'y': 323, 'w': 91, 'h': 154}}, {'label': 'и', 'hitbox': {'x': 450, 'y': 323, 'w': 91, 'h': 154}}, {'label': 'т', 'hitbox': {'x': 540, 'y': 323, 'w': 91, 'h': 154}}, {'label': 'ь', 'hitbox': {'x': 630, 'y': 323, 'w': 91, 'h': 154}}, {'label': 'б', 'hitbox': {'x': 720, 'y': 323, 'w': 91, 'h': 154}}, {'label': 'ю', 'hitbox': {'x': 810, 'y': 323, 'w': 91, 'h': 154}}, {'label': '?', 'hitbox': {'x': 900, 'y': 323, 'w': 91, 'h': 154}}, {'action': 'backspace', 'hitbox': {'x': 990, 'y': 323, 'w': 90, 'h': 154}}, {'action': 'toNumberState', 'hitbox': {'x': 0, 'y': 477, 'w': 141, 'h': 154}}, {'action': 'globe', 'hitbox': {'x': 140, 'y': 477, 'w': 120, 'h': 154}}, {'label': ',', 'hitbox': {'x': 259, 'y': 477, 'w': 98, 'h': 154}}, {'action': 'space', 'hitbox': {'x': 356, 'y': 477, 'w': 455, 'h': 154}}, {'label': '.', 'hitbox': {'x': 810, 'y': 477, 'w': 98, 'h': 154}}, {'action': 'enter', 'hitbox': {'x': 907, 'y': 477, 'w': 173, 'h': 154}}], 'grid_name': 'extra'}\n",
      "\n"
     ]
    }
   ],
   "source": [
    "grid_names = ['default', 'extra']\n",
    "grid_name_to_grid = get_grids(grid_names, TRAIN_DATASET_PATH)\n",
    "for gname, grid in grid_name_to_grid.items():\n",
    "    print(gname)\n",
    "    print(grid)\n",
    "    print()"
   ]
  }
 ],
 "metadata": {
  "language_info": {
   "name": "python"
  }
 },
 "nbformat": 4,
 "nbformat_minor": 2
}
