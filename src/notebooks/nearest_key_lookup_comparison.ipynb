{
 "cells": [
  {
   "cell_type": "code",
   "execution_count": 1,
   "metadata": {},
   "outputs": [],
   "source": [
    "%load_ext autoreload\n",
    "%autoreload 2"
   ]
  },
  {
   "cell_type": "code",
   "execution_count": null,
   "metadata": {},
   "outputs": [],
   "source": [
    "import sys; sys.path.append('..')"
   ]
  },
  {
   "cell_type": "code",
   "execution_count": null,
   "metadata": {},
   "outputs": [],
   "source": [
    "import json\n",
    "\n",
    "from tqdm import tqdm\n",
    "import matplotlib.pyplot as plt\n",
    "import numpy as np\n",
    "\n",
    "from feature_extraction.nearest_key_lookup import NearestKeyLookup\n",
    "from feature_extraction.nearest_key_lookup_optimized import NearestKeyLookup as NearestKeyLookupOptimized\n",
    "from ns_tokenizers import ALL_CYRILLIC_LETTERS_ALPHABET_ORD\n",
    "from ns_tokenizers import KeyboardTokenizerv1"
   ]
  },
  {
   "cell_type": "code",
   "execution_count": 3,
   "metadata": {},
   "outputs": [],
   "source": [
    "allowed_keys = ALL_CYRILLIC_LETTERS_ALPHABET_ORD\n",
    "\n",
    "with open('../data/data_separated_grid/gridname_to_grid.json', encoding='utf-8') as f:\n",
    "    gridname_to_grid = json.load(f)\n",
    "grid_before_fix = gridname_to_grid['default']\n",
    "\n",
    "with open('../data/data_separated_grid/gridname_to_grid__fixed.json', encoding='utf-8') as f:\n",
    "    gridname_to_grid__fixed = json.load(f)\n",
    "grid = gridname_to_grid__fixed['default']\n",
    "\n",
    "\n",
    "nkl_old_grid = NearestKeyLookup(grid = grid_before_fix, nearest_key_candidates = allowed_keys)\n",
    "nkl = NearestKeyLookup(grid = grid, nearest_key_candidates = allowed_keys)\n"
   ]
  },
  {
   "cell_type": "code",
   "execution_count": 4,
   "metadata": {},
   "outputs": [],
   "source": [
    "nkl_optimized = NearestKeyLookupOptimized(grid = grid, allowed_keys = allowed_keys)"
   ]
  },
  {
   "cell_type": "code",
   "execution_count": 5,
   "metadata": {},
   "outputs": [
    {
     "data": {
      "text/plain": [
       "[98.18181818181819, 98.18181818181819, 93.55555555555556]"
      ]
     },
     "execution_count": 5,
     "metadata": {},
     "output_type": "execute_result"
    }
   ],
   "source": [
    "nkl_optimized.mean_widths"
   ]
  },
  {
   "cell_type": "code",
   "execution_count": 6,
   "metadata": {},
   "outputs": [
    {
     "data": {
      "text/plain": [
       "9032"
      ]
     },
     "execution_count": 6,
     "metadata": {},
     "output_type": "execute_result"
    }
   ],
   "source": [
    "len(nkl_optimized.nearest_key_labels_dict)"
   ]
  },
  {
   "cell_type": "code",
   "execution_count": 7,
   "metadata": {},
   "outputs": [
    {
     "data": {
      "text/plain": [
       "<matplotlib.image.AxesImage at 0x19436bd2b10>"
      ]
     },
     "execution_count": 7,
     "metadata": {},
     "output_type": "execute_result"
    },
    {
     "data": {
      "image/png": "[encoded data removed]",
      "text/plain": [
       "<Figure size 640x480 with 1 Axes>"
      ]
     },
     "metadata": {},
     "output_type": "display_data"
    }
   ],
   "source": [
    "# We can see that the difference between the `coord_to_kb_label` \n",
    "# for both grids are not identical, but very similar. \n",
    "# The fixed one should be slighly more accurate. We will only use it\n",
    "# from now on. \n",
    "plt.imshow(nkl.coord_to_kb_label.T == nkl_old_grid.coord_to_kb_label.T)"
   ]
  },
  {
   "cell_type": "code",
   "execution_count": 8,
   "metadata": {},
   "outputs": [],
   "source": [
    "del nkl_old_grid"
   ]
  },
  {
   "cell_type": "code",
   "execution_count": 9,
   "metadata": {},
   "outputs": [
    {
     "name": "stderr",
     "output_type": "stream",
     "text": [
      "100%|██████████| 1080/1080 [00:09<00:00, 109.73it/s]\n"
     ]
    }
   ],
   "source": [
    "failed_input_to_values__analytical = {}\n",
    "failed_input_to_values__via_map = {}\n",
    "\n",
    "for x in tqdm(range(grid['width'])):\n",
    "    for y in range(grid['height']):\n",
    "        nkl_result = nkl.get_nearest_kb_label(x, y)\n",
    "        _, is_correctness_guaranteed = nkl_optimized._get_nearest_kb_key_label_analytically(x, y)\n",
    "        result = nkl_optimized.get_nearest_kb_key_label(x, y)\n",
    "        if nkl_result == result:\n",
    "            continue\n",
    "        failed_input_dict = (failed_input_to_values__analytical \n",
    "                             if is_correctness_guaranteed \n",
    "                             else failed_input_to_values__via_map)\n",
    "        failed_input_dict[(x, y)] = (nkl_result, result)\n",
    "\n",
    "all_failed_inputs_dict = {**failed_input_to_values__analytical, **failed_input_to_values__via_map}"
   ]
  },
  {
   "cell_type": "code",
   "execution_count": 10,
   "metadata": {},
   "outputs": [
    {
     "data": {
      "text/plain": [
       "2822"
      ]
     },
     "execution_count": 10,
     "metadata": {},
     "output_type": "execute_result"
    }
   ],
   "source": [
    "len(failed_input_to_values__analytical)\n",
    "# 2822"
   ]
  },
  {
   "cell_type": "code",
   "execution_count": 11,
   "metadata": {},
   "outputs": [
    {
     "data": {
      "text/plain": [
       "618"
      ]
     },
     "execution_count": 11,
     "metadata": {},
     "output_type": "execute_result"
    }
   ],
   "source": [
    "len(failed_input_to_values__via_map)"
   ]
  },
  {
   "cell_type": "code",
   "execution_count": 12,
   "metadata": {},
   "outputs": [
    {
     "data": {
      "text/plain": [
       "0.477539008273641"
      ]
     },
     "execution_count": 12,
     "metadata": {},
     "output_type": "execute_result"
    }
   ],
   "source": [
    "len(all_failed_inputs_dict) / grid['width'] / grid['height'] * 100 "
   ]
  },
  {
   "cell_type": "code",
   "execution_count": 13,
   "metadata": {},
   "outputs": [
    {
     "data": {
      "text/plain": [
       "'ф'"
      ]
     },
     "execution_count": 13,
     "metadata": {},
     "output_type": "execute_result"
    }
   ],
   "source": [
    "nkl_optimized.get_nearest_kb_key_label(0, 334)"
   ]
  },
  {
   "cell_type": "code",
   "execution_count": 14,
   "metadata": {},
   "outputs": [],
   "source": [
    "# grid"
   ]
  },
  {
   "cell_type": "code",
   "execution_count": 15,
   "metadata": {},
   "outputs": [
    {
     "data": {
      "text/plain": [
       "[['й', 'ц', 'у', 'к', 'е', 'н', 'г', 'ш', 'щ', 'з', 'х'],\n",
       " ['ф', 'ы', 'в', 'а', 'п', 'р', 'о', 'л', 'д', 'ж', 'э'],\n",
       " ['я', 'ч', 'с', 'м', 'и', 'т', 'ь', 'б', 'ю']]"
      ]
     },
     "execution_count": 15,
     "metadata": {},
     "output_type": "execute_result"
    }
   ],
   "source": [
    "nkl_optimized.rows"
   ]
  },
  {
   "cell_type": "code",
   "execution_count": 16,
   "metadata": {},
   "outputs": [
    {
     "data": {
      "text/plain": [
       "15"
      ]
     },
     "execution_count": 16,
     "metadata": {},
     "output_type": "execute_result"
    }
   ],
   "source": [
    "nkl_optimized.keyboard_y_offset"
   ]
  },
  {
   "cell_type": "code",
   "execution_count": 17,
   "metadata": {},
   "outputs": [],
   "source": [
    "optimized_results = np.array([nkl_optimized.get_nearest_kb_key_label(x, y) for x in range(grid['width']) for y in range(grid['height'])]).reshape(grid['width'], grid['height'])"
   ]
  },
  {
   "cell_type": "code",
   "execution_count": 18,
   "metadata": {},
   "outputs": [],
   "source": [
    "non_optimized_results = np.array([nkl.get_nearest_kb_label(x, y) for x in range(grid['width']) for y in range(grid['height'])]).reshape(grid['width'], grid['height'])"
   ]
  },
  {
   "cell_type": "code",
   "execution_count": 19,
   "metadata": {},
   "outputs": [],
   "source": [
    "non_optimized_results = non_optimized_results.T"
   ]
  },
  {
   "cell_type": "code",
   "execution_count": 20,
   "metadata": {},
   "outputs": [],
   "source": [
    "optimized_results = optimized_results.T"
   ]
  },
  {
   "cell_type": "code",
   "execution_count": 21,
   "metadata": {},
   "outputs": [
    {
     "data": {
      "text/plain": [
       "<matplotlib.image.AxesImage at 0x194375a4910>"
      ]
     },
     "execution_count": 21,
     "metadata": {},
     "output_type": "execute_result"
    },
    {
     "data": {
      "image/png": "[encoded data removed]",
      "text/plain": [
       "<Figure size 640x480 with 1 Axes>"
      ]
     },
     "metadata": {},
     "output_type": "display_data"
    }
   ],
   "source": [
    "plt.imshow(optimized_results == non_optimized_results)"
   ]
  },
  {
   "cell_type": "code",
   "execution_count": 22,
   "metadata": {},
   "outputs": [],
   "source": [
    "keyboard_tokenizer = KeyboardTokenizerv1()"
   ]
  },
  {
   "cell_type": "code",
   "execution_count": 23,
   "metadata": {},
   "outputs": [],
   "source": [
    "# apply keyboard_tokenizer.get_token(token_id) to optimized_results array\n",
    "\n",
    "optimized_results_int = np.vectorize(keyboard_tokenizer.get_token)(optimized_results)\n",
    "non_optimized_results_int = np.vectorize(keyboard_tokenizer.get_token)(non_optimized_results)"
   ]
  },
  {
   "cell_type": "code",
   "execution_count": 24,
   "metadata": {},
   "outputs": [
    {
     "data": {
      "text/plain": [
       "<matplotlib.image.AxesImage at 0x1943f0e92d0>"
      ]
     },
     "execution_count": 24,
     "metadata": {},
     "output_type": "execute_result"
    },
    {
     "data": {
      "image/png": "[encoded data removed]",
      "text/plain": [
       "<Figure size 640x480 with 1 Axes>"
      ]
     },
     "metadata": {},
     "output_type": "display_data"
    }
   ],
   "source": [
    "plt.imshow(optimized_results_int)"
   ]
  },
  {
   "cell_type": "code",
   "execution_count": 25,
   "metadata": {},
   "outputs": [
    {
     "data": {
      "text/plain": [
       "<matplotlib.image.AxesImage at 0x1943f08e3d0>"
      ]
     },
     "execution_count": 25,
     "metadata": {},
     "output_type": "execute_result"
    },
    {
     "data": {
      "image/png": "[encoded data removed]",
      "text/plain": [
       "<Figure size 640x480 with 1 Axes>"
      ]
     },
     "metadata": {},
     "output_type": "display_data"
    }
   ],
   "source": [
    "plt.imshow(non_optimized_results_int)"
   ]
  },
  {
   "cell_type": "code",
   "execution_count": 26,
   "metadata": {},
   "outputs": [],
   "source": [
    "nkl_optimized.save_state('nkl_optimized_state.pkl')"
   ]
  },
  {
   "cell_type": "code",
   "execution_count": 27,
   "metadata": {},
   "outputs": [],
   "source": [
    "nkl_optimized = NearestKeyLookupOptimized.from_state_dict('nkl_optimized_state.pkl')"
   ]
  },
  {
   "cell_type": "code",
   "execution_count": 28,
   "metadata": {},
   "outputs": [],
   "source": [
    "nkl.save_state('nkl_state.pkl')"
   ]
  },
  {
   "cell_type": "code",
   "execution_count": 29,
   "metadata": {},
   "outputs": [],
   "source": [
    "nkl = NearestKeyLookup.from_state_dict('nkl_state.pkl')"
   ]
  },
  {
   "cell_type": "code",
   "execution_count": null,
   "metadata": {},
   "outputs": [],
   "source": []
  }
 ],
 "metadata": {
  "kernelspec": {
   "display_name": "Python 3",
   "language": "python",
   "name": "python3"
  },
  "language_info": {
   "codemirror_mode": {
    "name": "ipython",
    "version": 3
   },
   "file_extension": ".py",
   "mimetype": "text/x-python",
   "name": "python",
   "nbconvert_exporter": "python",
   "pygments_lexer": "ipython3",
   "version": "3.11.5"
  }
 },
 "nbformat": 4,
 "nbformat_minor": 2
}
