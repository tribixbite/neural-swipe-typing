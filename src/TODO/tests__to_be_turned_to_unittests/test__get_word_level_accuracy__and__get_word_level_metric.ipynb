{
 "cells": [
  {
   "cell_type": "code",
   "execution_count": null,
   "metadata": {},
   "outputs": [],
   "source": [
    "%cd ..\n",
    "\n",
    "\n",
    "######  testing get_word_level_accuracy, get_word_level_metric\n",
    "import os\n",
    "\n",
    "import torch\n",
    "from sklearn.metrics import f1_score, accuracy_score\n",
    "\n",
    "from metrics import get_word_level_accuracy, get_word_level_metric\n",
    "from ns_tokenizers import CharLevelTokenizerv2\n",
    "\n",
    "\n",
    "\n",
    "DATA_ROOT = \"../data/data_preprocessed\"\n",
    "voc_path=os.path.join(DATA_ROOT, \"voc.txt\")\n",
    "char_tokenizer = CharLevelTokenizerv2(voc_path)\n",
    "\n",
    "batch_size = 10\n",
    "seq_len = 5\n",
    "\n",
    "y_true__rand = torch.randint(0, 32, (batch_size, seq_len))\n",
    "pred__rand = torch.randint(0, 32, (batch_size, seq_len))\n",
    "pred__rand[:3] = y_true__rand[:3]\n",
    "\n",
    "mask = torch.zeros((batch_size, seq_len), dtype = torch.bool)\n",
    "mask[:, :-3] = True\n",
    "\n",
    "print(\n",
    "    get_word_level_accuracy(\n",
    "        y_true__rand, pred__rand, pad_token = -1, mask = mask)\n",
    ")\n",
    "\n",
    "print(\n",
    "    get_word_level_metric(accuracy_score, y_true__rand, pred__rand,\n",
    "                      char_tokenizer, mask = mask)\n",
    ")"
   ]
  }
 ],
 "metadata": {
  "language_info": {
   "name": "python"
  }
 },
 "nbformat": 4,
 "nbformat_minor": 2
}
