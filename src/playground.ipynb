{
 "cells": [
  {
   "cell_type": "code",
   "execution_count": 3,
   "metadata": {},
   "outputs": [],
   "source": [
    "import torch\n",
    "import torch.nn as nn\n",
    "from torch.utils.data import Dataset, DataLoader\n",
    "\n",
    "# from model import SwipeCurveEncoderTransformer\n"
   ]
  },
  {
   "cell_type": "code",
   "execution_count": 21,
   "metadata": {},
   "outputs": [],
   "source": [
    "class SwipeCurveEncoderTransformerv1(nn.Module):\n",
    "    \"\"\"\n",
    "    Transformer-based Curve encoder takes in a sequence of vectors and creates a representation\n",
    "    of a swipe gesture on a samrtphone keyboard.\n",
    "    Each vector contains information about finger trajectory at a time step.\n",
    "    It contains:\n",
    "    * x coordinate\n",
    "    * y coordinate\n",
    "    * Optionally: t\n",
    "    * Optionally: dx/dt\n",
    "    * Optionally: dy/dt\n",
    "    * Optionally: keyboard key that has x and y coordinates within its boundaries\n",
    "    \"\"\"\n",
    "\n",
    "    def __init__(self, input_size, hidden_size, num_layers, num_heads, dropout):\n",
    "        super().__init__()\n",
    "        self.input_size = input_size\n",
    "        self.hidden_size = hidden_size\n",
    "        self.num_layers = num_layers\n",
    "        self.num_heads = num_heads\n",
    "        self.dropout = dropout\n",
    "\n",
    "        # self.pos_encoder = PositionalEncoding(input_size, dropout)\n",
    "        self.encoder_layer = nn.TransformerEncoderLayer(input_size, num_heads, hidden_size, dropout)\n",
    "        self.transformer_encoder = nn.TransformerEncoder(self.encoder_layer, num_layers)\n",
    "    \n",
    "    def forward(self, x):\n",
    "        # x = self.pos_encoder(x)\n",
    "        x = self.transformer_encoder(x)\n",
    "        return x"
   ]
  },
  {
   "cell_type": "code",
   "execution_count": 22,
   "metadata": {},
   "outputs": [],
   "source": [
    "encoder = SwipeCurveEncoderTransformerv1(input_size=3, hidden_size=128, num_layers=1, num_heads=1, dropout=0.1)"
   ]
  },
  {
   "cell_type": "code",
   "execution_count": null,
   "metadata": {},
   "outputs": [],
   "source": [
    "import json\n",
    "from torch.utils.data import Dataset, DataLoader\n",
    "\n",
    "\n",
    "class NeuroSwipeDatasetv1(Dataset):\n",
    "    \"\"\"\n",
    "    Dataset class for NeuroSwipe dataset.\n",
    "    The dataset file weights over 3 GB and contains over 6 million swipe gestures.\n",
    "\n",
    "\n",
    "    \"\"\"\n",
    "\n",
    "    def __init__(self, data_path):\n",
    "        \"\"\"\n",
    "        Args:\n",
    "            data_path (string): Path to the NeuroSwipe dataset in JSON format.\n",
    "                A custom version of the dataset is used:\n",
    "                \"grid\" property is replaced with \"grid_name\" property.\n",
    "        \"\"\"\n",
    "        self.json_file = open(data_path, \"r\", encoding=\"utf-8\")\n",
    "\n",
    "    def __del__(self):\n",
    "        self.json_file.close()\n",
    "\n",
    "    def _get_data_from_json_line(self, line):\n",
    "        \"\"\"\n",
    "        Parses a JSON line and returns a dictionary with data.\n",
    "        \"\"\"\n",
    "        data = json.loads(line)\n",
    "        word: str = data['word']\n",
    "\n",
    "        X_list = data['curve']['x']\n",
    "        Y_list = data['curve']['y']\n",
    "        T_list = data['curve']['t']\n",
    "\n",
    "        X = torch.tensor(X_list, dtype=torch.float32)\n",
    "        Y = torch.tensor(Y_list, dtype=torch.float32)\n",
    "        T = torch.tensor(T_list, dtype=torch.float32)\n",
    "\n",
    "        return X, Y, T, word\n"
   ]
  },
  {
   "cell_type": "code",
   "execution_count": null,
   "metadata": {},
   "outputs": [],
   "source": [
    "def LSTM_"
   ]
  },
  {
   "cell_type": "code",
   "execution_count": 19,
   "metadata": {},
   "outputs": [
    {
     "name": "stdout",
     "output_type": "stream",
     "text": [
      "torch.Size([10, 32, 3])\n"
     ]
    },
    {
     "data": {
      "text/plain": [
       "torch.Size([10, 32, 3])"
      ]
     },
     "execution_count": 19,
     "metadata": {},
     "output_type": "execute_result"
    }
   ],
   "source": [
    "batch_size = 10\n",
    "seq_len = 32\n",
    "num_features = 3\n",
    "\n",
    "encoder(torch.rand(batch_size, seq_len, num_features)).shape"
   ]
  },
  {
   "cell_type": "code",
   "execution_count": null,
   "metadata": {},
   "outputs": [],
   "source": []
  }
 ],
 "metadata": {
  "kernelspec": {
   "display_name": "Python 3",
   "language": "python",
   "name": "python3"
  },
  "language_info": {
   "codemirror_mode": {
    "name": "ipython",
    "version": 3
   },
   "file_extension": ".py",
   "mimetype": "text/x-python",
   "name": "python",
   "nbconvert_exporter": "python",
   "pygments_lexer": "ipython3",
   "version": "3.10.10"
  }
 },
 "nbformat": 4,
 "nbformat_minor": 2
}
