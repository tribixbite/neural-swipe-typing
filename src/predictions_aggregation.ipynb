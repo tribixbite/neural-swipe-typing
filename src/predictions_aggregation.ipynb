{
 "cells": [
  {
   "cell_type": "code",
   "execution_count": 1,
   "metadata": {},
   "outputs": [],
   "source": [
    "%load_ext autoreload\n",
    "%autoreload 2"
   ]
  },
  {
   "cell_type": "code",
   "execution_count": 2,
   "metadata": {},
   "outputs": [],
   "source": [
    "import os\n",
    "import json\n",
    "\n",
    "from aggregate_predictions import (aggregate_preds_raw_weighted,\n",
    "                                   aggregate_preds_raw_appendage,\n",
    "                                   get_default_and_extra_idxs, \n",
    "                                   load_preds_to_aggregate,\n",
    "                                   get_vocab_set,\n",
    "                                   merge_default_and_extra_preds,\n",
    "                                   load_baseline_preds,\n",
    "                                   create_submission,\n",
    "                                   append_preds,\n",
    "                                   delete_duplicates_stable)                    "
   ]
  },
  {
   "cell_type": "code",
   "execution_count": 3,
   "metadata": {},
   "outputs": [
    {
     "name": "stdout",
     "output_type": "stream",
     "text": [
      "c:\\Users\\proshian\\Documents\\yandex_cup_2023_ml_neuroswipe\n"
     ]
    }
   ],
   "source": [
    "%cd .."
   ]
  },
  {
   "cell_type": "code",
   "execution_count": 4,
   "metadata": {},
   "outputs": [],
   "source": [
    "DATA_ROOT = \"data/data_separated_grid/\"\n",
    "\n",
    "grid_name_to_ranged_preds_names = {\n",
    "    'default': [\n",
    "        \"m1_bigger__m1_bigger_v2__2023_11_12__14_51_49__0.13115__greed_acc_0.86034__default_l2_0_ls0_switch_2.pt.pkl\",\n",
    "        \"m1_bigger__m1_bigger_v2__2023_11_12__12_30_29__0.13121__greed_acc_0.86098__default_l2_0_ls0_switch_2.pt.pkl\",\n",
    "        \"m1_bigger__m1_bigger_v2__2023_11_11__22_18_35__0.13542_default_l2_0_ls0_switch_1.pt.pkl\",\n",
    "        \"m1_v2__m1_v2__2023_11_09__10_36_02__0.14229_default_switch_0.pt.pkl\",\n",
    "        \"m1_bigger__m1_bigger_v2__2023_11_12__00_39_33__0.13297_default_l2_0_ls0_switch_1.pt.pkl\",\n",
    "        \"m1_bigger__m1_bigger_v2__2023_11_11__14_29_37__0.13679_default_l2_0_ls0_switch_0.pt.pkl\",\n",
    "        \n",
    "    ],\n",
    "    'extra': [\n",
    "        \"m1_v2__m1_v2__2023_11_09__17_47_40__0.14301_extra_l2_1e-05_switch_0.pt.pkl\",\n",
    "        \"m1_bigger__m1_bigger_v2__2023_11_12__02_27_14__0.13413_extra_l2_0_ls0_switch_1.pt.pkl\"\n",
    "    ]\n",
    "}\n",
    "\n",
    "vocab_set = get_vocab_set(os.path.join(DATA_ROOT, \"voc.txt\"))\n",
    "\n",
    "default_idxs, extra_idxs = get_default_and_extra_idxs(\n",
    "    os.path.join(DATA_ROOT, \"test.jsonl\"))\n",
    "\n",
    "grid_name_to_aggregated_preds = {}\n",
    "\n",
    "for grid_name in ('default', 'extra'):\n",
    "    f_names = grid_name_to_ranged_preds_names[grid_name]\n",
    "    f_paths = [os.path.join(\"data/saved_beamsearch_results/\", f_name)\n",
    "                for f_name in f_names]\n",
    "    \n",
    "    preds_to_aggregate = load_preds_to_aggregate(f_paths)\n",
    "    \n",
    "    aggregated_preds = aggregate_preds_raw_appendage(\n",
    "        preds_to_aggregate,\n",
    "        vocab_set,\n",
    "        limit = 4)\n",
    "\n",
    "    grid_name_to_aggregated_preds[grid_name] = aggregated_preds\n",
    "    \n",
    "\n",
    "full_preds = merge_default_and_extra_preds(\n",
    "    grid_name_to_aggregated_preds['default'],\n",
    "    grid_name_to_aggregated_preds['extra'],\n",
    "    default_idxs,\n",
    "    extra_idxs)\n",
    "\n",
    "\n",
    "baseline_preds = load_baseline_preds(r\"data\\submissions\\baseline.csv\")\n",
    "full_preds = append_preds(full_preds, baseline_preds, limit = 4)\n",
    "\n",
    "create_submission(full_preds,\n",
    "    f\"data/submissions/id3_with_baseline_without_old_preds_check.csv\")\n"
   ]
  },
  {
   "cell_type": "code",
   "execution_count": null,
   "metadata": {},
   "outputs": [],
   "source": []
  },
  {
   "cell_type": "code",
   "execution_count": 5,
   "metadata": {},
   "outputs": [],
   "source": [
    "def patch_wrong_prediction_shape(prediciton):\n",
    "    return [pred_el[0] for pred_el in prediciton]"
   ]
  },
  {
   "cell_type": "code",
   "execution_count": 6,
   "metadata": {},
   "outputs": [],
   "source": [
    "f_names = [\n",
    "    \"m1_bigger__m1_bigger_v2__2023_11_12__14_51_49__0.13115__greed_acc_0.86034__default_l2_0_ls0_switch_2.pt.pkl\",\n",
    "    \"m1_bigger__m1_bigger_v2__2023_11_12__12_30_29__0.13121__greed_acc_0.86098__default_l2_0_ls0_switch_2.pt.pkl\",\n",
    "    \"m1_bigger__m1_bigger_v2__2023_11_11__22_18_35__0.13542_default_l2_0_ls0_switch_1.pt.pkl\",\n",
    "    \"m1_v2__m1_v2__2023_11_09__10_36_02__0.14229_default_switch_0.pt.pkl\",\n",
    "    \"m1_bigger__m1_bigger_v2__2023_11_12__00_39_33__0.13297_default_l2_0_ls0_switch_1.pt.pkl\",\n",
    "    # \"m1_bigger__m1_bigger_v2__2023_11_11__14_29_37__0.13679_default_l2_0_ls0_switch_0.pt.pkl\",\n",
    "]\n",
    "\n",
    "f_paths = [os.path.join(\"data/saved_beamsearch_validation_results/\", f_name)\n",
    "            for f_name in f_names]\n",
    "\n",
    "preds_to_aggregate = load_preds_to_aggregate(f_paths)\n",
    "preds_to_aggregate = [patch_wrong_prediction_shape(pred) for pred in preds_to_aggregate]\n",
    "    \n",
    "aggregated_preds = aggregate_preds_raw_appendage(\n",
    "    preds_to_aggregate,\n",
    "    vocab_set,\n",
    "    limit = 4)"
   ]
  },
  {
   "cell_type": "code",
   "execution_count": 7,
   "metadata": {},
   "outputs": [],
   "source": [
    "def get_mmr(preds_list, ref):\n",
    "    # Works properly if has duplicates or n_line_preds < 4\n",
    "\n",
    "    MMR = 0\n",
    "    \n",
    "    for preds, target in zip(preds_list, ref):\n",
    "        preds = delete_duplicates_stable(preds)\n",
    "\n",
    "        weights = [1, 0.1, 0.09, 0.08]\n",
    "\n",
    "        line_MRR = sum(weights[i] * (pred == target) for i, pred in enumerate(preds))\n",
    "\n",
    "        MMR += line_MRR\n",
    "    \n",
    "    MMR /= len(preds_list)\n",
    "\n",
    "    return MMR"
   ]
  },
  {
   "cell_type": "code",
   "execution_count": 8,
   "metadata": {},
   "outputs": [],
   "source": [
    "def get_targets(f_path,\n",
    "                condition = lambda x: True):\n",
    "    with open(f_path, 'r', encoding='utf-8') as f:\n",
    "        targets = [json.loads(line)['word'] for line in f.readlines() if condition(line)]\n",
    "    \n",
    "    return targets"
   ]
  },
  {
   "cell_type": "code",
   "execution_count": 9,
   "metadata": {},
   "outputs": [],
   "source": [
    "val_default_targets = get_targets(os.path.join(DATA_ROOT, \"valid__in_train_format__default_only.jsonl\"))"
   ]
  },
  {
   "cell_type": "code",
   "execution_count": 10,
   "metadata": {},
   "outputs": [
    {
     "name": "stdout",
     "output_type": "stream",
     "text": [
      "0.8958517417162353\n"
     ]
    }
   ],
   "source": [
    "print(get_mmr(aggregated_preds, val_default_targets))"
   ]
  },
  {
   "cell_type": "code",
   "execution_count": null,
   "metadata": {},
   "outputs": [],
   "source": []
  },
  {
   "cell_type": "code",
   "execution_count": 16,
   "metadata": {},
   "outputs": [],
   "source": [
    "preds_to_aggregate = load_preds_to_aggregate(f_paths)\n",
    "preds_to_aggregate = [patch_wrong_prediction_shape(pred) for pred in preds_to_aggregate]\n",
    "    \n",
    "aggregated_preds = aggregate_preds_raw_weighted(\n",
    "    preds_to_aggregate,\n",
    "    [1, 0.1, 0.09, 0.08],\n",
    "    vocab_set,\n",
    "    limit = 4)"
   ]
  },
  {
   "cell_type": "code",
   "execution_count": 17,
   "metadata": {},
   "outputs": [
    {
     "name": "stdout",
     "output_type": "stream",
     "text": [
      "0.8982625318606707\n"
     ]
    }
   ],
   "source": [
    "print(get_mmr(aggregated_preds, val_default_targets))"
   ]
  },
  {
   "cell_type": "code",
   "execution_count": null,
   "metadata": {},
   "outputs": [],
   "source": []
  },
  {
   "cell_type": "code",
   "execution_count": 28,
   "metadata": {},
   "outputs": [],
   "source": [
    "preds_to_aggregate = load_preds_to_aggregate(f_paths)\n",
    "preds_to_aggregate = [patch_wrong_prediction_shape(pred) for pred in preds_to_aggregate]\n",
    "    \n",
    "aggregated_preds = aggregate_preds_raw_weighted(\n",
    "    preds_to_aggregate[0:1],\n",
    "    [1],\n",
    "    vocab_set,\n",
    "    limit = 4)"
   ]
  },
  {
   "cell_type": "code",
   "execution_count": 29,
   "metadata": {},
   "outputs": [
    {
     "name": "stdout",
     "output_type": "stream",
     "text": [
      "0.8929800339847141\n"
     ]
    }
   ],
   "source": [
    "print(get_mmr(aggregated_preds, val_default_targets))"
   ]
  },
  {
   "cell_type": "code",
   "execution_count": null,
   "metadata": {},
   "outputs": [],
   "source": []
  },
  {
   "cell_type": "code",
   "execution_count": 72,
   "metadata": {},
   "outputs": [],
   "source": [
    "preds_to_aggregate = load_preds_to_aggregate(f_paths)\n",
    "preds_to_aggregate = [patch_wrong_prediction_shape(pred) for pred in preds_to_aggregate]\n",
    "    \n",
    "aggregated_preds = aggregate_preds_raw_weighted(\n",
    "    preds_to_aggregate[0:2],\n",
    "    [100, 95],\n",
    "    vocab_set,\n",
    "    limit = 4)"
   ]
  },
  {
   "cell_type": "code",
   "execution_count": 73,
   "metadata": {},
   "outputs": [
    {
     "name": "stdout",
     "output_type": "stream",
     "text": [
      "0.8962956669498799\n"
     ]
    }
   ],
   "source": [
    "print(get_mmr(aggregated_preds, val_default_targets))"
   ]
  },
  {
   "cell_type": "code",
   "execution_count": null,
   "metadata": {},
   "outputs": [],
   "source": []
  },
  {
   "cell_type": "code",
   "execution_count": null,
   "metadata": {},
   "outputs": [],
   "source": []
  },
  {
   "cell_type": "code",
   "execution_count": null,
   "metadata": {},
   "outputs": [],
   "source": [
    "grid_name_to_f_names = {\n",
    "    'default': [\n",
    "        \"m1_bigger__m1_bigger_v2__2023_11_12__14_51_49__0.13115__greed_acc_0.86034__default_l2_0_ls0_switch_2.pt.pkl\",\n",
    "        \"m1_bigger__m1_bigger_v2__2023_11_12__12_30_29__0.13121__greed_acc_0.86098__default_l2_0_ls0_switch_2.pt.pkl\",\n",
    "        \"m1_bigger__m1_bigger_v2__2023_11_11__22_18_35__0.13542_default_l2_0_ls0_switch_1.pt.pkl\",\n",
    "        \"m1_v2__m1_v2__2023_11_09__10_36_02__0.14229_default_switch_0.pt.pkl\",\n",
    "        \"m1_bigger__m1_bigger_v2__2023_11_12__00_39_33__0.13297_default_l2_0_ls0_switch_1.pt.pkl\",\n",
    "        \"m1_bigger__m1_bigger_v2__2023_11_11__14_29_37__0.13679_default_l2_0_ls0_switch_0.pt.pkl\",\n",
    "    ],\n",
    "    'extra': [\n",
    "        \"m1_v2__m1_v2__2023_11_09__17_47_40__0.14301_extra_l2_1e-05_switch_0.pt.pkl\",\n",
    "        \"m1_bigger__m1_bigger_v2__2023_11_12__02_27_14__0.13413_extra_l2_0_ls0_switch_1.pt.pkl\"\n",
    "    ]\n",
    "}\n",
    "\n",
    "test_preds_root = \"data/saved_beamsearch_validation_results/\"\n",
    "\n",
    "grid_name_to_test_f_paths = {\n",
    "    grid_name: [os.path.join(test_preds_root, f_name)\n",
    "                for f_name in grid_name_to_f_names[grid_name]]\n",
    "    for grid_name in grid_name_to_f_names.keys()\n",
    "}\n"
   ]
  },
  {
   "cell_type": "code",
   "execution_count": null,
   "metadata": {},
   "outputs": [],
   "source": [
    "preds_to_aggregate = load_preds_to_aggregate(grid_name_to_test_f_paths['default'])\n",
    "    \n",
    "aggregated_default_preds = aggregate_preds_raw_weighted(\n",
    "    preds_to_aggregate,\n",
    "    [1, 0.1, 0.09, 0.08],\n",
    "    vocab_set,\n",
    "    limit = 4)"
   ]
  }
 ],
 "metadata": {
  "kernelspec": {
   "display_name": "Python 3",
   "language": "python",
   "name": "python3"
  },
  "language_info": {
   "codemirror_mode": {
    "name": "ipython",
    "version": 3
   },
   "file_extension": ".py",
   "mimetype": "text/x-python",
   "name": "python",
   "nbconvert_exporter": "python",
   "pygments_lexer": "ipython3",
   "version": "3.11.5"
  }
 },
 "nbformat": 4,
 "nbformat_minor": 2
}
