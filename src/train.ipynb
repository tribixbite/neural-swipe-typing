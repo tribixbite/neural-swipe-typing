{
  "cells": [
    {
      "cell_type": "markdown",
      "metadata": {},
      "source": [
        "# Setting up environment (Skip when running locally)\n",
        "# Only for kaggle / colab"
      ]
    },
    {
      "cell_type": "code",
      "execution_count": null,
      "metadata": {},
      "outputs": [],
      "source": [
        "WORKING_DIRECTORY =  \"/kaggle/working\" # \"/content\" \n",
        "GIT_BRANCH = \"refactoring\""
      ]
    },
    {
      "cell_type": "code",
      "execution_count": null,
      "metadata": {
        "colab": {
          "base_uri": "https://localhost:8080/"
        },
        "execution": {
          "iopub.execute_input": "2024-06-08T23:51:20.768456Z",
          "iopub.status.busy": "2024-06-08T23:51:20.768069Z",
          "iopub.status.idle": "2024-06-08T23:51:20.772867Z",
          "shell.execute_reply": "2024-06-08T23:51:20.771865Z",
          "shell.execute_reply.started": "2024-06-08T23:51:20.768425Z"
        },
        "id": "L1waV8uxF0WC",
        "outputId": "f6e31add-d85b-4795-8989-bafc35325547",
        "trusted": true
      },
      "outputs": [],
      "source": [
        "# !git clone https://github.com/proshian/neuroswipe.git\n",
        "# %cd {WORKING_DIRECTORY}/neuroswipe\n",
        "# !git pull\n",
        "# !git checkout {GIT_BRANCH}"
      ]
    },
    {
      "cell_type": "code",
      "execution_count": null,
      "metadata": {
        "id": "AQQCkNSBJTa5"
      },
      "outputs": [],
      "source": [
        "# !!!!!!!!!! Pull data from dvc in this cell !!!!!!!!!!"
      ]
    },
    {
      "cell_type": "code",
      "execution_count": null,
      "metadata": {},
      "outputs": [],
      "source": []
    },
    {
      "cell_type": "code",
      "execution_count": null,
      "metadata": {
        "execution": {
          "iopub.execute_input": "2024-06-10T17:30:35.807174Z",
          "iopub.status.busy": "2024-06-10T17:30:35.806716Z",
          "iopub.status.idle": "2024-06-10T17:30:36.906225Z",
          "shell.execute_reply": "2024-06-10T17:30:36.904675Z",
          "shell.execute_reply.started": "2024-06-10T17:30:35.807133Z"
        },
        "id": "8f5KqXrQF0WQ",
        "trusted": true
      },
      "outputs": [],
      "source": [
        "# !ls {WORKING_DIRECTORY}/neuroswipe/src/checkpoint_epoch_end"
      ]
    },
    {
      "cell_type": "code",
      "execution_count": null,
      "metadata": {
        "colab": {
          "base_uri": "https://localhost:8080/"
        },
        "execution": {
          "iopub.execute_input": "2024-06-10T00:16:08.316056Z",
          "iopub.status.busy": "2024-06-10T00:16:08.315503Z",
          "iopub.status.idle": "2024-06-10T00:16:39.209885Z",
          "shell.execute_reply": "2024-06-10T00:16:39.208630Z",
          "shell.execute_reply.started": "2024-06-10T00:16:08.316017Z"
        },
        "id": "fUzc2AtWF0WR",
        "outputId": "94dc35af-82a9-4254-b471-1c2b18a1e23b",
        "trusted": true
      },
      "outputs": [],
      "source": [
        "!pip install lightning --quiet\n",
        "!pip install torchmetrics --quiet"
      ]
    },
    {
      "cell_type": "code",
      "execution_count": null,
      "metadata": {
        "colab": {
          "base_uri": "https://localhost:8080/"
        },
        "execution": {
          "iopub.execute_input": "2024-06-10T00:16:39.212263Z",
          "iopub.status.busy": "2024-06-10T00:16:39.211957Z",
          "iopub.status.idle": "2024-06-10T00:16:41.868189Z",
          "shell.execute_reply": "2024-06-10T00:16:41.867103Z",
          "shell.execute_reply.started": "2024-06-10T00:16:39.212236Z"
        },
        "id": "5Yg17tIqF0WS",
        "outputId": "98518cf3-6544-4be1-d8b4-32f9c57b6e93",
        "trusted": true
      },
      "outputs": [],
      "source": [
        "%cd {WORKING_DIRECTORY}/neuroswipe\n",
        "!git pull\n",
        "!git checkout {GIT_BRANCH}\n",
        "\n",
        "%cd {WORKING_DIRECTORY}/neuroswipe/src"
      ]
    },
    {
      "cell_type": "code",
      "execution_count": null,
      "metadata": {
        "id": "0xS7RSstF0WU"
      },
      "outputs": [],
      "source": []
    },
    {
      "cell_type": "code",
      "execution_count": null,
      "metadata": {
        "execution": {
          "iopub.execute_input": "2024-06-10T00:16:41.870705Z",
          "iopub.status.busy": "2024-06-10T00:16:41.869782Z",
          "iopub.status.idle": "2024-06-10T00:16:41.900277Z",
          "shell.execute_reply": "2024-06-10T00:16:41.899622Z",
          "shell.execute_reply.started": "2024-06-10T00:16:41.870667Z"
        },
        "id": "1NgOtg3LF0WV",
        "metadata": {},
        "trusted": true
      },
      "outputs": [],
      "source": [
        "%load_ext autoreload\n",
        "%autoreload 2"
      ]
    },
    {
      "cell_type": "code",
      "execution_count": null,
      "metadata": {
        "execution": {
          "iopub.execute_input": "2024-06-10T00:16:41.902980Z",
          "iopub.status.busy": "2024-06-10T00:16:41.902576Z",
          "iopub.status.idle": "2024-06-10T00:16:42.890233Z",
          "shell.execute_reply": "2024-06-10T00:16:42.888808Z",
          "shell.execute_reply.started": "2024-06-10T00:16:41.902950Z"
        },
        "id": "4wCshS37F0WV",
        "trusted": true
      },
      "outputs": [],
      "source": [
        "# To identify repo state and reproduce the experiment\n",
        "!git show -s --format=%H"
      ]
    },
    {
      "cell_type": "code",
      "execution_count": null,
      "metadata": {
        "execution": {
          "iopub.execute_input": "2024-06-10T00:16:42.893180Z",
          "iopub.status.busy": "2024-06-10T00:16:42.892134Z",
          "iopub.status.idle": "2024-06-10T00:16:42.918049Z",
          "shell.execute_reply": "2024-06-10T00:16:42.916759Z",
          "shell.execute_reply.started": "2024-06-10T00:16:42.893135Z"
        },
        "id": "2zqfAX6eF0Xp",
        "metadata": {},
        "trusted": true
      },
      "outputs": [],
      "source": [
        "# !rm -r /kaggle/working/neuroswipe/src/lightning_logs\n",
        "# !rm -r /kaggle/working/neuroswipe/src/checkpoints\n",
        "# !rm -r /kaggle/working/neuroswipe/src/checkpoint_epoch_end"
      ]
    },
    {
      "cell_type": "code",
      "execution_count": null,
      "metadata": {
        "execution": {
          "iopub.execute_input": "2024-06-10T17:32:26.694045Z",
          "iopub.status.busy": "2024-06-10T17:32:26.693493Z",
          "iopub.status.idle": "2024-06-10T17:33:10.521986Z",
          "shell.execute_reply": "2024-06-10T17:33:10.520777Z",
          "shell.execute_reply.started": "2024-06-10T17:32:26.694003Z"
        },
        "id": "dc9WDArrF0Xs",
        "metadata": {},
        "trusted": true
      },
      "outputs": [],
      "source": [
        "# !zip -r /kaggle/working/src.zip /kaggle/working/neuroswipe/src"
      ]
    },
    {
      "cell_type": "code",
      "execution_count": null,
      "metadata": {
        "execution": {
          "iopub.execute_input": "2024-06-10T00:16:42.941082Z",
          "iopub.status.busy": "2024-06-10T00:16:42.940812Z",
          "iopub.status.idle": "2024-06-10T00:16:43.991796Z",
          "shell.execute_reply": "2024-06-10T00:16:43.990592Z",
          "shell.execute_reply.started": "2024-06-10T00:16:42.941056Z"
        },
        "id": "aGf_DLZ7F0Xt",
        "metadata": {},
        "trusted": true
      },
      "outputs": [],
      "source": [
        "# !rm /kaggle/working/src.zip"
      ]
    },
    {
      "cell_type": "code",
      "execution_count": null,
      "metadata": {
        "id": "mXJCm7P9F0Xu",
        "trusted": true
      },
      "outputs": [],
      "source": []
    },
    {
      "cell_type": "markdown",
      "metadata": {},
      "source": [
        "# Script arguments emulation"
      ]
    },
    {
      "cell_type": "code",
      "execution_count": null,
      "metadata": {
        "execution": {
          "iopub.execute_input": "2024-06-10T00:17:13.716098Z",
          "iopub.status.busy": "2024-06-10T00:17:13.715148Z",
          "iopub.status.idle": "2024-06-10T00:17:13.738296Z",
          "shell.execute_reply": "2024-06-10T00:17:13.737292Z",
          "shell.execute_reply.started": "2024-06-10T00:17:13.716056Z"
        },
        "id": "6fszOasCF0Xu",
        "metadata": {},
        "trusted": true
      },
      "outputs": [],
      "source": [
        "############# Script arguments emulation #############\n",
        "\n",
        "CKPT_FNAME = None\n",
        "GRID_NAME = \"default\"\n",
        "TRAIN_BATCH_SIZE = 256\n",
        "VAL_BATCH_SIZE = 512\n",
        "IN_KAGGLE = False\n",
        "RANDOM_SEED = 12\n",
        "NOISE_RANGE = 0  # set to 0 to avoid augmentation\n",
        "LOG_DIR = \"lightning_logs/\"\n",
        "MODEL_NAME = \"v3_nearest_and_traj_transformer_bigger\"   # \"v2_weighted_transformer_bigger\"  #\"weighted_transformer_bigger\"  # \"transformer_m1_bigger\"\n",
        "TRANSFORM_NAME =  \"traj_feats_and_nearest_key\"  # \"traj_feats_and_distances\"  # \"nearest_key_only\"\n",
        "DIST_WEIGHTS_FUNC_NAME =  \"weights_function_v1\"  # \"weights_function_sigmoid_normalized_v1\"  # \"weights_function_v1_softmax\"\n",
        "\n",
        "USE_COORDS = True\n",
        "USE_TIME = False\n",
        "USE_VELOCITY = True\n",
        "USE_ACCELERATION = True\n",
        "\n",
        "\n",
        "TRAJ_FEATS_STR = f\"{'time' if USE_TIME else ''}{'_acceleration' if USE_ACCELERATION else ''}{'_velocity' if USE_VELOCITY else ''}\"\n",
        "\n",
        "\n",
        "USE_AUGMENTATIONS_STR = f\"uniform_int_noise_{NOISE_RANGE}__\" if NOISE_RANGE else \"\"\n",
        "EXPERIMENT_NAME = f\"{MODEL_NAME}__{GRID_NAME}__{TRAJ_FEATS_STR}__{USE_AUGMENTATIONS_STR}from_random_weights__batch__{TRAIN_BATCH_SIZE}/SEED_{RANDOM_SEED}\"\n",
        "\n",
        "DATA_ROOT = \"../data/data_separated_grid\"\n",
        "\n",
        "\n",
        "DATALOADER_NUM_WORKERS = 4"
      ]
    },
    {
      "cell_type": "code",
      "execution_count": 8,
      "metadata": {},
      "outputs": [
        {
          "data": {
            "text/plain": [
              "4"
            ]
          },
          "execution_count": 8,
          "metadata": {},
          "output_type": "execute_result"
        }
      ],
      "source": [
        "# sanity check for amount of workers\n",
        "import multiprocessing\n",
        "multiprocessing.cpu_count()"
      ]
    },
    {
      "cell_type": "markdown",
      "metadata": {},
      "source": [
        "# Imports"
      ]
    },
    {
      "cell_type": "code",
      "execution_count": null,
      "metadata": {
        "execution": {
          "iopub.execute_input": "2024-06-10T00:17:14.044749Z",
          "iopub.status.busy": "2024-06-10T00:17:14.044181Z",
          "iopub.status.idle": "2024-06-10T00:17:17.389283Z",
          "shell.execute_reply": "2024-06-10T00:17:17.388456Z",
          "shell.execute_reply.started": "2024-06-10T00:17:14.044721Z"
        },
        "id": "qcQvLsS8F0Xv",
        "metadata": {},
        "trusted": true
      },
      "outputs": [],
      "source": [
        "import os\n",
        "\n",
        "import torch\n",
        "import torch.nn.functional as F\n",
        "from torch.utils.data import DataLoader\n",
        "from tqdm.notebook import tqdm\n",
        "import numpy as np\n",
        "\n",
        "\n",
        "from ns_tokenizers import CharLevelTokenizerv2, KeyboardTokenizerv1\n",
        "from dataset import CurveDataset, CollateFnV2\n",
        "from feature_extractors import weights_function_v1_softmax, weights_function_v1, weights_function_sigmoid_normalized_v1\n",
        "from feature_extractors import get_transforms\n",
        "from metrics import get_word_level_accuracy, get_word_level_metric"
      ]
    },
    {
      "cell_type": "markdown",
      "metadata": {},
      "source": [
        "# Other constancts (that need imports above)"
      ]
    },
    {
      "cell_type": "code",
      "execution_count": null,
      "metadata": {
        "execution": {
          "iopub.execute_input": "2024-06-10T00:17:17.391305Z",
          "iopub.status.busy": "2024-06-10T00:17:17.390943Z",
          "iopub.status.idle": "2024-06-10T00:17:17.422654Z",
          "shell.execute_reply": "2024-06-10T00:17:17.421814Z",
          "shell.execute_reply.started": "2024-06-10T00:17:17.391281Z"
        },
        "id": "p2g9UCOeF0Xw",
        "metadata": {},
        "trusted": true
      },
      "outputs": [],
      "source": [
        "################ Other constants ####################\n",
        "GRID_NAME_TO_DS_PATHS = {\n",
        "    \"extra\": {\n",
        "        \"train\": os.path.join(DATA_ROOT, \"train__extra_only_no_errors__2023_11_01__19_49_14.jsonl\"),\n",
        "        \"val\": os.path.join(DATA_ROOT, \"valid__in_train_format__extra_only.jsonl\")\n",
        "    },\n",
        "    \"default\": {\n",
        "        \"train\": os.path.join(DATA_ROOT, \"train__default_only_no_errors__2023_10_31__03_26_16.jsonl\"),\n",
        "        \"val\": os.path.join(DATA_ROOT, \"valid__in_train_format__default_only.jsonl\")\n",
        "    }\n",
        "}\n",
        "\n",
        "\n",
        "DS_PATHS = GRID_NAME_TO_DS_PATHS[GRID_NAME]\n",
        "\n",
        "\n",
        "DIST_WEIGHTS_FUNCS_DICT = {\n",
        "    'weights_function_v1_softmax': weights_function_v1_softmax,\n",
        "    'weights_function_v1': weights_function_v1,\n",
        "    'weights_function_sigmoid_normalized_v1': weights_function_sigmoid_normalized_v1,\n",
        "}\n",
        "\n",
        "DIST_WEIGHTS_FUNC = DIST_WEIGHTS_FUNCS_DICT[DIST_WEIGHTS_FUNC_NAME]\n",
        "\n",
        "N_COORD_FEATS = 2 * (USE_COORDS + USE_VELOCITY + USE_ACCELERATION) + USE_TIME"
      ]
    },
    {
      "cell_type": "code",
      "execution_count": null,
      "metadata": {
        "execution": {
          "iopub.execute_input": "2024-06-10T00:17:17.424102Z",
          "iopub.status.busy": "2024-06-10T00:17:17.423811Z",
          "iopub.status.idle": "2024-06-10T00:17:17.451270Z",
          "shell.execute_reply": "2024-06-10T00:17:17.450537Z",
          "shell.execute_reply.started": "2024-06-10T00:17:17.424079Z"
        },
        "id": "Vij5KloNF0Xw",
        "metadata": {},
        "trusted": true
      },
      "outputs": [],
      "source": [
        "# if IN_KAGGLE:\n",
        "#     DATA_ROOT = \"/kaggle/input/neuroswipe-defualt-only-v1\"\n",
        "#     MODELS_DIR = \"\""
      ]
    },
    {
      "cell_type": "markdown",
      "metadata": {},
      "source": [
        "# Fn defintions"
      ]
    },
    {
      "cell_type": "code",
      "execution_count": null,
      "metadata": {
        "execution": {
          "iopub.execute_input": "2024-06-10T00:17:17.453049Z",
          "iopub.status.busy": "2024-06-10T00:17:17.452795Z",
          "iopub.status.idle": "2024-06-10T00:17:17.480101Z",
          "shell.execute_reply": "2024-06-10T00:17:17.479246Z",
          "shell.execute_reply.started": "2024-06-10T00:17:17.453028Z"
        },
        "id": "wmPFcyQ-F0Xx",
        "metadata": {},
        "trusted": true
      },
      "outputs": [],
      "source": [
        "def init_random_seed(value):\n",
        "    # random.seed(value)\n",
        "    np.random.seed(value)\n",
        "    torch.manual_seed(value)\n",
        "    torch.cuda.manual_seed(value)\n",
        "    # torch.backends.cudnn.deterministic = True"
      ]
    },
    {
      "cell_type": "code",
      "execution_count": null,
      "metadata": {
        "id": "s0ERkgz2F0Xx"
      },
      "outputs": [],
      "source": [
        "def cross_entropy_with_reshape(pred, target, ignore_index=-100, label_smoothing=0.0):\n",
        "    \"\"\"\n",
        "    pred - BatchSize x TargetLen x VocabSize\n",
        "    target - BatchSize x TargetLen\n",
        "    \"\"\"\n",
        "    pred_flat = pred.view(-1, pred.shape[-1])  # BatchSize*TargetLen x VocabSize\n",
        "    target_flat = target.reshape(-1)  # BatchSize*TargetLen\n",
        "    return F.cross_entropy(pred_flat,\n",
        "                           target_flat,\n",
        "                           ignore_index=ignore_index,\n",
        "                           label_smoothing=label_smoothing)"
      ]
    },
    {
      "cell_type": "code",
      "execution_count": null,
      "metadata": {},
      "outputs": [],
      "source": [
        "def get_lr_scheduler(optimizer):\n",
        "    return torch.optim.lr_scheduler.ReduceLROnPlateau(optimizer,\n",
        "                                                      patience=20,\n",
        "                                                      factor=0.5,\n",
        "                                                      verbose=True)"
      ]
    },
    {
      "cell_type": "markdown",
      "metadata": {},
      "source": [
        "# Dataset creation"
      ]
    },
    {
      "cell_type": "code",
      "execution_count": null,
      "metadata": {
        "execution": {
          "iopub.execute_input": "2024-06-10T00:19:20.473507Z",
          "iopub.status.busy": "2024-06-10T00:19:20.472824Z",
          "iopub.status.idle": "2024-06-10T00:19:20.504341Z",
          "shell.execute_reply": "2024-06-10T00:19:20.503492Z",
          "shell.execute_reply.started": "2024-06-10T00:19:20.473470Z"
        },
        "id": "-V6BX73lF0Xy",
        "metadata": {},
        "trusted": true
      },
      "outputs": [],
      "source": [
        "train_total = 5_237_584\n",
        "val_total = 9_416"
      ]
    },
    {
      "cell_type": "code",
      "execution_count": null,
      "metadata": {
        "execution": {
          "iopub.execute_input": "2024-06-10T00:19:21.344640Z",
          "iopub.status.busy": "2024-06-10T00:19:21.343970Z",
          "iopub.status.idle": "2024-06-10T00:23:23.572168Z",
          "shell.execute_reply": "2024-06-10T00:23:23.571108Z",
          "shell.execute_reply.started": "2024-06-10T00:19:21.344614Z"
        },
        "id": "-_dw9FNUF0Xy",
        "metadata": {},
        "trusted": true
      },
      "outputs": [],
      "source": [
        "gridname_to_grid_path = os.path.join(DATA_ROOT, \"gridname_to_grid.json\")\n",
        "voc_path=os.path.join(DATA_ROOT, \"voc.txt\")\n",
        "char_tokenizer = CharLevelTokenizerv2(voc_path)\n",
        "kb_tokenizer = KeyboardTokenizerv1()\n",
        "\n",
        "\n",
        "train_transform, val_transform = get_transforms(\n",
        "    gridname_to_grid_path=gridname_to_grid_path,\n",
        "    grid_names=[GRID_NAME],\n",
        "    transform_name=TRANSFORM_NAME,\n",
        "    char_tokenizer=char_tokenizer,\n",
        "    uniform_noise_range=NOISE_RANGE,\n",
        "    include_time=USE_TIME,\n",
        "    include_velocities=USE_VELOCITY,\n",
        "    include_accelerations=USE_ACCELERATION,\n",
        "    dist_weights_func=DIST_WEIGHTS_FUNC,\n",
        "    ds_paths_list=DS_PATHS.values(),\n",
        "    totals=(train_total, val_total)\n",
        ")"
      ]
    },
    {
      "cell_type": "code",
      "execution_count": null,
      "metadata": {
        "execution": {
          "iopub.execute_input": "2024-06-10T00:23:23.574928Z",
          "iopub.status.busy": "2024-06-10T00:23:23.574183Z",
          "iopub.status.idle": "2024-06-10T00:27:09.156518Z",
          "shell.execute_reply": "2024-06-10T00:27:09.155582Z",
          "shell.execute_reply.started": "2024-06-10T00:23:23.574893Z"
        },
        "id": "TGwpWi63F0Xy",
        "metadata": {},
        "trusted": true
      },
      "outputs": [],
      "source": [
        "train_dataset = CurveDataset(\n",
        "    data_path=DS_PATHS['train'],\n",
        "    store_gnames=False,\n",
        "    init_transform=None,\n",
        "    get_item_transform=train_transform,\n",
        "    total=train_total  # 349172\n",
        ")\n",
        "\n",
        "val_dataset = CurveDataset(\n",
        "    data_path=DS_PATHS['val'],\n",
        "    store_gnames=False,\n",
        "    init_transform=None,\n",
        "    get_item_transform=val_transform,\n",
        "    total=val_total  # 349172\n",
        ")"
      ]
    },
    {
      "cell_type": "markdown",
      "metadata": {},
      "source": [
        "# WORD_PAD_IDX definition\n"
      ]
    },
    {
      "cell_type": "code",
      "execution_count": 6,
      "metadata": {
        "id": "erWk-nrsF0Xz"
      },
      "outputs": [],
      "source": [
        "WORD_PAD_IDX = char_tokenizer.char_to_idx['<pad>']"
      ]
    },
    {
      "cell_type": "markdown",
      "metadata": {},
      "source": [
        "# Random seed"
      ]
    },
    {
      "cell_type": "code",
      "execution_count": null,
      "metadata": {
        "execution": {
          "iopub.execute_input": "2024-06-10T00:27:09.191246Z",
          "iopub.status.busy": "2024-06-10T00:27:09.190880Z",
          "iopub.status.idle": "2024-06-10T00:27:09.222750Z",
          "shell.execute_reply": "2024-06-10T00:27:09.222037Z",
          "shell.execute_reply.started": "2024-06-10T00:27:09.191213Z"
        },
        "id": "eaFF058bF0X0",
        "trusted": true
      },
      "outputs": [],
      "source": [
        "init_random_seed(RANDOM_SEED)"
      ]
    },
    {
      "cell_type": "markdown",
      "metadata": {},
      "source": [
        "# Model components"
      ]
    },
    {
      "cell_type": "code",
      "execution_count": null,
      "metadata": {
        "execution": {
          "iopub.execute_input": "2024-06-10T00:27:09.224196Z",
          "iopub.status.busy": "2024-06-10T00:27:09.223864Z",
          "iopub.status.idle": "2024-06-10T00:27:09.252359Z",
          "shell.execute_reply": "2024-06-10T00:27:09.251522Z",
          "shell.execute_reply.started": "2024-06-10T00:27:09.224108Z"
        },
        "id": "tVCLlhOlF0X0",
        "trusted": true
      },
      "outputs": [],
      "source": [
        "# device = torch.device('cuda' if torch.cuda.is_available() else 'cpu')\n",
        "device = torch.device('cuda')"
      ]
    },
    {
      "cell_type": "code",
      "execution_count": null,
      "metadata": {
        "execution": {
          "iopub.execute_input": "2024-06-10T00:27:09.285512Z",
          "iopub.status.busy": "2024-06-10T00:27:09.285246Z",
          "iopub.status.idle": "2024-06-10T00:27:09.314720Z",
          "shell.execute_reply": "2024-06-10T00:27:09.313821Z",
          "shell.execute_reply.started": "2024-06-10T00:27:09.285490Z"
        },
        "id": "f0tNnyJtF0X2",
        "trusted": true
      },
      "outputs": [],
      "source": [
        "collate_fn = CollateFnV2(\n",
        "    word_pad_idx = WORD_PAD_IDX, batch_first = False)"
      ]
    },
    {
      "cell_type": "markdown",
      "metadata": {},
      "source": [
        "# Lightning Module; Trainig "
      ]
    },
    {
      "cell_type": "code",
      "execution_count": null,
      "metadata": {
        "execution": {
          "iopub.execute_input": "2024-06-10T00:27:10.013563Z",
          "iopub.status.busy": "2024-06-10T00:27:10.012958Z",
          "iopub.status.idle": "2024-06-10T00:27:12.965500Z",
          "shell.execute_reply": "2024-06-10T00:27:12.964598Z",
          "shell.execute_reply.started": "2024-06-10T00:27:10.013528Z"
        },
        "id": "vK4FnTm-F0YR",
        "trusted": true
      },
      "outputs": [],
      "source": [
        "from lightning import LightningModule\n",
        "from lightning import Trainer\n",
        "from lightning.pytorch.callbacks.early_stopping import EarlyStopping\n",
        "from lightning.pytorch.callbacks import ModelCheckpoint\n",
        "from lightning.pytorch import loggers as pl_loggers\n",
        "import torchmetrics\n",
        "\n",
        "\n",
        "from model import MODEL_GETTERS_DICT\n",
        "\n",
        "# ! Make sure:\n",
        "# * Add metrics\n",
        "\n",
        "#! Maybe store:\n",
        "# * batch_size\n",
        "# * early_stopping_patience\n",
        "\n",
        "#! Maybe:\n",
        "# * Checpointing by condition: if model improved on val_loss and val_loss < max_val_loss_to_save\n",
        "\n",
        "\n",
        "class LitNeuroswipeModel(LightningModule):\n",
        "    def __init__(self, model_name: str, n_coord_feats: int, criterion,\n",
        "                 num_classes: int,\n",
        "                 train_batch_size: int = None,  # to be able to know batch size from checkpoint\n",
        "                 criterion_ignore_index: int = -100, optim_kwargs = None,\n",
        "                 optimizer_ctor=None, lr_scheduler_ctor=None, label_smoothing=0.0,\n",
        "                 ) -> None:\n",
        "        super().__init__()\n",
        "\n",
        "        self.save_hyperparameters(ignore = [\"criterion\", 'lr_scheduler_ctor', 'optimizer_ctor'])\n",
        "\n",
        "        self.optim_kwargs = optim_kwargs or dict(lr=1e-4, weight_decay=0)\n",
        "\n",
        "        self.model_name = model_name\n",
        "        self.train_batch_size = train_batch_size\n",
        "        self.label_smoothing = label_smoothing\n",
        "        self.criterion_ignore_index = criterion_ignore_index\n",
        "\n",
        "        self.optimizer_ctor = optimizer_ctor\n",
        "        self.lr_scheduler_ctor = lr_scheduler_ctor\n",
        "\n",
        "        self.model = MODEL_GETTERS_DICT[model_name](n_coord_feats=n_coord_feats)\n",
        "        self.criterion = criterion\n",
        "\n",
        "        self.train_token_acc = torchmetrics.classification.Accuracy(\n",
        "            task=\"multiclass\", num_classes=num_classes, ignore_index=criterion_ignore_index)\n",
        "        self.val_token_acc = torchmetrics.classification.Accuracy(\n",
        "            task=\"multiclass\", num_classes=num_classes, ignore_index=criterion_ignore_index)\n",
        "        self.train_token_f1 = torchmetrics.classification.F1Score(\n",
        "            task=\"multiclass\", num_classes=num_classes, ignore_index=criterion_ignore_index)\n",
        "        self.val_token_f1 = torchmetrics.classification.F1Score(\n",
        "            task=\"multiclass\", num_classes=num_classes, ignore_index=criterion_ignore_index)\n",
        "\n",
        "    def forward(self, encoder_in, y, encoder_in_pad_mask, y_pad_mask):\n",
        "        return self.model.forward(encoder_in, y, encoder_in_pad_mask, y_pad_mask)\n",
        "\n",
        "    def configure_optimizers(self):\n",
        "        optimizer = self.optimizer_ctor(self.parameters(), **self.optim_kwargs)\n",
        "\n",
        "        optimizers_configuration = {'optimizer': optimizer}\n",
        "\n",
        "        if self.lr_scheduler_ctor:\n",
        "            lr_scheduler = self.lr_scheduler_ctor(optimizer)\n",
        "            optimizers_configuration['lr_scheduler'] = lr_scheduler\n",
        "            optimizers_configuration['monitor'] = 'val_loss'\n",
        "\n",
        "        return optimizers_configuration\n",
        "\n",
        "\n",
        "    def training_step(self, batch, batch_idx):\n",
        "        batch_x, batch_y = batch\n",
        "\n",
        "        batch_size = batch_y.shape[-1]\n",
        "\n",
        "        # batch_x, batch_y = move_all_to_device(batch_x, batch_y, self.device)\n",
        "\n",
        "        # * batch_x is a Tuple of (curve_traj_feats, curve_kb_tokens,\n",
        "        #   decoder_in, swipe_pad_mask, dec_seq_pad_mask).\n",
        "        # * batch_y is decoder_out.\n",
        "\n",
        "        # preds.shape = (chars_seq_len, batch_size, n_classes)\n",
        "\n",
        "        encoder_in, decoder_in, swipe_pad_mask, dec_seq_pad_mask = batch_x\n",
        "\n",
        "        pred = self.forward(*batch_x)\n",
        "\n",
        "        loss = self.criterion(pred, batch_y, ignore_index=self.criterion_ignore_index,\n",
        "                              label_smoothing=self.label_smoothing)\n",
        "\n",
        "\n",
        "        argmax_pred = torch.argmax(pred, dim=2)\n",
        "        wl_acccuracy = get_word_level_accuracy(\n",
        "            argmax_pred.T, batch_y.T, pad_token = self.criterion_ignore_index, mask = dec_seq_pad_mask)\n",
        "\n",
        "\n",
        "        flat_y = batch_y.reshape(-1)\n",
        "        n_classes = pred.shape[-1]\n",
        "        flat_preds = pred.reshape(-1, n_classes)\n",
        "\n",
        "        self.train_token_acc(flat_preds, flat_y)\n",
        "        self.log('train_token_level_accuracy', self.train_token_acc, on_step=True, on_epoch=False)\n",
        "\n",
        "        self.train_token_f1(flat_preds, flat_y)\n",
        "        self.log('train_token_level_f1', self.train_token_f1, on_step=True, on_epoch=False)\n",
        "\n",
        "\n",
        "        self.log(\"train_word_level_accuracy\", wl_acccuracy, on_step=True, on_epoch=True,\n",
        "                 prog_bar=True, logger=True, batch_size = batch_size)\n",
        "\n",
        "        self.log(\"train_loss\", loss, on_step=True, on_epoch=True,\n",
        "                 prog_bar=True, logger=True, batch_size = batch_size)\n",
        "\n",
        "        return loss\n",
        "\n",
        "    def validation_step(self, batch, batch_idx):\n",
        "        batch_x, batch_y = batch\n",
        "        batch_size = batch_y.shape[-1]\n",
        "        # batch_x, batch_y = move_all_to_device(batch_x, batch_y, self.device)\n",
        "        encoder_in, decoder_in, swipe_pad_mask, dec_seq_pad_mask = batch_x\n",
        "        pred = self.forward(*batch_x)\n",
        "        loss = self.criterion(pred, batch_y, ignore_index=self.criterion_ignore_index,\n",
        "                              label_smoothing=self.label_smoothing)\n",
        "        argmax_pred = torch.argmax(pred, dim=2)\n",
        "        wl_acccuracy = get_word_level_accuracy(\n",
        "            argmax_pred.T, batch_y.T, pad_token = self.criterion_ignore_index, mask = dec_seq_pad_mask)\n",
        "\n",
        "\n",
        "        flat_y = batch_y.reshape(-1)\n",
        "        n_classes = pred.shape[-1]\n",
        "        flat_preds = pred.reshape(-1, n_classes)\n",
        "\n",
        "\n",
        "        self.val_token_acc(flat_preds, flat_y)\n",
        "        self.log('val_token_level_accuracy', self.train_token_acc, on_step=False, on_epoch=True)\n",
        "\n",
        "        self.val_token_f1(flat_preds, flat_y)\n",
        "        self.log('val_token_level_f1', self.train_token_f1, on_step=False, on_epoch=True)\n",
        "\n",
        "\n",
        "\n",
        "        self.log(\"val_word_level_accuracy\", wl_acccuracy, on_step=False, on_epoch=True,\n",
        "                 prog_bar=True, logger=True, batch_size = batch_size)\n",
        "        self.log(\"val_loss\", loss, on_step=False, on_epoch=True, prog_bar=True,\n",
        "                 logger=True, batch_size = batch_size)\n",
        "        return loss\n",
        "\n",
        "\n",
        "tb_logger = pl_loggers.TensorBoardLogger(save_dir=LOG_DIR, name=EXPERIMENT_NAME)\n",
        "\n",
        "early_stopping_cb = EarlyStopping(\n",
        "    monitor='val_loss', mode = 'min', patience=35)\n",
        "\n",
        "model_checkpoint_cb = ModelCheckpoint(\n",
        "    monitor='val_loss', mode = 'min', save_top_k=10,\n",
        "    dirpath='checkpoints/', filename=f'{MODEL_NAME}-{GRID_NAME}--' + '{epoch}-{val_loss:.3f}-{val_word_level_accuracy:.3f}')\n",
        "\n",
        "# It's more reliable to continue training from epoch-end-checkpoints\n",
        "model_checkpoint_on_train_epoch_end = ModelCheckpoint(\n",
        "    save_on_train_epoch_end = True, dirpath='checkpoint_epoch_end/',\n",
        "    save_top_k=-1,\n",
        "    filename=f'{MODEL_NAME}-{GRID_NAME}--' + '{epoch}-{val_loss:.3f}-{val_word_level_accuracy:.3f}')"
      ]
    },
    {
      "cell_type": "code",
      "execution_count": null,
      "metadata": {
        "execution": {
          "iopub.execute_input": "2024-06-10T00:27:12.967068Z",
          "iopub.status.busy": "2024-06-10T00:27:12.966727Z",
          "iopub.status.idle": "2024-06-10T00:27:13.014660Z",
          "shell.execute_reply": "2024-06-10T00:27:13.013879Z",
          "shell.execute_reply.started": "2024-06-10T00:27:12.967042Z"
        },
        "id": "SA6XdkHoF0YT",
        "trusted": true
      },
      "outputs": [],
      "source": [
        "# ls neuroswipe/src/checkpoints"
      ]
    },
    {
      "cell_type": "code",
      "execution_count": null,
      "metadata": {
        "execution": {
          "iopub.execute_input": "2024-06-10T00:27:13.016479Z",
          "iopub.status.busy": "2024-06-10T00:27:13.016163Z",
          "iopub.status.idle": "2024-06-10T00:27:13.065084Z",
          "shell.execute_reply": "2024-06-10T00:27:13.064155Z",
          "shell.execute_reply.started": "2024-06-10T00:27:13.016449Z"
        },
        "id": "gEDOkw4uF0YU",
        "trusted": true
      },
      "outputs": [],
      "source": [
        "train_loader = DataLoader(\n",
        "    train_dataset, batch_size=TRAIN_BATCH_SIZE, shuffle=True,\n",
        "    num_workers=DATALOADER_NUM_WORKERS, persistent_workers = True,\n",
        "    collate_fn=collate_fn)\n",
        "\n",
        "val_loader = DataLoader(val_dataset, batch_size=VAL_BATCH_SIZE, shuffle=False,\n",
        "                        num_workers=DATALOADER_NUM_WORKERS, persistent_workers = True,\n",
        "                        collate_fn=collate_fn)"
      ]
    },
    {
      "cell_type": "code",
      "execution_count": null,
      "metadata": {
        "id": "ouPp6P_HF0YU"
      },
      "outputs": [],
      "source": []
    },
    {
      "cell_type": "code",
      "execution_count": null,
      "metadata": {
        "execution": {
          "iopub.execute_input": "2024-06-10T00:27:13.066440Z",
          "iopub.status.busy": "2024-06-10T00:27:13.066111Z",
          "iopub.status.idle": "2024-06-10T00:27:13.114186Z",
          "shell.execute_reply": "2024-06-10T00:27:13.113328Z",
          "shell.execute_reply.started": "2024-06-10T00:27:13.066385Z"
        },
        "id": "FkiKPY8kF0YV",
        "trusted": true
      },
      "outputs": [],
      "source": [
        "from lightning.pytorch.callbacks import Callback\n",
        "\n",
        "class EmptyCudaCacheCallback(Callback):\n",
        "    def on_train_epoch_end(self, trainer, pl_module):\n",
        "        torch.cuda.empty_cache()\n",
        "\n",
        "epmty_cuda_cache_cb = EmptyCudaCacheCallback()"
      ]
    },
    {
      "cell_type": "code",
      "execution_count": null,
      "metadata": {
        "id": "1dhaUOBjF0YV",
        "trusted": true
      },
      "outputs": [],
      "source": []
    },
    {
      "cell_type": "code",
      "execution_count": null,
      "metadata": {
        "execution": {
          "iopub.execute_input": "2024-06-10T00:27:13.115629Z",
          "iopub.status.busy": "2024-06-10T00:27:13.115301Z"
        },
        "id": "917q2A2qF0YV",
        "trusted": true
      },
      "outputs": [],
      "source": [
        "label_smoothing = 0.045\n",
        "\n",
        "ckpt_path = None if CKPT_FNAME is None else fr'./checkpoint_epoch_end/{CKPT_FNAME}'\n",
        "\n",
        "pl_model = LitNeuroswipeModel(\n",
        "    model_name = MODEL_NAME, criterion = cross_entropy_with_reshape, n_coord_feats=N_COORD_FEATS,\n",
        "    num_classes = 35,  # = len(char_tokenizer.idx_to_char) - len(['<pad>', '<unk>']) = 37 - 2\n",
        "    train_batch_size = TRAIN_BATCH_SIZE,\n",
        "    criterion_ignore_index = WORD_PAD_IDX,\n",
        "    optim_kwargs = dict(lr=1e-4, weight_decay=0),\n",
        "    optimizer_ctor=torch.optim.Adam, lr_scheduler_ctor=get_lr_scheduler, label_smoothing=label_smoothing,\n",
        ")\n",
        "\n",
        "trainer = Trainer(\n",
        "#     limit_train_batches = 400,  # for validating code before actual training\n",
        "    log_every_n_steps = 100,\n",
        "    num_sanity_val_steps=0,\n",
        "    accelerator = 'gpu',\n",
        "    # max_epochs=100,\n",
        "    callbacks=[\n",
        "        # early_stopping_cb,\n",
        "        model_checkpoint_cb,\n",
        "        model_checkpoint_on_train_epoch_end, epmty_cuda_cache_cb,\n",
        "    ],\n",
        "    logger=tb_logger,\n",
        "    val_check_interval=3000,\n",
        ")\n",
        "\n",
        "trainer.fit(pl_model, train_loader, val_loader,\n",
        "            ckpt_path = ckpt_path\n",
        "           )"
      ]
    },
    {
      "cell_type": "code",
      "execution_count": null,
      "metadata": {
        "id": "LRiKvQbRF0YW"
      },
      "outputs": [],
      "source": []
    },
    {
      "cell_type": "code",
      "execution_count": null,
      "metadata": {
        "id": "fxUYMdKkF0YW"
      },
      "outputs": [],
      "source": []
    }
  ],
  "metadata": {
    "colab": {
      "provenance": []
    },
    "kaggle": {
      "accelerator": "none",
      "dataSources": [],
      "dockerImageVersionId": 30733,
      "isGpuEnabled": false,
      "isInternetEnabled": true,
      "language": "python",
      "sourceType": "notebook"
    },
    "kernelspec": {
      "display_name": "Python 3",
      "language": "python",
      "name": "python3"
    },
    "language_info": {
      "codemirror_mode": {
        "name": "ipython",
        "version": 3
      },
      "file_extension": ".py",
      "mimetype": "text/x-python",
      "name": "python",
      "nbconvert_exporter": "python",
      "pygments_lexer": "ipython3",
      "version": "3.11.5"
    }
  },
  "nbformat": 4,
  "nbformat_minor": 0
}
