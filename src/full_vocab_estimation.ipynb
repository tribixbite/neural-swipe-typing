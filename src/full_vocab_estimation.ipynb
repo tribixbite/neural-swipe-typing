{
 "cells": [
  {
   "cell_type": "code",
   "execution_count": null,
   "metadata": {},
   "outputs": [],
   "source": [
    "%load_ext autoreload\n",
    "%autoreload 2"
   ]
  },
  {
   "cell_type": "code",
   "execution_count": null,
   "metadata": {},
   "outputs": [],
   "source": [
    "import os\n",
    "\n",
    "from torch.utils.data import DataLoader\n",
    "\n",
    "from full_vocab_estimation import estimate_probs_of_words\n",
    "from model import MODEL_GETTERS_DICT\n",
    "from dataset import CurveDataset, CollateFn\n",
    "from feature_extractors import get_transforms\n",
    "from feature_extractors import weights_function_v1, weights_function_v1_softmax\n",
    "from ns_tokenizers import CharLevelTokenizerv2, KeyboardTokenizerv1"
   ]
  },
  {
   "cell_type": "code",
   "execution_count": null,
   "metadata": {},
   "outputs": [],
   "source": [
    "######### Comand line arguments emulation #########\n",
    "\n",
    "MODEL_NAME = \"v2_weighted_transformer_bigger\"\n",
    "GRID_NAME = \"default\"\n",
    "CPT_PATH = r'/home/proshian/Downloads/weighted_transformer_bigger-sigmoid--epoch=26.pt'  # r'/kaggle/input/weighted-transformer-bigger-sigmoid-epoch26-pt/weighted_transformer_bigger-sigmoid--epoch26.pt'\n",
    "TRANSFORM_NAME =  \"traj_feats_and_distances\"  # \"traj_feats_and_nearest_key\"\n",
    "DIST_WEIGHTS_FUNC_NAME =  \"weights_function_v1_softmax\"  # 'weights_function_v1' \n",
    "DATA_ROOT = \"../data/data_separated_grid\"\n",
    "DEVICE  = 'cpu'  # 'cuda'\n",
    "BATCH_SIZE = 2"
   ]
  },
  {
   "cell_type": "code",
   "execution_count": null,
   "metadata": {},
   "outputs": [],
   "source": [
    "######### Other constants #########\n",
    "\n",
    "DIST_WEIGHTS_FUNCS_DICT = {\n",
    "    'weights_function_v1_softmax': weights_function_v1_softmax,\n",
    "    'weights_function_v1': weights_function_v1\n",
    "}\n",
    "\n",
    "GRID_NAME_TO_DS_PATHS = {\n",
    "    \"extra\": {\n",
    "        \"train\": os.path.join(DATA_ROOT, \"train__extra_only_no_errors__2023_11_01__19_49_14.jsonl\"),\n",
    "        \"val\": os.path.join(DATA_ROOT, \"valid__in_train_format__extra_only.jsonl\")\n",
    "    },\n",
    "    \"default\": {\n",
    "        \"train\": os.path.join(DATA_ROOT, \"train__default_only_no_errors__2023_10_31__03_26_16.jsonl\"),\n",
    "        \"val\": os.path.join(DATA_ROOT, \"valid__in_train_format__default_only.jsonl\")\n",
    "    }\n",
    "}\n",
    "\n",
    "\n",
    "DS_PATHS =  GRID_NAME_TO_DS_PATHS[GRID_NAME]"
   ]
  },
  {
   "cell_type": "code",
   "execution_count": null,
   "metadata": {},
   "outputs": [],
   "source": [
    "DIST_WEIGHTS_FUNC = DIST_WEIGHTS_FUNCS_DICT[DIST_WEIGHTS_FUNC_NAME]"
   ]
  },
  {
   "cell_type": "code",
   "execution_count": null,
   "metadata": {},
   "outputs": [],
   "source": [
    "gridname_to_grid_path = os.path.join(DATA_ROOT, \"gridname_to_grid.json\")\n",
    "voc_path=os.path.join(DATA_ROOT, \"voc.txt\")\n",
    "char_tokenizer = CharLevelTokenizerv2(voc_path)\n",
    "kb_tokenizer = KeyboardTokenizerv1()"
   ]
  },
  {
   "cell_type": "code",
   "execution_count": null,
   "metadata": {},
   "outputs": [],
   "source": [
    "_, val_transform = get_transforms(\n",
    "    gridname_to_grid_path=gridname_to_grid_path,\n",
    "    grid_name=GRID_NAME,\n",
    "    transform_name=TRANSFORM_NAME,\n",
    "    char_tokenizer=char_tokenizer,\n",
    "    dist_weights_func=DIST_WEIGHTS_FUNC,\n",
    ")"
   ]
  },
  {
   "cell_type": "code",
   "execution_count": null,
   "metadata": {},
   "outputs": [],
   "source": [
    "val_dataset = CurveDataset(\n",
    "    data_path=DS_PATHS['val'],\n",
    "    store_gnames=False,\n",
    "    init_transform=None,\n",
    "    get_item_transform=val_transform,\n",
    "    # total=val_total  # 9416\n",
    ")"
   ]
  },
  {
   "cell_type": "code",
   "execution_count": null,
   "metadata": {},
   "outputs": [],
   "source": []
  },
  {
   "cell_type": "code",
   "execution_count": null,
   "metadata": {},
   "outputs": [],
   "source": [
    "dataloader_workers_n = 4\n",
    "\n",
    "collate_fn = CollateFn(\n",
    "    word_pad_idx = char_tokenizer.char_to_idx['<pad>'], batch_first = False)\n",
    "\n",
    "val_loader = DataLoader(val_dataset, batch_size=BATCH_SIZE, shuffle=False,\n",
    "                        num_workers=dataloader_workers_n, persistent_workers = True, \n",
    "                        collate_fn=collate_fn)"
   ]
  },
  {
   "cell_type": "code",
   "execution_count": null,
   "metadata": {},
   "outputs": [],
   "source": [
    "model = MODEL_GETTERS_DICT[MODEL_NAME](DEVICE, CPT_PATH).eval()"
   ]
  },
  {
   "cell_type": "code",
   "execution_count": null,
   "metadata": {},
   "outputs": [],
   "source": [
    "with open(voc_path, 'r') as f:\n",
    "    voc = f.read().splitlines()"
   ]
  },
  {
   "cell_type": "code",
   "execution_count": null,
   "metadata": {},
   "outputs": [],
   "source": [
    "word_lsts = [voc[:3] for _ in val_dataset]\n",
    "\n",
    "word_lsts_loader = DataLoader(word_lsts, batch_size=BATCH_SIZE, shuffle=False,\n",
    "                              num_workers=dataloader_workers_n, persistent_workers = True)"
   ]
  },
  {
   "cell_type": "code",
   "execution_count": null,
   "metadata": {},
   "outputs": [],
   "source": [
    "probs = estimate_probs_of_words(model, val_loader, \n",
    "                                word_lsts_loader, \n",
    "                                char_tokenizer, batch_first=False, device=DEVICE)"
   ]
  },
  {
   "cell_type": "code",
   "execution_count": null,
   "metadata": {},
   "outputs": [],
   "source": [
    "probs.shape"
   ]
  },
  {
   "cell_type": "code",
   "execution_count": null,
   "metadata": {},
   "outputs": [],
   "source": [
    "import torch\n",
    "torch.exp(probs)"
   ]
  },
  {
   "cell_type": "code",
   "execution_count": null,
   "metadata": {},
   "outputs": [],
   "source": []
  }
 ],
 "metadata": {
  "kernelspec": {
   "display_name": "Python 3",
   "language": "python",
   "name": "python3"
  },
  "language_info": {
   "codemirror_mode": {
    "name": "ipython",
    "version": 3
   },
   "file_extension": ".py",
   "mimetype": "text/x-python",
   "name": "python",
   "nbconvert_exporter": "python",
   "pygments_lexer": "ipython3",
   "version": "3.10.12"
  }
 },
 "nbformat": 4,
 "nbformat_minor": 2
}
