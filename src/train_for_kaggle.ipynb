{
 "cells": [
  {
   "cell_type": "code",
   "execution_count": null,
   "metadata": {
    "execution": {
     "iopub.execute_input": "2025-07-18T08:51:49.717603Z",
     "iopub.status.busy": "2025-07-18T08:51:49.717402Z",
     "iopub.status.idle": "2025-07-18T08:51:49.731912Z",
     "shell.execute_reply": "2025-07-18T08:51:49.731153Z",
     "shell.execute_reply.started": "2025-07-18T08:51:49.717586Z"
    },
    "trusted": true
   },
   "outputs": [],
   "source": [
    "ROOT_DIR = \"/kaggle/working\"\n",
    "GIT_CHECKOUT_ARG = \"refactor-model-module\""
   ]
  },
  {
   "cell_type": "code",
   "execution_count": null,
   "metadata": {
    "execution": {
     "iopub.execute_input": "2025-07-18T08:51:49.732803Z",
     "iopub.status.busy": "2025-07-18T08:51:49.732606Z",
     "iopub.status.idle": "2025-07-18T08:52:38.200570Z",
     "shell.execute_reply": "2025-07-18T08:52:38.199695Z",
     "shell.execute_reply.started": "2025-07-18T08:51:49.732777Z"
    },
    "trusted": true
   },
   "outputs": [],
   "source": [
    "# Clone repo and download dataset\n",
    "\n",
    "import os\n",
    "\n",
    "if not os.path.exists(f\"{ROOT_DIR}/neural-swipe-typing\"):\n",
    "    !git clone https://github.com/proshian/neural-swipe-typing.git {ROOT_DIR}/neural-swipe-typing\n",
    "    %cd {ROOT_DIR}/neural-swipe-typing\n",
    "    !git checkout {GIT_CHECKOUT_ARG}\n",
    "\n",
    "if not os.path.exists(f\"{ROOT_DIR}/neural-swipe-typing/data/data_preprocessed/valid.jsonl\"):\n",
    "    %cd {ROOT_DIR}/neural-swipe-typing/src\n",
    "    !python ./data_obtaining_and_preprocessing/download_dataset_preprocessed.py\n",
    "    %cd {ROOT_DIR}/neural-swipe-typing"
   ]
  },
  {
   "cell_type": "code",
   "execution_count": null,
   "metadata": {
    "_cell_guid": "b1076dfc-b9ad-4769-8c92-a6c4dae69d19",
    "_uuid": "8f2839f25d086af736a60e9eeb907d3b93b6e0e5",
    "execution": {
     "iopub.execute_input": "2025-07-18T08:52:38.201789Z",
     "iopub.status.busy": "2025-07-18T08:52:38.201562Z",
     "iopub.status.idle": "2025-07-18T08:52:38.207235Z",
     "shell.execute_reply": "2025-07-18T08:52:38.206456Z",
     "shell.execute_reply.started": "2025-07-18T08:52:38.201741Z"
    },
    "trusted": true
   },
   "outputs": [],
   "source": [
    "%cd {ROOT_DIR}/neural-swipe-typing"
   ]
  },
  {
   "cell_type": "code",
   "execution_count": null,
   "metadata": {
    "execution": {
     "iopub.execute_input": "2025-07-18T09:23:05.571654Z",
     "iopub.status.busy": "2025-07-18T09:23:05.570965Z",
     "iopub.status.idle": "2025-07-18T09:23:06.181268Z",
     "shell.execute_reply": "2025-07-18T09:23:06.180498Z",
     "shell.execute_reply.started": "2025-07-18T09:23:05.571610Z"
    },
    "trusted": true
   },
   "outputs": [],
   "source": [
    "# Checking out the config to make sure \"!git checkout {GIT_CHECKOUT_ARG}\" is not aborted\n",
    "!git checkout configs/train.json\n",
    "!git checkout {GIT_CHECKOUT_ARG}\n",
    "!git pull"
   ]
  },
  {
   "cell_type": "code",
   "execution_count": null,
   "metadata": {
    "execution": {
     "iopub.execute_input": "2025-07-18T09:15:30.987683Z",
     "iopub.status.busy": "2025-07-18T09:15:30.987389Z",
     "iopub.status.idle": "2025-07-18T09:15:31.107084Z",
     "shell.execute_reply": "2025-07-18T09:15:31.106333Z",
     "shell.execute_reply.started": "2025-07-18T09:15:30.987657Z"
    },
    "trusted": true
   },
   "outputs": [],
   "source": [
    "!ls  {ROOT_DIR}/neural-swipe-typing/checkpoints/epoch_end  "
   ]
  },
  {
   "cell_type": "code",
   "execution_count": null,
   "metadata": {
    "execution": {
     "iopub.execute_input": "2025-07-18T08:56:18.553204Z",
     "iopub.status.busy": "2025-07-18T08:56:18.552412Z",
     "iopub.status.idle": "2025-07-18T08:57:28.626417Z",
     "shell.execute_reply": "2025-07-18T08:57:28.625678Z",
     "shell.execute_reply.started": "2025-07-18T08:56:18.553171Z"
    },
    "trusted": true
   },
   "outputs": [],
   "source": [
    "# !!! Note: package version differ from {ROOT_DIR}/neural-swipe-typing/requirements/requirements.txt\n",
    "!pip install lightning"
   ]
  },
  {
   "cell_type": "code",
   "execution_count": null,
   "metadata": {
    "execution": {
     "iopub.execute_input": "2025-07-18T09:20:53.405225Z",
     "iopub.status.busy": "2025-07-18T09:20:53.404224Z",
     "iopub.status.idle": "2025-07-18T09:20:53.408864Z",
     "shell.execute_reply": "2025-07-18T09:20:53.408038Z",
     "shell.execute_reply.started": "2025-07-18T09:20:53.405193Z"
    },
    "trusted": true
   },
   "outputs": [],
   "source": [
    "CKPT_OF_CHOICE = None"
   ]
  },
  {
   "cell_type": "code",
   "execution_count": null,
   "metadata": {
    "execution": {
     "iopub.execute_input": "2025-07-18T09:24:20.520506Z",
     "iopub.status.busy": "2025-07-18T09:24:20.520187Z",
     "iopub.status.idle": "2025-07-18T09:24:20.529346Z",
     "shell.execute_reply": "2025-07-18T09:24:20.528607Z",
     "shell.execute_reply.started": "2025-07-18T09:24:20.520476Z"
    },
    "trusted": true
   },
   "outputs": [],
   "source": [
    "FEATURE_EXTRACTOR_NAME = \"traj_and_nearest\"\n",
    "\n",
    "\n",
    "import json\n",
    "\n",
    "\n",
    "train_config = {\n",
    "    \"num_classes\": 35,\n",
    "    \"max_out_seq_len\": 35,\n",
    "    \"grid_name\": \"default\",\n",
    "    \"grids_path\": \"./data/data_preprocessed/gridname_to_grid.json\",\n",
    "    \"trajectory_features_statistics_path\": \"./data/data_preprocessed/trajectory_features_statistics.json\",\n",
    "    \"bounding_boxes_path\": \"./data/data_preprocessed/key_bounding_boxes.json\",\n",
    "    \"keyboard_tokenizer_path\": \"./tokenizers/keyboard/ru.json\",\n",
    "    \"swipe_feature_extractor_factory_config_path\": \"./configs/feature_extractor/traj_and_nearest.json\",\n",
    "    \"swipe_point_embedder_config_path\": \"./configs/swipe_point_embedder/separate_traj_and_nearest__6_coord.json\",\n",
    "    \"dataset_paths\": {\n",
    "        \"train\": \"./data/data_preprocessed/train_filtered.jsonl\",\n",
    "        \"val\": \"./data/data_preprocessed/valid.jsonl\"\n",
    "    },\n",
    "    \"dataloader_num_workers\": 4,\n",
    "    \"train_batch_size\": 256,\n",
    "    \"val_batch_size\": 512,\n",
    "    \"vocab_path\": \"./data/data_preprocessed/voc.txt\",\n",
    "    \"train_total\": 5591814,\n",
    "    \"val_total\": 10000,\n",
    "    \"seed\": 42,\n",
    "    \"early_stopping\": {\n",
    "        \"enabled\": False,\n",
    "        \"patience\": 30\n",
    "    },\n",
    "    \"lr_scheduler\": {\n",
    "        \"type\": \"ReduceLROnPlateau\",\n",
    "        \"params\": {\n",
    "            \"factor\": 0.5,\n",
    "            \"patience\": 8\n",
    "        }\n",
    "    },\n",
    "    \"path_to_continue_checkpoint\": f\"{ROOT_DIR}/neural-swipe-typing/checkpoints/epoch_end/{CKPT_OF_CHOICE}\" if CKPT_OF_CHOICE else None,\n",
    "    \"model_name\": \"v3_nearest_and_traj_transformer_bigger\",\n",
    "    \"label_smoothing\": 0.045,\n",
    "    \"optimizer\": {\n",
    "        \"type\": \"Adam\",\n",
    "        \"params\": {\"lr\":1e-4, \"weight_decay\":0}\n",
    "    },\n",
    "    \"device\": \"cuda\"\n",
    "}\n",
    "\n",
    "\n",
    "with open(f'{ROOT_DIR}/neural-swipe-typing/configs/train.json', 'w') as f:\n",
    "    json.dump(train_config, f)\n",
    "\n",
    "\n",
    "###########################################################\n",
    "\n",
    "\n",
    "feature_extractor_config = [\n",
    "    {\n",
    "        \"type\": \"trajectory\",\n",
    "        \"params\": {\n",
    "            \"include_dt\": False,\n",
    "            \"include_velocities\": True,\n",
    "            \"include_accelerations\": True\n",
    "        }\n",
    "    },\n",
    "    {\n",
    "        \"type\": \"nearest_key\",\n",
    "        \"params\": {\n",
    "            \"use_lookup\": True\n",
    "        }\n",
    "    }\n",
    "]\n",
    "\n",
    "\n",
    "with open(f'{ROOT_DIR}/neural-swipe-typing/configs/feature_extractor/{FEATURE_EXTRACTOR_NAME}.json', 'w') as f:\n",
    "    json.dump(feature_extractor_config, f)"
   ]
  },
  {
   "cell_type": "code",
   "execution_count": null,
   "metadata": {
    "execution": {
     "iopub.execute_input": "2025-07-18T09:24:21.912062Z",
     "iopub.status.busy": "2025-07-18T09:24:21.911812Z"
    },
    "trusted": true
   },
   "outputs": [],
   "source": [
    "!python -m src.train --train_config configs/train.json"
   ]
  },
  {
   "cell_type": "code",
   "execution_count": null,
   "metadata": {
    "trusted": true
   },
   "outputs": [],
   "source": []
  }
 ],
 "metadata": {
  "kaggle": {
   "accelerator": "gpu",
   "dataSources": [],
   "dockerImageVersionId": 31090,
   "isGpuEnabled": true,
   "isInternetEnabled": true,
   "language": "python",
   "sourceType": "notebook"
  },
  "kernelspec": {
   "display_name": "Python 3",
   "language": "python",
   "name": "python3"
  },
  "language_info": {
   "codemirror_mode": {
    "name": "ipython",
    "version": 3
   },
   "file_extension": ".py",
   "mimetype": "text/x-python",
   "name": "python",
   "nbconvert_exporter": "python",
   "pygments_lexer": "ipython3",
   "version": "3.11.5"
  }
 },
 "nbformat": 4,
 "nbformat_minor": 4
}
