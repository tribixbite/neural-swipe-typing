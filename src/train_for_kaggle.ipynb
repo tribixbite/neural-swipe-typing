{
 "cells": [
  {
   "cell_type": "code",
   "execution_count": null,
   "metadata": {
    "execution": {
     "iopub.execute_input": "2025-05-25T12:48:13.325402Z",
     "iopub.status.busy": "2025-05-25T12:48:13.325131Z",
     "iopub.status.idle": "2025-05-25T12:48:13.331346Z",
     "shell.execute_reply": "2025-05-25T12:48:13.330667Z",
     "shell.execute_reply.started": "2025-05-25T12:48:13.325383Z"
    },
    "trusted": true
   },
   "outputs": [],
   "source": [
    "ROOT_DIR = \"/kaggle/working\"\n",
    "GIT_CHECKOUT_ARG = \"refactor-feature-extraction\""
   ]
  },
  {
   "cell_type": "code",
   "execution_count": null,
   "metadata": {
    "execution": {
     "iopub.execute_input": "2025-05-25T12:48:13.332590Z",
     "iopub.status.busy": "2025-05-25T12:48:13.332285Z",
     "iopub.status.idle": "2025-05-25T12:48:13.353157Z",
     "shell.execute_reply": "2025-05-25T12:48:13.352488Z",
     "shell.execute_reply.started": "2025-05-25T12:48:13.332563Z"
    },
    "trusted": true
   },
   "outputs": [],
   "source": [
    "# Clone repo and download dataset\n",
    "\n",
    "import os\n",
    "\n",
    "if not os.path.exists(f\"{ROOT_DIR}/neural-swipe-typing\"):\n",
    "    !git clone https://github.com/proshian/neural-swipe-typing.git {ROOT_DIR}/neural-swipe-typing\n",
    "    %cd {ROOT_DIR}/neural-swipe-typing\n",
    "    !git checkout {GIT_CHECKOUT_ARG}\n",
    "\n",
    "if not os.path.exists(f\"{ROOT_DIR}/neural-swipe-typing/data/data_preprocessed/valid.jsonl\"):\n",
    "    %cd {ROOT_DIR}/neural-swipe-typing/src\n",
    "    !python ./data_obtaining_and_preprocessing/download_dataset_preprocessed.py\n",
    "    %cd {ROOT_DIR}/neural-swipe-typing"
   ]
  },
  {
   "cell_type": "code",
   "execution_count": null,
   "metadata": {
    "_cell_guid": "b1076dfc-b9ad-4769-8c92-a6c4dae69d19",
    "_uuid": "8f2839f25d086af736a60e9eeb907d3b93b6e0e5",
    "execution": {
     "iopub.execute_input": "2025-05-25T12:48:13.354853Z",
     "iopub.status.busy": "2025-05-25T12:48:13.354657Z",
     "iopub.status.idle": "2025-05-25T12:48:13.370488Z",
     "shell.execute_reply": "2025-05-25T12:48:13.369803Z",
     "shell.execute_reply.started": "2025-05-25T12:48:13.354837Z"
    },
    "trusted": true
   },
   "outputs": [],
   "source": [
    "%cd {ROOT_DIR}/neural-swipe-typing"
   ]
  },
  {
   "cell_type": "code",
   "execution_count": null,
   "metadata": {
    "execution": {
     "iopub.execute_input": "2025-05-25T12:48:13.371556Z",
     "iopub.status.busy": "2025-05-25T12:48:13.371243Z"
    },
    "trusted": true
   },
   "outputs": [],
   "source": [
    "# !!! Note: package version differ from {ROOT_DIR}/neural-swipe-typing/requirements/requirements.txt\n",
    "!pip install lightning"
   ]
  },
  {
   "cell_type": "code",
   "execution_count": null,
   "metadata": {
    "trusted": true
   },
   "outputs": [],
   "source": [
    "FEATURE_EXTRACTOR_NAME = \"traj_and_nearest\"\n",
    "\n",
    "\n",
    "import json\n",
    "\n",
    "\n",
    "train_config = {\n",
    "    \"grid_name\": \"default\",\n",
    "    \"grids_path\": \"./data/data_preprocessed/gridname_to_grid.json\",\n",
    "    \"trajectory_features_statistics_path\": \"./data/data_preprocessed/trajectory_features_statistics.json\",\n",
    "    \"bounding_boxes_path\": \"./data/data_preprocessed/key_bounding_boxes.json\",\n",
    "    \"keyboard_tokenizer_path\": \"./tokenizers/keyboard/ru.json\",\n",
    "    \"swipe_feature_extractor_factory_config_path\": \"./configs/feature_extractor/traj_and_nearest.json\",\n",
    "    \"dataset_paths\": {\n",
    "        \"train\": \"./data/data_preprocessed/train_filtered.jsonl\",\n",
    "        \"val\": \"./data/data_preprocessed/valid.jsonl\"\n",
    "    },\n",
    "    \"dataloader_num_workers\": 4,\n",
    "    \"train_batch_size\": 256,\n",
    "    \"val_batch_size\": 512,\n",
    "    \"vocab_path\": \"./data/data_preprocessed/voc.txt\",\n",
    "    \"train_total\": 5591814,\n",
    "    \"val_total\": 10000,\n",
    "    \"seed\": 42,\n",
    "    \"early_stopping\": {\n",
    "        \"enabled\": True,\n",
    "        \"patience\": 30\n",
    "    },\n",
    "    \"lr_scheduler\": {\n",
    "        \"type\": \"ReduceLROnPlateau\",\n",
    "        \"params\": {\n",
    "            \"factor\": 0.5,\n",
    "            \"patience\": 8\n",
    "        }\n",
    "    },\n",
    "    \"path_to_continue_checkpoint\": None,\n",
    "    \"model_name\": \"v3_nearest_and_traj_transformer_bigger\",\n",
    "    \"label_smoothing\": 0.045,\n",
    "    \"optimizer\": {\n",
    "        \"type\": \"Adam\",\n",
    "        \"params\": {\"lr\":1e-4, \"weight_decay\":0}\n",
    "    }\n",
    "}\n",
    "\n",
    "\n",
    "with open(f'{ROOT_DIR}/neural-swipe-typing/configs/train.json', 'w') as f:\n",
    "    json.dump(train_config, f)\n",
    "\n",
    "\n",
    "\n",
    "feature_extractor_config = [\n",
    "    {\n",
    "        \"type\": \"trajectory\",\n",
    "        \"params\": {\n",
    "            \"include_dt\": False,\n",
    "            \"include_velocities\": True,\n",
    "            \"include_accelerations\": True\n",
    "        }\n",
    "    },\n",
    "    {\n",
    "        \"type\": \"nearest_key\",\n",
    "        \"params\": {\n",
    "            \"use_lookup\": True\n",
    "        }\n",
    "    }\n",
    "]\n",
    "\n",
    "\n",
    "with open(f'{ROOT_DIR}/neural-swipe-typing/configs/feature_extractor/{FEATURE_EXTRACTOR_NAME}.json', 'w') as f:\n",
    "    json.dump(feature_extractor_config, f)"
   ]
  },
  {
   "cell_type": "code",
   "execution_count": null,
   "metadata": {
    "trusted": true
   },
   "outputs": [],
   "source": [
    "!python -m src.train --train_config configs/train.json"
   ]
  },
  {
   "cell_type": "code",
   "execution_count": null,
   "metadata": {
    "trusted": true
   },
   "outputs": [],
   "source": []
  }
 ],
 "metadata": {
  "kaggle": {
   "accelerator": "gpu",
   "dataSources": [],
   "dockerImageVersionId": 31041,
   "isGpuEnabled": true,
   "isInternetEnabled": true,
   "language": "python",
   "sourceType": "notebook"
  },
  "kernelspec": {
   "display_name": "Python 3",
   "language": "python",
   "name": "python3"
  },
  "language_info": {
   "codemirror_mode": {
    "name": "ipython",
    "version": 3
   },
   "file_extension": ".py",
   "mimetype": "text/x-python",
   "name": "python",
   "nbconvert_exporter": "python",
   "pygments_lexer": "ipython3",
   "version": "3.11.11"
  }
 },
 "nbformat": 4,
 "nbformat_minor": 4
}
